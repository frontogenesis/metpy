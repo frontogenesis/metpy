{
 "cells": [
  {
   "cell_type": "code",
   "execution_count": 1,
   "metadata": {
    "slideshow": {
     "slide_type": ""
    },
    "tags": []
   },
   "outputs": [],
   "source": [
    "import numpy as np\n",
    "import cartopy.crs as ccrs\n",
    "import cartopy.feature as cfeature\n",
    "from cartopy.util import add_cyclic_point\n",
    "import matplotlib.pyplot as plt\n",
    "from siphon.catalog import TDSCatalog\n",
    "import xarray as xr\n",
    "import metpy.calc as mpcalc\n",
    "from metpy.units import units\n",
    "import ipywidgets as widgets"
   ]
  },
  {
   "cell_type": "code",
   "execution_count": 2,
   "metadata": {
    "editable": true,
    "slideshow": {
     "slide_type": ""
    },
    "tags": []
   },
   "outputs": [],
   "source": [
    "gfs_onedeg = TDSCatalog('https://thredds.ucar.edu/thredds/catalog/grib/NCEP/GFS/Global_onedeg/catalog.xml')\n",
    "latest_collection = gfs_onedeg.datasets[2]"
   ]
  },
  {
   "cell_type": "code",
   "execution_count": 3,
   "metadata": {},
   "outputs": [],
   "source": [
    "ds = xr.open_dataset(latest_collection.access_urls['OPENDAP'])"
   ]
  },
  {
   "cell_type": "markdown",
   "metadata": {},
   "source": [
    "# Fosberg Wildfire Index\n",
    "\n",
    "<p>Represents the potential for wildfires based on a combination of relative humidity, wind, and temperature.\n",
    "    It does not take into consideration non-meteorological factors such as fuels. The literature suggests values greater than 40 or 50,\n",
    "    is when fire weather concerns exist. A value of 100 is achieved when the wind is equal to or greater than 30 mph and the\n",
    "    relative humidity is closer to 0.\n",
    "</p>\n",
    "\n",
    "- [Calculation from the University of Washington](https://a.atmos.washington.edu/wrfrt/descript/definitions/fosbergindex.html)\n",
    "- [Additional Explanation from NOAA's Storm Prediction Center](https://www.spc.noaa.gov/exper/firecomp/INFO/fosbinfo.html)\n",
    "- [Operational Model Performance Research](https://www.spc.noaa.gov/publications/jirak/modelfwf.pdf)"
   ]
  },
  {
   "cell_type": "code",
   "execution_count": 4,
   "metadata": {},
   "outputs": [],
   "source": [
    "def calculate_ffwi(temperature, wind_speed, relative_humidity_percent):   \n",
    "    # Calculate moisture content (m) based on relative humidity (h) in percent\n",
    "    m = np.where(relative_humidity_percent < 10,\n",
    "                 0.03229 + 0.281073 * relative_humidity_percent - 0.000578 * relative_humidity_percent * temperature,\n",
    "                 np.where((relative_humidity_percent >= 10) & (relative_humidity_percent <= 50),\n",
    "                          2.22749 + 0.160107 * relative_humidity_percent - 0.01478 * temperature,\n",
    "                          21.0606 + 0.005565 * relative_humidity_percent ** 2 - 0.00035 * relative_humidity_percent * temperature - 0.483199 * relative_humidity_percent))\n",
    "    \n",
    "    # Calculate moisture damping coefficient (n)\n",
    "    n = 1 - 2 * (m / 30) + 1.5 * (m / 30) ** 2 - 0.5 * (m / 30) ** 3\n",
    "    \n",
    "    # Calculate FFWI\n",
    "    fwi = n * np.sqrt(1 + wind_speed ** 2) / 0.3002\n",
    "    \n",
    "    # Ensure the FFWI is within the valid range [0, 100]\n",
    "    fwi = np.maximum(0, np.minimum(100, fwi))\n",
    "    \n",
    "    return fwi"
   ]
  },
  {
   "cell_type": "code",
   "execution_count": 5,
   "metadata": {},
   "outputs": [],
   "source": [
    "# Helper function for finding proper time variable\n",
    "def find_time_var(var, time_basename='time'):\n",
    "    for coord_name in var.coords:\n",
    "        if coord_name.startswith(time_basename):\n",
    "            return coord_name\n",
    "    raise ValueError('No time variable found for ' + var.name)"
   ]
  },
  {
   "cell_type": "code",
   "execution_count": 6,
   "metadata": {},
   "outputs": [],
   "source": [
    "def update_fosberg(domain, time_index):\n",
    "    t2m = ds.Temperature_height_above_ground.sel(height_above_ground3=2.0)\n",
    "    time_coord = find_time_var(t2m)\n",
    "    t2m = t2m[{time_coord: time_index}]\n",
    "    t2m = t2m * units('K')\n",
    "    t2m = t2m.metpy.convert_units('degF')\n",
    "\n",
    "    rh2m = ds.Relative_humidity_height_above_ground.sel(height_above_ground4=2.0)\n",
    "    rh2m = rh2m[{time_coord: time_index}]\n",
    "\n",
    "    u = ds['u-component_of_wind_height_above_ground'].sel(height_above_ground2=10.0)\n",
    "    u = u[{time_coord: time_index}]\n",
    "    v = ds['u-component_of_wind_height_above_ground'].sel(height_above_ground2=10.0)\n",
    "    v = v[{time_coord: time_index}]\n",
    "    s10m = mpcalc.wind_speed(u, v)\n",
    "    s10m = s10m.metpy.convert_units('mph')\n",
    "\n",
    "    ffwi = calculate_ffwi(t2m.values, s10m.values, rh2m.values)\n",
    "\n",
    "    valid_time = (ds.time.isel(time=time_index))\n",
    "    converted_time = np.datetime_as_string(valid_time, unit='m')\n",
    "    \n",
    "    cyclic_data, cyclic_lons = add_cyclic_point(ffwi, coord=ds.lon)\n",
    "    \n",
    "    fig = plt.figure(figsize=(12, 8))\n",
    "    fig.canvas.toolbar_visible = False\n",
    "    ax = plt.axes(projection=ccrs.PlateCarree())\n",
    "    ax.add_feature(cfeature.STATES.with_scale('110m'), linewidth=0.5)\n",
    "    ax.add_feature(cfeature.COASTLINE.with_scale('110m'))\n",
    "    ax.add_feature(cfeature.OCEAN.with_scale('110m'), facecolor='lightblue', zorder=50, edgecolor='k')\n",
    "    ax.add_feature(cfeature.BORDERS.with_scale('110m'), linewidth=0.5)\n",
    "    ax.set_global() if not domain else ax.set_extent(domain)\n",
    "\n",
    "    data = ax.contourf(cyclic_lons, ds.lat, cyclic_data, levels=[i for i in range(40, 101, 5)],\n",
    "                       transform=ccrs.PlateCarree(), zorder=0, cmap='Oranges')\n",
    "    \n",
    "    plt.colorbar(data, fraction=0.02, pad=0.04)\n",
    "    ax.set_title(f\"Wildfire Favorability\", loc='left', fontsize=14, fontweight='bold')\n",
    "    \n",
    "    ax.text(1, 1.01, f'Valid Time: {converted_time}', transform=ax.transAxes, fontsize=12, \n",
    "            va='bottom', ha='right')\n",
    "    \n",
    "    ax.text(0.99, 0.02, f\"GFS Cycle: {np.datetime_as_string(ds.reftime.values, unit='m')}\", fontsize=8, \n",
    "            bbox=dict(boxstyle='round', facecolor='wheat', alpha=0.9), ha='right', va='bottom', \n",
    "            transform=ax.transAxes, zorder=60)\n",
    "    \n",
    "    fig.tight_layout()\n",
    "\n",
    "    return fig"
   ]
  },
  {
   "cell_type": "code",
   "execution_count": 7,
   "metadata": {},
   "outputs": [
    {
     "data": {
      "application/vnd.jupyter.widget-view+json": {
       "model_id": "ff581f99cc28468f844cd910cd9454da",
       "version_major": 2,
       "version_minor": 0
      },
      "text/plain": [
       "interactive(children=(Dropdown(description='Domain:', options=(('Global', []), ('North America', [-130, -65, 2…"
      ]
     },
     "metadata": {},
     "output_type": "display_data"
    }
   ],
   "source": [
    "# Build the domain dropdown\n",
    "domain = widgets.Dropdown(\n",
    "    options=[('Global', []), ('North America', [-130, -65, 22, 60]),\n",
    "             ('Europe', [-30, 60, 30, 70]), ('Australia', [110, 180, -45, -5]),\n",
    "             ('South America', [-110, -25, -40, 10])],\n",
    "    value=[],\n",
    "    description='Domain:',\n",
    ")\n",
    "\n",
    "# Define the time index slider\n",
    "time_slider = widgets.IntSlider(\n",
    "    min=0,\n",
    "    max=len(ds['time'].values) - 1,\n",
    "    step=1,\n",
    "    description='Frame:',\n",
    "    continuous_update=False,  # Update only when slider is released\n",
    "    layout=widgets.Layout(width='50%')\n",
    ")\n",
    "\n",
    "# Create an interactive widget\n",
    "interactive_plot = widgets.interactive(update_fosberg, domain=domain, time_index=time_slider)\n",
    "\n",
    "# Display the interactive widget\n",
    "display(interactive_plot)\n"
   ]
  },
  {
   "cell_type": "code",
   "execution_count": null,
   "metadata": {},
   "outputs": [],
   "source": []
  }
 ],
 "metadata": {
  "kernelspec": {
   "display_name": "Python 3 (ipykernel)",
   "language": "python",
   "name": "python3"
  },
  "language_info": {
   "codemirror_mode": {
    "name": "ipython",
    "version": 3
   },
   "file_extension": ".py",
   "mimetype": "text/x-python",
   "name": "python",
   "nbconvert_exporter": "python",
   "pygments_lexer": "ipython3",
   "version": "3.11.5"
  }
 },
 "nbformat": 4,
 "nbformat_minor": 4
}
