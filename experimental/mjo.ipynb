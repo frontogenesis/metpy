{
 "cells": [
  {
   "cell_type": "code",
   "execution_count": 2,
   "id": "9193d362-43e7-4b2f-8118-ede42a87f570",
   "metadata": {},
   "outputs": [
    {
     "name": "stdout",
     "output_type": "stream",
     "text": [
      "MJO Amplitude: 0.9433981132056605\n",
      "MJO Phase Degrees: -147.9946167919165\n",
      "MJO Phase Number: 1\n"
     ]
    }
   ],
   "source": [
    "import numpy as np\n",
    "\n",
    "def calculate_mjo(rmm1, rmm2):\n",
    "    # Calculate the MJO amplitude\n",
    "    amplitude = np.sqrt(rmm1**2 + rmm2**2)\n",
    "    \n",
    "    # Calculate the MJO phase in radians\n",
    "    phase_radians = np.arctan2(rmm2, rmm1)\n",
    "\n",
    "    # Calculate the MJO phase in degrees\n",
    "    phase_degrees = (phase_radians * (180/np.pi))\n",
    "\n",
    "    # Calculate the MJO Phase Quadrant\n",
    "    if phase_degrees >= 0 and phase_degrees < 45:\n",
    "        phase = 5\n",
    "    elif phase_degrees >= 45 and phase_degrees < 90:\n",
    "        phase = 6\n",
    "    elif phase_degrees >=90 and phase_degrees < 135:\n",
    "        phase = 7\n",
    "    elif phase_degrees >=135 and phase_degrees < 180:\n",
    "        phase = 8\n",
    "    elif phase_degrees >= -180 and phase_degrees < -135:\n",
    "        phase = 1\n",
    "    elif phase_degrees >= -135 and phase_degrees < -90:\n",
    "        phase = 2\n",
    "    elif phase_degrees >= -90 and phase_degrees < -45:\n",
    "        phase = 3\n",
    "    elif phase_degrees >= -45 and phase_degrees < 0:\n",
    "        phase = 4\n",
    "    else:\n",
    "        phase = None\n",
    "    \n",
    "    return amplitude, phase_degrees, phase\n",
    "\n",
    "# Example RMM1 and RMM2 values\n",
    "rmm1 = -0.8\n",
    "rmm2 = -0.5\n",
    "\n",
    "# Calculate the MJO amplitude and phase\n",
    "mjo_amplitude, mjo_degrees, mjo_phase = calculate_mjo(rmm1, rmm2)\n",
    "\n",
    "# Print the MJO amplitude and phase\n",
    "print(f\"MJO Amplitude: {mjo_amplitude}\")\n",
    "print(f\"MJO Phase Degrees: {mjo_degrees}\")\n",
    "print(f\"MJO Phase Number: {mjo_phase}\")"
   ]
  },
  {
   "cell_type": "code",
   "execution_count": null,
   "id": "059b65c6-0399-4734-aa76-49901e22b5aa",
   "metadata": {},
   "outputs": [],
   "source": []
  }
 ],
 "metadata": {
  "kernelspec": {
   "display_name": "Python 3 (ipykernel)",
   "language": "python",
   "name": "python3"
  },
  "language_info": {
   "codemirror_mode": {
    "name": "ipython",
    "version": 3
   },
   "file_extension": ".py",
   "mimetype": "text/x-python",
   "name": "python",
   "nbconvert_exporter": "python",
   "pygments_lexer": "ipython3",
   "version": "3.11.5"
  }
 },
 "nbformat": 4,
 "nbformat_minor": 5
}
