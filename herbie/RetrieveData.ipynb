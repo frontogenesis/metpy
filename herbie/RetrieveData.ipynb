{
 "cells": [
  {
   "cell_type": "code",
   "execution_count": 1,
   "id": "dbbcf532-2544-47d1-86c4-ef0a15279bad",
   "metadata": {},
   "outputs": [
    {
     "name": "stdout",
     "output_type": "stream",
     "text": [
      "316.2\n"
     ]
    }
   ],
   "source": [
    "import s3fs\n",
    "import numcodecs as ncd\n",
    "import numpy as np\n",
    "\n",
    "url = \"s3://hrrrzarr/sfc/20200801/20200801_00z_anl.zarr/1000mb/TMP/1000mb/TMP/4.3\"\n",
    "s3 = s3fs.S3FileSystem(anon=True)\n",
    "\n",
    "def retrieve_data(s3_url):\n",
    "    with s3.open(s3_url, 'rb') as compressed_data:\n",
    "        buffer = ncd.blosc.decompress(compressed_data.read())\n",
    "\n",
    "        dtype = \"<f2\"\n",
    "        if (\"surface/PRES\" in s3_url\n",
    "            or \"mean_sea_level/MSLMA\" in s3_url\n",
    "            or \"0C_isotherm/PRES\" in s3_url): # Pressures above 1000hPa use a larger data type\n",
    "            dtype = \"<f4\"\n",
    "\n",
    "        chunk = np.frombuffer(buffer, dtype=dtype)\n",
    "        \n",
    "        gridpoints_in_chunk = 150*150\n",
    "        number_hours = len(chunk)//gridpoints_in_chunk\n",
    "\n",
    "        if number_hours == 1: # analysis data is 2d\n",
    "            data_array = np.reshape(chunk, (150, 150))\n",
    "        else: # forecast data is 3d but of varying length in time\n",
    "            data_array = np.reshape(chunk, (number_hours, 150, 150))\n",
    "\n",
    "    return data_array\n",
    "\n",
    "chunk_data = retrieve_data(url)\n",
    "print(np.mean(chunk_data))"
   ]
  },
  {
   "cell_type": "code",
   "execution_count": null,
   "id": "dff1f231-64aa-4e75-8ea7-0361c644261c",
   "metadata": {},
   "outputs": [],
   "source": []
  }
 ],
 "metadata": {
  "kernelspec": {
   "display_name": "Python 3 (ipykernel)",
   "language": "python",
   "name": "python3"
  },
  "language_info": {
   "codemirror_mode": {
    "name": "ipython",
    "version": 3
   },
   "file_extension": ".py",
   "mimetype": "text/x-python",
   "name": "python",
   "nbconvert_exporter": "python",
   "pygments_lexer": "ipython3",
   "version": "3.9.13"
  }
 },
 "nbformat": 4,
 "nbformat_minor": 5
}
