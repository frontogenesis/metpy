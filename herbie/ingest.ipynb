{
 "cells": [
  {
   "cell_type": "code",
   "execution_count": 1,
   "id": "c290cbb4-d56a-4d57-92b6-0e833f175b1b",
   "metadata": {},
   "outputs": [
    {
     "name": "stdout",
     "output_type": "stream",
     "text": [
      " ╭─────────────────────────────────────────────────╮\n",
      " │ I'm building Herbie's default config file.      │\n",
      " ╰╥────────────────────────────────────────────────╯\n",
      " 👷🏻‍♂️\n",
      " ╭─────────────────────────────────────────────────╮\n",
      " │ You're ready to go.                             │\n",
      " │ You may edit the config file here:              │\n",
      " │ /Users/rhawthorne/.config/herbie/config.toml    │\n",
      " ╰╥────────────────────────────────────────────────╯\n",
      " 👷🏻‍♂️\n"
     ]
    }
   ],
   "source": [
    "from herbie import Herbie"
   ]
  },
  {
   "cell_type": "code",
   "execution_count": 2,
   "id": "fd4e6f4d-63e5-4ea8-8090-44c21f092e6f",
   "metadata": {},
   "outputs": [
    {
     "name": "stdout",
     "output_type": "stream",
     "text": [
      "✅ Found ┊ model=hrrr ┊ \u001b[3mproduct=sfc\u001b[0m ┊ \u001b[38;2;41;130;13m2021-Jan-01 12:00 UTC\u001b[92m F06\u001b[0m ┊ \u001b[38;2;255;153;0m\u001b[3mGRIB2 @ aws\u001b[0m ┊ \u001b[38;2;255;153;0m\u001b[3mIDX @ aws\u001b[0m\n",
      "👨🏻‍🏭 Created directory: [/Users/rhawthorne/data/hrrr/20210101]\n",
      "🚛💨  Download Progress: 100.00% of 164.9 MB\r"
     ]
    },
    {
     "data": {
      "text/plain": [
       "PosixPath('/Users/rhawthorne/data/hrrr/20210101/hrrr.t12z.wrfsfcf06.grib2')"
      ]
     },
     "execution_count": 2,
     "metadata": {},
     "output_type": "execute_result"
    }
   ],
   "source": [
    "# Herbie object for the HRRR model 6-hr surface forecast product\n",
    "H = Herbie(\n",
    "  '2021-01-01 12:00',\n",
    "  model='hrrr',\n",
    "  product='sfc',\n",
    "  fxx=6\n",
    ")\n",
    "\n",
    "# Download the full GRIB2 file\n",
    "H.download()"
   ]
  },
  {
   "cell_type": "code",
   "execution_count": 3,
   "id": "1340f232-81f3-47a3-b07a-f6b4c7eb6cab",
   "metadata": {},
   "outputs": [
    {
     "name": "stdout",
     "output_type": "stream",
     "text": [
      "✅ Found ┊ model=hrrr ┊ \u001b[3mproduct=sfc\u001b[0m ┊ \u001b[38;2;41;130;13m2021-Jan-01 12:00 UTC\u001b[92m F06\u001b[0m ┊ \u001b[38;2;255;153;0m\u001b[3mGRIB2 @ local\u001b[0m ┊ \u001b[38;2;255;153;0m\u001b[3mIDX @ aws\u001b[0m\n",
      "✅ Found ┊ model=hrrr ┊ \u001b[3mproduct=sfc\u001b[0m ┊ \u001b[38;2;41;130;13m2022-Jan-01 12:00 UTC\u001b[92m F06\u001b[0m ┊ \u001b[38;2;255;153;0m\u001b[3mGRIB2 @ aws\u001b[0m ┊ \u001b[38;2;255;153;0m\u001b[3mIDX @ aws\u001b[0m\n",
      "👨🏻‍🏭 Created directory: [/Users/rhawthorne/data/hrrr/20220101]\n",
      "🚛💨  Download Progress: 100.00% of 168.5 MB\r"
     ]
    }
   ],
   "source": [
    "herbie_instances = []\n",
    "dates_of_interest = ['2021-01-01 12:00', '2022-01-01 12:00']\n",
    "\n",
    "for date in dates_of_interest:\n",
    "    Herbie(\n",
    "        date,\n",
    "        model='hrrr',\n",
    "        fxx=6\n",
    "    ).download()"
   ]
  },
  {
   "cell_type": "code",
   "execution_count": null,
   "id": "d8873283-d98f-4ae6-a234-fff5b729b5a7",
   "metadata": {},
   "outputs": [],
   "source": []
  }
 ],
 "metadata": {
  "kernelspec": {
   "display_name": "Python 3 (ipykernel)",
   "language": "python",
   "name": "python3"
  },
  "language_info": {
   "codemirror_mode": {
    "name": "ipython",
    "version": 3
   },
   "file_extension": ".py",
   "mimetype": "text/x-python",
   "name": "python",
   "nbconvert_exporter": "python",
   "pygments_lexer": "ipython3",
   "version": "3.10.4"
  }
 },
 "nbformat": 4,
 "nbformat_minor": 5
}
