{
 "cells": [
  {
   "cell_type": "code",
   "execution_count": 1,
   "id": "077932a1-d75e-4706-ad04-a7204abe8537",
   "metadata": {},
   "outputs": [],
   "source": [
    "import matplotlib.pyplot as plt\n",
    "import cartopy.crs as crs\n",
    "import cartopy.feature as cfeature\n",
    "import numpy as np\n",
    "import cartopy.io.shapereader as shpreader\n",
    "import pandas as pd\n",
    "from metpy.cbook import get_test_data"
   ]
  },
  {
   "cell_type": "code",
   "execution_count": 2,
   "id": "c7646a3f-b0f9-4a09-9644-6753d7b87f15",
   "metadata": {},
   "outputs": [
    {
     "data": {
      "text/plain": [
       "'/Users/rhawthorne/Library/Caches/metpy/v1.3.0/us_counties_500k.dbf'"
      ]
     },
     "execution_count": 2,
     "metadata": {},
     "output_type": "execute_result"
    }
   ],
   "source": [
    "get_test_data('us_counties_500k.shp', as_file_obj=False)\n",
    "get_test_data('us_counties_500k.shx', as_file_obj=False)\n",
    "get_test_data('us_counties_500k.dbf', as_file_obj=False)"
   ]
  },
  {
   "cell_type": "code",
   "execution_count": 3,
   "id": "ee92c36d-1219-4f6d-938c-db8caaad0b29",
   "metadata": {},
   "outputs": [
    {
     "name": "stdout",
     "output_type": "stream",
     "text": [
      "Record(POLYGON ((-92.41199499999999 41.509547999999995, -92.355389 41.509646, -92.345287 41.509676999999996, -92.297494 41.509789999999995, -92.28764199999999 41.509828, -92.224604 41.509901, -92.200892 41.510019, -92.181784 41.510038, -92.156622 41.510155999999995, -92.08191599999999 41.510295, -92.078941 41.510301999999996, -92.07643999999999 41.510293, -92.071452 41.510371, -92.065058 41.510403, -92.05167399999999 41.510436999999996, -92.04251 41.510411999999995, -92.039328 41.510635, -92.037284 41.510481999999996, -91.94604299999999 41.510749, -91.94614399999999 41.461059999999996, -91.946235 41.453165999999996, -91.946643 41.424634, -91.94644799999999 41.410126, -91.946612 41.381347999999996, -91.946697 41.370201, -91.946713 41.366589, -91.94668999999999 41.364258, -91.94674499999999 41.359367, -91.946815 41.352078, -91.946935 41.337579999999996, -91.94509099999999 41.251386, -91.944762 41.240378, -91.944743 41.236264999999996, -91.94464099999999 41.222029, -91.945571 41.163578, -91.953026 41.163667, -91.964754 41.163759999999996, -92.022733 41.163548, -92.06333599999999 41.163194, -92.179974 41.162662, -92.227955 41.162538999999995, -92.29593299999999 41.162303, -92.32001199999999 41.16224, -92.334238 41.162155, -92.40654699999999 41.161922, -92.41023299999999 41.161941999999996, -92.41028899999999 41.16918, -92.41006999999999 41.176733999999996, -92.410342 41.184400000000004, -92.410382 41.190895999999995, -92.410392 41.20351, -92.410592 41.205385, -92.410493 41.24989, -92.410775 41.267300999999996, -92.410828 41.271544, -92.410893 41.278752999999995, -92.411155 41.336124, -92.411277 41.350586, -92.411327 41.368688, -92.411569 41.408480999999995, -92.411673 41.423212, -92.412008 41.484792, -92.41199499999999 41.509547999999995)), {'STATEFP': '19', 'COUNTYFP': '107', 'COUNTYNS': '00465242', 'AFFGEOID': '0500000US19107', 'GEOID': '19107', 'NAME': 'Keokuk', 'LSAD': '06', 'ALAND': 1500067253, 'AWATER': 1929323}, <fields>)\n"
     ]
    }
   ],
   "source": [
    "for rec in shpreader.Reader(get_test_data('us_counties_500k.shp', as_file_obj=False)).records():\n",
    "    print(rec)\n",
    "    break"
   ]
  },
  {
   "cell_type": "code",
   "execution_count": 4,
   "id": "7780993a-6e39-4934-a633-9e535c7acae8",
   "metadata": {},
   "outputs": [
    {
     "data": {
      "text/plain": [
       "{'STATEFP': '19',\n",
       " 'COUNTYFP': '107',\n",
       " 'COUNTYNS': '00465242',\n",
       " 'AFFGEOID': '0500000US19107',\n",
       " 'GEOID': '19107',\n",
       " 'NAME': 'Keokuk',\n",
       " 'LSAD': '06',\n",
       " 'ALAND': 1500067253,\n",
       " 'AWATER': 1929323}"
      ]
     },
     "execution_count": 4,
     "metadata": {},
     "output_type": "execute_result"
    }
   ],
   "source": [
    "rec.attributes"
   ]
  },
  {
   "cell_type": "code",
   "execution_count": 5,
   "id": "7fc072ef-f74f-44ee-a572-e51753e68f69",
   "metadata": {},
   "outputs": [],
   "source": [
    "fips = pd.read_csv('fips-by-state.txt', index_col='fips', encoding='unicode_escape')"
   ]
  },
  {
   "cell_type": "code",
   "execution_count": 6,
   "id": "b72d704c-6803-4fc8-9375-9c6fd991701c",
   "metadata": {},
   "outputs": [
    {
     "data": {
      "text/html": [
       "<div>\n",
       "<style scoped>\n",
       "    .dataframe tbody tr th:only-of-type {\n",
       "        vertical-align: middle;\n",
       "    }\n",
       "\n",
       "    .dataframe tbody tr th {\n",
       "        vertical-align: top;\n",
       "    }\n",
       "\n",
       "    .dataframe thead th {\n",
       "        text-align: right;\n",
       "    }\n",
       "</style>\n",
       "<table border=\"1\" class=\"dataframe\">\n",
       "  <thead>\n",
       "    <tr style=\"text-align: right;\">\n",
       "      <th></th>\n",
       "      <th>name</th>\n",
       "      <th>state</th>\n",
       "    </tr>\n",
       "    <tr>\n",
       "      <th>fips</th>\n",
       "      <th></th>\n",
       "      <th></th>\n",
       "    </tr>\n",
       "  </thead>\n",
       "  <tbody>\n",
       "    <tr>\n",
       "      <th>1001</th>\n",
       "      <td>Autauga County</td>\n",
       "      <td>AL</td>\n",
       "    </tr>\n",
       "    <tr>\n",
       "      <th>1003</th>\n",
       "      <td>Baldwin County</td>\n",
       "      <td>AL</td>\n",
       "    </tr>\n",
       "    <tr>\n",
       "      <th>1005</th>\n",
       "      <td>Barbour County</td>\n",
       "      <td>AL</td>\n",
       "    </tr>\n",
       "    <tr>\n",
       "      <th>1007</th>\n",
       "      <td>Bibb County</td>\n",
       "      <td>AL</td>\n",
       "    </tr>\n",
       "    <tr>\n",
       "      <th>1009</th>\n",
       "      <td>Blount County</td>\n",
       "      <td>AL</td>\n",
       "    </tr>\n",
       "  </tbody>\n",
       "</table>\n",
       "</div>"
      ],
      "text/plain": [
       "                name state\n",
       "fips                      \n",
       "1001  Autauga County    AL\n",
       "1003  Baldwin County    AL\n",
       "1005  Barbour County    AL\n",
       "1007     Bibb County    AL\n",
       "1009   Blount County    AL"
      ]
     },
     "execution_count": 6,
     "metadata": {},
     "output_type": "execute_result"
    }
   ],
   "source": [
    "fips.head()"
   ]
  },
  {
   "cell_type": "code",
   "execution_count": 7,
   "id": "3682b521-ee3a-41b1-9b0d-2745c5a35a47",
   "metadata": {},
   "outputs": [
    {
     "data": {
      "text/plain": [
       "name     Keokuk County\n",
       "state               IA\n",
       "Name: 19107, dtype: object"
      ]
     },
     "execution_count": 7,
     "metadata": {},
     "output_type": "execute_result"
    }
   ],
   "source": [
    "fips.loc[19107]"
   ]
  },
  {
   "cell_type": "code",
   "execution_count": 8,
   "id": "4700ef05-fee8-4e87-ae73-f402c5c35380",
   "metadata": {},
   "outputs": [
    {
     "name": "stdout",
     "output_type": "stream",
     "text": [
      "Cannot find FIPS 60010\n",
      "Cannot find FIPS 60040\n",
      "Cannot find FIPS 60050\n",
      "Cannot find FIPS 69100\n",
      "Cannot find FIPS 72023\n",
      "Cannot find FIPS 72031\n",
      "Cannot find FIPS 72039\n",
      "Cannot find FIPS 72065\n",
      "Cannot find FIPS 72097\n",
      "Cannot find FIPS 72113\n",
      "Cannot find FIPS 72135\n",
      "Cannot find FIPS 72141\n",
      "Cannot find FIPS 78010\n",
      "Cannot find FIPS 78020\n",
      "Cannot find FIPS 72053\n",
      "Cannot find FIPS 72147\n",
      "Cannot find FIPS 60020\n",
      "Cannot find FIPS 69110\n",
      "Cannot find FIPS 72037\n",
      "Cannot find FIPS 66010\n",
      "Cannot find FIPS 72151\n",
      "Cannot find FIPS 2158\n",
      "Cannot find FIPS 72127\n",
      "Cannot find FIPS 69120\n",
      "Cannot find FIPS 72021\n",
      "Cannot find FIPS 72027\n",
      "Cannot find FIPS 72033\n",
      "Cannot find FIPS 72001\n",
      "Cannot find FIPS 72017\n",
      "Cannot find FIPS 72019\n",
      "Cannot find FIPS 60030\n",
      "Cannot find FIPS 69085\n",
      "Cannot find FIPS 72013\n",
      "Cannot find FIPS 72015\n",
      "Cannot find FIPS 72003\n",
      "Cannot find FIPS 72005\n",
      "Cannot find FIPS 72007\n",
      "Cannot find FIPS 72079\n",
      "Cannot find FIPS 72081\n",
      "Cannot find FIPS 72043\n",
      "Cannot find FIPS 72049\n",
      "Cannot find FIPS 72055\n",
      "Cannot find FIPS 72057\n",
      "Cannot find FIPS 72149\n",
      "Cannot find FIPS 72153\n",
      "Cannot find FIPS 72059\n",
      "Cannot find FIPS 72063\n",
      "Cannot find FIPS 72035\n",
      "Cannot find FIPS 72041\n",
      "Cannot find FIPS 72071\n",
      "Cannot find FIPS 72077\n",
      "Cannot find FIPS 72125\n",
      "Cannot find FIPS 72129\n",
      "Cannot find FIPS 72131\n",
      "Cannot find FIPS 72133\n",
      "Cannot find FIPS 72093\n",
      "Cannot find FIPS 72109\n",
      "Cannot find FIPS 72047\n",
      "Cannot find FIPS 72067\n",
      "Cannot find FIPS 72101\n",
      "Cannot find FIPS 72111\n",
      "Cannot find FIPS 72119\n",
      "Cannot find FIPS 72105\n",
      "Cannot find FIPS 72115\n",
      "Cannot find FIPS 72143\n",
      "Cannot find FIPS 72085\n",
      "Cannot find FIPS 72089\n",
      "Cannot find FIPS 72091\n",
      "Cannot find FIPS 72009\n",
      "Cannot find FIPS 72117\n",
      "Cannot find FIPS 72029\n",
      "Cannot find FIPS 72051\n",
      "Cannot find FIPS 72011\n",
      "Cannot find FIPS 72099\n",
      "Cannot find FIPS 72025\n",
      "Cannot find FIPS 72054\n",
      "Cannot find FIPS 72069\n",
      "Cannot find FIPS 72061\n",
      "Cannot find FIPS 72073\n",
      "Cannot find FIPS 72087\n",
      "Cannot find FIPS 72103\n",
      "Cannot find FIPS 72083\n",
      "Cannot find FIPS 72095\n",
      "Cannot find FIPS 78030\n",
      "Cannot find FIPS 72045\n",
      "Cannot find FIPS 72145\n",
      "Cannot find FIPS 72121\n",
      "Cannot find FIPS 72139\n",
      "Cannot find FIPS 72107\n",
      "Cannot find FIPS 72137\n",
      "Cannot find FIPS 46102\n",
      "Cannot find FIPS 72075\n",
      "Cannot find FIPS 72123\n"
     ]
    }
   ],
   "source": [
    "county_shapes = {}\n",
    "for rec in shpreader.Reader(get_test_data('us_counties_500k.shp', as_file_obj=False)).records():\n",
    "    fips_code = int(rec.attributes['GEOID'])\n",
    "    try:\n",
    "        state_name = fips.loc[fips_code]['state']\n",
    "        county_name = fips.loc[fips_code]['name']\n",
    "        state_dict = county_shapes.get(state_name, {})\n",
    "        state_dict[county_name] = rec\n",
    "        county_shapes[state_name] = state_dict\n",
    "    except KeyError:\n",
    "        print(f'Cannot find FIPS {fips_code}')"
   ]
  },
  {
   "cell_type": "code",
   "execution_count": 9,
   "id": "cbcf7335-5c00-4c23-abfa-0d0942c8bc44",
   "metadata": {},
   "outputs": [
    {
     "name": "stderr",
     "output_type": "stream",
     "text": [
      "/Users/rhawthorne/miniconda3/envs/metpy_v1/lib/python3.9/site-packages/cartopy/crs.py:228: ShapelyDeprecationWarning: __len__ for multi-part geometries is deprecated and will be removed in Shapely 2.0. Check the length of the `geoms` property instead to get the  number of parts of a multi-part geometry.\n",
      "  if len(multi_line_string) > 1:\n",
      "/Users/rhawthorne/miniconda3/envs/metpy_v1/lib/python3.9/site-packages/cartopy/crs.py:280: ShapelyDeprecationWarning: Iteration over multi-part geometries is deprecated and will be removed in Shapely 2.0. Use the `geoms` property to access the constituent parts of a multi-part geometry.\n",
      "  for line in multi_line_string:\n",
      "/Users/rhawthorne/miniconda3/envs/metpy_v1/lib/python3.9/site-packages/cartopy/crs.py:347: ShapelyDeprecationWarning: __len__ for multi-part geometries is deprecated and will be removed in Shapely 2.0. Check the length of the `geoms` property instead to get the  number of parts of a multi-part geometry.\n",
      "  if len(p_mline) > 0:\n"
     ]
    },
    {
     "data": {
      "image/png": "[encoded data removed]",
      "text/plain": [
       "<Figure size 432x288 with 1 Axes>"
      ]
     },
     "metadata": {
      "needs_background": "light"
     },
     "output_type": "display_data"
    }
   ],
   "source": [
    "fig = plt.figure()\n",
    "ax = fig.add_subplot(1, 1, 1, projection=crs.LambertConformal())\n",
    "\n",
    "for name, record in county_shapes['TX'].items():\n",
    "    ax.add_geometries([record.geometry], crs=crs.PlateCarree(), edgecolor='black')\n",
    "    \n",
    "ax.set_extent([-107, -92, 25, 37])"
   ]
  },
  {
   "cell_type": "code",
   "execution_count": 11,
   "id": "9136d23e-20ee-4564-9f11-5c3623b4f11d",
   "metadata": {},
   "outputs": [
    {
     "data": {
      "image/png": "[encoded data removed]",
      "text/plain": [
       "<Figure size 432x288 with 1 Axes>"
      ]
     },
     "metadata": {
      "needs_background": "light"
     },
     "output_type": "display_data"
    }
   ],
   "source": [
    "fig = plt.figure()\n",
    "ax = fig.add_subplot(1, 1, 1, projection=crs.LambertConformal())\n",
    "\n",
    "record = county_shapes['TX']['Harris County']\n",
    "ax.add_geometries([record.geometry], crs=crs.PlateCarree(), \n",
    "                  edgecolor='black', linewidth=0.5, facecolor='tab:red')\n",
    "ax.add_feature(cfeature.STATES)    \n",
    "ax.set_extent([-107, -92, 25, 37])"
   ]
  },
  {
   "cell_type": "code",
   "execution_count": null,
   "id": "81b74606-06de-49a2-aa3d-19afe1bb1543",
   "metadata": {},
   "outputs": [],
   "source": []
  }
 ],
 "metadata": {
  "kernelspec": {
   "display_name": "Python 3 (ipykernel)",
   "language": "python",
   "name": "python3"
  },
  "language_info": {
   "codemirror_mode": {
    "name": "ipython",
    "version": 3
   },
   "file_extension": ".py",
   "mimetype": "text/x-python",
   "name": "python",
   "nbconvert_exporter": "python",
   "pygments_lexer": "ipython3",
   "version": "3.9.16"
  }
 },
 "nbformat": 4,
 "nbformat_minor": 5
}
