{
 "cells": [
  {
   "cell_type": "code",
   "execution_count": 27,
   "metadata": {},
   "outputs": [],
   "source": [
    "import urllib\n",
    "from bs4 import BeautifulSoup"
   ]
  },
  {
   "cell_type": "code",
   "execution_count": 28,
   "metadata": {},
   "outputs": [],
   "source": [
    "data_url = 'https://aviationweather.gov/airep/data?id=&distance=200&format=decoded&type=&age=1.5&layout=on&date='"
   ]
  },
  {
   "cell_type": "code",
   "execution_count": 29,
   "metadata": {},
   "outputs": [],
   "source": [
    "req = urllib.request.urlopen(data_url)"
   ]
  },
  {
   "cell_type": "code",
   "execution_count": 30,
   "metadata": {},
   "outputs": [
    {
     "data": {
      "text/plain": [
       "http.client.HTTPResponse"
      ]
     },
     "execution_count": 30,
     "metadata": {},
     "output_type": "execute_result"
    }
   ],
   "source": [
    "type(req)"
   ]
  },
  {
   "cell_type": "code",
   "execution_count": 31,
   "metadata": {},
   "outputs": [],
   "source": [
    "html_doc = req.read()"
   ]
  },
  {
   "cell_type": "code",
   "execution_count": 32,
   "metadata": {},
   "outputs": [],
   "source": [
    "html_doc = html_doc.decode('utf-8')"
   ]
  },
  {
   "cell_type": "code",
   "execution_count": 33,
   "metadata": {},
   "outputs": [],
   "source": [
    "req.close()"
   ]
  },
  {
   "cell_type": "code",
   "execution_count": 34,
   "metadata": {},
   "outputs": [],
   "source": [
    "soup = BeautifulSoup(html_doc, 'html.parser')"
   ]
  },
  {
   "cell_type": "code",
   "execution_count": 35,
   "metadata": {},
   "outputs": [],
   "source": [
    "table_data = soup.find_all('table')"
   ]
  },
  {
   "cell_type": "code",
   "execution_count": 36,
   "metadata": {},
   "outputs": [
    {
     "data": {
      "text/plain": [
       "50"
      ]
     },
     "execution_count": 36,
     "metadata": {},
     "output_type": "execute_result"
    }
   ],
   "source": [
    "len(table_data)"
   ]
  },
  {
   "cell_type": "code",
   "execution_count": 38,
   "metadata": {},
   "outputs": [],
   "source": [
    "report_html = table_data[2]"
   ]
  },
  {
   "cell_type": "code",
   "execution_count": 39,
   "metadata": {},
   "outputs": [
    {
     "data": {
      "text/plain": [
       "<table border=\"0\" cellpadding=\"3\" cellspacing=\"0\">\n",
       "<tr>\n",
       "<td align=\"right\" width=\"130px\"><span style=\"color: #9999CC; font-weight: bold\">PIREP Text:</span></td><td style=\"background-color: #CCCCCC; font-weight: bold\">PTT UA /OV PTT/TM 1529/FL400/TP B737/TB LGT CHOP/RM ZKC/FD1/CJ</td>\n",
       "</tr>\n",
       "<tr>\n",
       "<td align=\"right\"><span style=\"color: #9999CC; font-weight: bold\">Observed at:</span></td><td>1529 UTC 05 May 2020</td>\n",
       "</tr>\n",
       "<tr>\n",
       "<td align=\"right\"><span style=\"color: #9999CC; font-weight: bold\">Aircraft type:</span></td><td>B737</td>\n",
       "</tr>\n",
       "<tr>\n",
       "<td align=\"right\"><span style=\"color: #9999CC; font-weight: bold\">Location:</span></td><td>37.7025 latitude, -98.7470 longitude</td>\n",
       "</tr>\n",
       "<tr>\n",
       "<td align=\"right\"><span style=\"color: #9999CC; font-weight: bold\">Flight level:</span></td><td>400 (40,000ft)</td>\n",
       "</tr>\n",
       "<tr>\n",
       "<td align=\"right\"><span style=\"color: #9999CC; font-weight: bold\">Flight level type:</span></td><td>OTHER</td>\n",
       "</tr>\n",
       "<tr>\n",
       "<td align=\"right\"><span style=\"color: #9999CC; font-weight: bold\">Turbulence:</span></td><td>Light Chop</td>\n",
       "</tr>\n",
       "</table>"
      ]
     },
     "execution_count": 39,
     "metadata": {},
     "output_type": "execute_result"
    }
   ],
   "source": [
    "report_html"
   ]
  },
  {
   "cell_type": "code",
   "execution_count": 40,
   "metadata": {},
   "outputs": [],
   "source": [
    "report_rows = report_html.find_all('tr')"
   ]
  },
  {
   "cell_type": "code",
   "execution_count": 44,
   "metadata": {},
   "outputs": [
    {
     "data": {
      "text/plain": [
       "['Aircraft type', 'B737']"
      ]
     },
     "execution_count": 44,
     "metadata": {},
     "output_type": "execute_result"
    }
   ],
   "source": [
    "report_rows[2].get_text().strip().split(':')"
   ]
  },
  {
   "cell_type": "code",
   "execution_count": 47,
   "metadata": {},
   "outputs": [],
   "source": [
    "report = {}\n",
    "for row in report_rows:\n",
    "    row = row.get_text().strip().split(':')\n",
    "    # If this is the location field, split it apart\n",
    "    if row[0] == 'Location':\n",
    "        location = row[1].split(',')\n",
    "        report.update({'Latitude': float(location[0].replace(' latitude', ''))})\n",
    "        report.update({'Longitude': float(location[1].replace(' longitude', ''))})\n",
    "    \n",
    "    else:\n",
    "        report.update({row[0]: row[1]})"
   ]
  },
  {
   "cell_type": "code",
   "execution_count": 48,
   "metadata": {},
   "outputs": [
    {
     "data": {
      "text/plain": [
       "{'PIREP Text': 'PTT UA /OV PTT/TM 1529/FL400/TP B737/TB LGT CHOP/RM ZKC/FD1/CJ',\n",
       " 'Observed at': '1529 UTC 05 May 2020',\n",
       " 'Aircraft type': 'B737',\n",
       " 'Latitude': 37.7025,\n",
       " 'Longitude': -98.747,\n",
       " 'Flight level': '400 (40,000ft)',\n",
       " 'Flight level type': 'OTHER',\n",
       " 'Turbulence': 'Light Chop'}"
      ]
     },
     "execution_count": 48,
     "metadata": {},
     "output_type": "execute_result"
    }
   ],
   "source": [
    "report"
   ]
  },
  {
   "cell_type": "code",
   "execution_count": 49,
   "metadata": {},
   "outputs": [],
   "source": [
    "def parse_report(report_html):\n",
    "    report = {}\n",
    "    for row in report_rows:\n",
    "        row = row.get_text().strip().split(':')\n",
    "        # If this is the location field, split it apart\n",
    "        if row[0] == 'Location':\n",
    "            location = row[1].split(',')\n",
    "            report.update({'Latitude': float(location[0].replace(' latitude', ''))})\n",
    "            report.update({'Longitude': float(location[1].replace(' longitude', ''))})\n",
    "        else:\n",
    "            report.update({row[0]: row[1]})\n",
    "    return report"
   ]
  },
  {
   "cell_type": "code",
   "execution_count": 50,
   "metadata": {},
   "outputs": [],
   "source": [
    "reports = [parse_report(report) for report in table_data]"
   ]
  },
  {
   "cell_type": "code",
   "execution_count": 53,
   "metadata": {},
   "outputs": [
    {
     "data": {
      "text/plain": [
       "37.7025"
      ]
     },
     "execution_count": 53,
     "metadata": {},
     "output_type": "execute_result"
    }
   ],
   "source": [
    "reports[0]['Latitude']"
   ]
  },
  {
   "cell_type": "code",
   "execution_count": null,
   "metadata": {},
   "outputs": [],
   "source": []
  }
 ],
 "metadata": {
  "kernelspec": {
   "display_name": "Python 3",
   "language": "python",
   "name": "python3"
  },
  "language_info": {
   "codemirror_mode": {
    "name": "ipython",
    "version": 3
   },
   "file_extension": ".py",
   "mimetype": "text/x-python",
   "name": "python",
   "nbconvert_exporter": "python",
   "pygments_lexer": "ipython3",
   "version": "3.7.6"
  }
 },
 "nbformat": 4,
 "nbformat_minor": 4
}
