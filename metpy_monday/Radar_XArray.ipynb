{
 "cells": [
  {
   "cell_type": "code",
   "execution_count": 1,
   "metadata": {},
   "outputs": [],
   "source": [
    "from siphon.catalog import TDSCatalog\n",
    "import xarray as xr\n",
    "import metpy\n",
    "import cartopy.crs as ccrs\n",
    "import cartopy.feature as cfeature\n",
    "import matplotlib.pyplot as plt"
   ]
  },
  {
   "cell_type": "code",
   "execution_count": 2,
   "metadata": {},
   "outputs": [],
   "source": [
    "radar = TDSCatalog('https://thredds.ucar.edu/thredds/catalog/grib/nexrad/composite/unidata/latest.xml')\n",
    "data = radar.datasets[0].remote_access(use_xarray=True)\n",
    "data = data.metpy.parse_cf()\n",
    "\n",
    "ds = data['Base_reflectivity_surface_layer'].squeeze()\n",
    "plot_proj = ds.metpy.cartopy_crs\n",
    "location = plot_proj.transform_point(-82.60, 30.82, ccrs.PlateCarree())\n",
    "x, y = location"
   ]
  },
  {
   "cell_type": "code",
   "execution_count": 3,
   "metadata": {},
   "outputs": [
    {
     "name": "stdout",
     "output_type": "stream",
     "text": [
      "25.0\n"
     ]
    }
   ],
   "source": [
    "point = ds.squeeze().metpy.sel(x=x, y=y, method='nearest')\n",
    "print(point.values)"
   ]
  },
  {
   "cell_type": "code",
   "execution_count": 9,
   "metadata": {},
   "outputs": [
    {
     "name": "stdout",
     "output_type": "stream",
     "text": [
      "25.0\n"
     ]
    }
   ],
   "source": [
    "def convert_latlon_to_xy(ds, lat, lon):\n",
    "    plot_proj = ds.metpy.cartopy_crs\n",
    "    location = plot_proj.transform_point(lon, lat, ccrs.PlateCarree())\n",
    "    x, y = location\n",
    "    return x, y\n",
    "\n",
    "def get_grid_value(ds, x, y):\n",
    "    point = ds.squeeze().metpy.sel(x=x, y=y, method='nearest')\n",
    "    return point.values\n",
    "\n",
    "pt_x, pt_y = convert_latlon_to_xy(ds, 30.82, -82.60)\n",
    "value = get_grid_value(ds, pt_x, pt_y)\n",
    "print(value)"
   ]
  },
  {
   "cell_type": "code",
   "execution_count": null,
   "metadata": {},
   "outputs": [],
   "source": [
    "fig = plt.figure(figsize=(1920/72, 1080/72))\n",
    "ax = fig.add_subplot(1, 1, 1, projection=plot_proj)\n",
    "ax.set_extent((-122, -70, 25, 50), crs=ccrs.PlateCarree())\n",
    "\n",
    "# Add state lines, coastlines, map extent\n",
    "ax.add_feature(cfeature.OCEAN.with_scale('10m'), color='lightgray')\n",
    "ax.add_feature(cfeature.COASTLINE.with_scale('10m'), linewidth=0.75)\n",
    "ax.add_feature(cfeature.STATES.with_scale('10m'), linewidth=3.00)\n",
    "ax.set_adjustable('datalim')\n",
    "\n",
    "# Display Banner\n",
    "plt.text(0.01, 0.95, s='National Radar Composite',\n",
    "         fontname='Arial', fontsize=48, fontweight='bold', color='white',\n",
    "         bbox={'facecolor': 'navy', 'alpha': 1.0, 'edgecolor': 'none'},\n",
    "         transform=ax.transAxes, zorder=10, va='top')\n",
    "\n",
    "ax.contourf(ds.metpy.x, ds.metpy.y, ds, cmap=plt.cm.gist_ncar, transform=plot_proj)\n"
   ]
  },
  {
   "cell_type": "code",
   "execution_count": null,
   "metadata": {},
   "outputs": [],
   "source": []
  }
 ],
 "metadata": {
  "kernelspec": {
   "display_name": "Python 3",
   "language": "python",
   "name": "python3"
  },
  "language_info": {
   "codemirror_mode": {
    "name": "ipython",
    "version": 3
   },
   "file_extension": ".py",
   "mimetype": "text/x-python",
   "name": "python",
   "nbconvert_exporter": "python",
   "pygments_lexer": "ipython3",
   "version": "3.9.2"
  }
 },
 "nbformat": 4,
 "nbformat_minor": 4
}
