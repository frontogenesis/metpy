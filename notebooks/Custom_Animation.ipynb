{
 "cells": [
  {
   "cell_type": "code",
   "execution_count": 2,
   "id": "0b63414c-c4e4-4744-b5f7-2c7f135ea81e",
   "metadata": {},
   "outputs": [],
   "source": [
    "import glob\n",
    "from PIL import Image"
   ]
  },
  {
   "cell_type": "code",
   "execution_count": 5,
   "id": "2eea79a2-d37a-4ec5-b5fb-18f8b5db0f52",
   "metadata": {},
   "outputs": [],
   "source": [
    "# filepaths\n",
    "fp_in = \"../graphics/models/dewpoint*.png\"\n",
    "fp_out = \"../graphics/models/dewpoint.gif\"\n",
    "\n",
    "# https://pillow.readthedocs.io/en/stable/handbook/image-file-formats.html#gif\n",
    "imgs = (Image.open(f) for f in sorted(glob.glob(fp_in)))\n",
    "img = next(imgs)  # extract first image from iterator\n",
    "img.save(fp=fp_out, format='gif', append_images=imgs,\n",
    "         save_all=True, duration=1000, loop=1)"
   ]
  },
  {
   "cell_type": "code",
   "execution_count": null,
   "id": "fb99c43b-f19b-417f-8d2d-b589a81546c4",
   "metadata": {},
   "outputs": [],
   "source": []
  }
 ],
 "metadata": {
  "kernelspec": {
   "display_name": "Python 3 (ipykernel)",
   "language": "python",
   "name": "python3"
  },
  "language_info": {
   "codemirror_mode": {
    "name": "ipython",
    "version": 3
   },
   "file_extension": ".py",
   "mimetype": "text/x-python",
   "name": "python",
   "nbconvert_exporter": "python",
   "pygments_lexer": "ipython3",
   "version": "3.11.3"
  }
 },
 "nbformat": 4,
 "nbformat_minor": 5
}
