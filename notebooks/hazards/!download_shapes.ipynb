{
 "cells": [
  {
   "cell_type": "code",
   "execution_count": 1,
   "metadata": {},
   "outputs": [],
   "source": [
    "import shutil\n",
    "import urllib.request as request\n",
    "from contextlib import closing\n",
    "import zipfile\n",
    "import tarfile\n",
    "import os\n",
    "import glob\n",
    "\n",
    "\n",
    "tars = {\n",
    "    \"all\": \"https://tgftp.nws.noaa.gov/SL.us008001/DF.sha/DC.cap/DS.WWA/current_all.tar.gz\",\n",
    "    \"hazards\": \"https://tgftp.nws.noaa.gov/SL.us008001/DF.sha/DC.cap/DS.WWA/current_hazards.tar.gz\",\n",
    "    \"warnings\": \"https://tgftp.nws.noaa.gov/SL.us008001/DF.sha/DC.cap/DS.WWA/current_warnings.tar.gz\",\n",
    "}\n",
    "\n",
    "\n",
    "def clear_folder_contents(folder):\n",
    "  '''\n",
    "  Clears all contents of folder specified in the argument\n",
    "  '''\n",
    "  for file in os.listdir(folder):\n",
    "    file_path = os.path.join(folder, file)\n",
    "    try:\n",
    "      if os.path.isfile(file_path):\n",
    "        os.unlink(file_path)\n",
    "      elif os.path.isdir(file_path): shutil.rmtree(file_path)\n",
    "    except Exception as e:\n",
    "      print(e)\n",
    "\n",
    "\n",
    "def download_tar_file(file_url: str):\n",
    "    '''\n",
    "    Downloads a tar file and extracts it in a target directory of choice\n",
    "    '''\n",
    "    file = file_url.split('/')[-1]\n",
    "\n",
    "    with closing(request.urlopen(file_url)) as r:\n",
    "        with open(file, 'wb') as f:\n",
    "          shutil.copyfileobj(r, f)\n",
    "    \n",
    "    tar = tarfile.open(file, mode='r')\n",
    "    tar.extractall('data')\n",
    "  \n",
    "  \n",
    "# Clear directories before getting data\n",
    "clear_folder_contents('data')\n",
    "    \n",
    "# Get the hazard tar files\n",
    "for url in tars:\n",
    "    download_tar_file(tars[url])\n",
    "    \n",
    "# Move tars\n",
    "if not os.path.exists('data/tars'):\n",
    "    os.makedirs('data/tars')\n",
    "    \n",
    "for tar_file in glob.glob(f\"{os.getcwd()}/*.tar.gz\"):\n",
    "  head, tail = os.path.split(tar_file)\n",
    "  shutil.move(tar_file, f\"data/tars/{tail}\")"
   ]
  },
  {
   "cell_type": "code",
   "execution_count": null,
   "metadata": {},
   "outputs": [],
   "source": []
  }
 ],
 "metadata": {
  "kernelspec": {
   "display_name": "Python 3",
   "language": "python",
   "name": "python3"
  },
  "language_info": {
   "codemirror_mode": {
    "name": "ipython",
    "version": 3
   },
   "file_extension": ".py",
   "mimetype": "text/x-python",
   "name": "python",
   "nbconvert_exporter": "python",
   "pygments_lexer": "ipython3",
   "version": "3.7.8"
  }
 },
 "nbformat": 4,
 "nbformat_minor": 4
}
