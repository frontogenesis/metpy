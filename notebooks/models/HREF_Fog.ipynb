{
 "cells": [
  {
   "cell_type": "code",
   "execution_count": null,
   "metadata": {},
   "outputs": [],
   "source": [
    "from glob import glob\n",
    "import os\n",
    "from pathlib import Path\n",
    "import shutil\n",
    "import urllib.request as request\n",
    "from contextlib import closing\n",
    "\n",
    "import matplotlib.pyplot as plt\n",
    "import xarray as xr\n",
    "import numpy as np\n",
    "import cartopy.feature as cfeature\n",
    "from cartopy import crs as ccrs\n",
    "from metpy.plots import USCOUNTIES, ctables\n",
    "import cf2cdm\n",
    "from datetime import datetime\n",
    "from dateutil import tz"
   ]
  },
  {
   "cell_type": "code",
   "execution_count": null,
   "metadata": {},
   "outputs": [],
   "source": [
    "grib_dir = Path('.') / 'data'\n",
    "graphics_dir = Path('.') / '..' / '..' / 'graphics' / 'models' / 'href'"
   ]
  },
  {
   "cell_type": "code",
   "execution_count": null,
   "metadata": {},
   "outputs": [],
   "source": [
    "# Download files\n",
    "\n",
    "date = 20210211\n",
    "run = '06'\n",
    "fhr = 27\n",
    "left_lon = 360-90\n",
    "right_lon = 360-77\n",
    "top_lat = 36\n",
    "bottom_lat = 24\n",
    "\n",
    "nomads_url = ('https://nomads.ncep.noaa.gov/cgi-bin/filter_hrefconus.pl?'\n",
    "              f'file=href.t{run}z.conus.prob.f{fhr}.grib2'\n",
    "              '&all_lev=on&var_VIS=on&subregion='\n",
    "              f'&leftlon={left_lon}&rightlon={right_lon}&toplat={top_lat}&bottomlat={bottom_lat}&'\n",
    "              f'dir=/href.{date}/ensprod')\n",
    "\n",
    "def download_gribfilter(file_url):\n",
    "    with closing(request.urlopen(file_url)) as r:\n",
    "        with open(f'{grib_dir}/href/href.t{run}z.conus.prob.fog.f{fhr}.grib2', 'wb') as f:\n",
    "            shutil.copyfileobj(r, f)\n",
    "        \n",
    "download_gribfilter(nomads_url)"
   ]
  },
  {
   "cell_type": "code",
   "execution_count": null,
   "metadata": {},
   "outputs": [],
   "source": [
    "%%capture\n",
    "# Read in files and acquire data needed for plotting\n",
    "ds = xr.load_dataset(f'{grib_dir}/href/href.t{run}z.conus.prob.fog.f{fhr}.grib2', engine='cfgrib',)\n",
    "# ds = xr.load_dataset('href.t18z.conus.prob.f24.grib2', engine='cfgrib', backend_kwargs={'filter_by_keys': {'typeOfLevel': 'unknown'}})\n",
    "ds = ds.metpy.parse_cf()\n",
    "ds = cf2cdm.translate_coords(ds, cf2cdm.CDS)\n",
    "\n",
    "lats = ds.lat.values\n",
    "lons = ds.lon.values\n",
    "href_values = ds.vis.values\n",
    "\n",
    "def convert_datetime(mrms_time):\n",
    "    from_zone = tz.gettz('UTC')\n",
    "    to_zone = tz.gettz('America/New York')\n",
    "    utc_time = datetime.strptime(mrms_time, '%Y-%m-%dT%H:%M:%S').replace(tzinfo=from_zone)\n",
    "    eastern = utc_time.astimezone(to_zone)\n",
    "    date_time = datetime.strftime(eastern, '%a, %b %d, %Y %I:%M %p').lstrip('0').replace(' 0', ' ')\n",
    "    return date_time\n",
    "\n",
    "VALID_TIME = convert_datetime(str(ds.time.values).split('.')[0])"
   ]
  },
  {
   "cell_type": "code",
   "execution_count": null,
   "metadata": {},
   "outputs": [],
   "source": [
    "fig = plt.figure(figsize=(1920/72, 1080/72))\n",
    "ax = fig.add_axes([0, 0, 1, 1], projection=ccrs.PlateCarree())\n",
    "\n",
    "ax.add_feature(cfeature.OCEAN.with_scale('50m'), color='lightgray')\n",
    "ax.add_feature(USCOUNTIES.with_scale('20m'), edgecolor='lightgray', linewidth=0.75)\n",
    "ax.add_feature(cfeature.STATES.with_scale('10m'), linewidth=2.0)\n",
    "ax.set_adjustable('datalim')\n",
    "#ax.set_extent([-82, -79, 31, 36])\n",
    "#ax.set_extent([-87, -80, 23.5, 32])\n",
    "\n",
    "\n",
    "data_range = [num for num in np.arange(10, 100, 10)]\n",
    "contour = ax.contourf(lons, lats, href_values, data_range, cmap=plt.cm.Greys, \n",
    "                      extend='max', transform=ccrs.PlateCarree())\n",
    "\n",
    "cbar = plt.colorbar(contour, orientation='horizontal', pad=-0.08, shrink=0.5,)\n",
    "cbar.ax.tick_params(labelsize='24')\n",
    "\n",
    "# Make the axis title\n",
    "ax.set_title(f'Probability of Visibility <1/4 mile\\n{VALID_TIME}', loc='left', \n",
    "             ha='left', va='top', fontsize=48, fontname='Arial',\n",
    "             color='white', fontweight='bold', y=0.95, x=0.01,\n",
    "             bbox=dict(facecolor='navy', alpha=1.0, edgecolor='none'))\n",
    "\n",
    "# Plot cities\n",
    "# cities = {\n",
    "#     'Pensacola': [30.4213, -87.2169],\n",
    "#     'Tallahassee': [30.4383, -84.2807],\n",
    "#     'Gainesville': [29.6516, -82.3248],\n",
    "#     'Tampa': [27.9506, -82.4572],\n",
    "#     'Orlando': [28.5383, -81.3792],\n",
    "#     'Ft Myers': [26.6406, -81.8723],\n",
    "#     'Miami': [25.7617, -80.1918],\n",
    "#     'Key West': [24.5551, -81.7800]\n",
    "# }\n",
    "\n",
    "# def plot_cities(lat, lon, city_name):\n",
    "#     ax.text(lon, lat, city_name, fontsize=28, zorder=10, fontweight='bold', fontname='Arial', backgroundcolor='black',\n",
    "#             color='white', ha='center', transform=ccrs.PlateCarree())\n",
    "\n",
    "# for city in cities.keys():\n",
    "#     plot_cities(cities[city][0], cities[city][1], city)\n",
    "\n",
    "# Save and show figure\n",
    "plt.savefig(f'{graphics_dir}/fog_{fhr}.png', dpi=72)\n",
    "plt.show()"
   ]
  },
  {
   "cell_type": "code",
   "execution_count": null,
   "metadata": {},
   "outputs": [],
   "source": []
  }
 ],
 "metadata": {
  "kernelspec": {
   "display_name": "Python 3",
   "language": "python",
   "name": "python3"
  },
  "language_info": {
   "codemirror_mode": {
    "name": "ipython",
    "version": 3
   },
   "file_extension": ".py",
   "mimetype": "text/x-python",
   "name": "python",
   "nbconvert_exporter": "python",
   "pygments_lexer": "ipython3",
   "version": "3.7.8"
  }
 },
 "nbformat": 4,
 "nbformat_minor": 4
}
