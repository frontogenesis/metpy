{
 "cells": [
  {
   "cell_type": "code",
   "execution_count": 1,
   "metadata": {},
   "outputs": [],
   "source": [
    "from glob import glob\n",
    "import os\n",
    "from pathlib import Path\n",
    "import shutil\n",
    "import urllib.request as request\n",
    "from contextlib import closing\n",
    "\n",
    "import matplotlib.pyplot as plt\n",
    "import pygrib\n",
    "import xarray as xr\n",
    "import numpy as np\n",
    "import cartopy.feature as cfeature\n",
    "from cartopy import crs as ccrs\n",
    "from metpy.plots import USCOUNTIES, ctables\n",
    "#import cf2cdm\n",
    "from datetime import datetime\n",
    "from dateutil import tz"
   ]
  },
  {
   "cell_type": "code",
   "execution_count": 2,
   "metadata": {},
   "outputs": [],
   "source": [
    "grib_dir = Path('.') / '..' / '..' / 'grib'"
   ]
  },
  {
   "cell_type": "code",
   "execution_count": 15,
   "metadata": {},
   "outputs": [],
   "source": [
    "# Download files\n",
    "\n",
    "date = 20200709\n",
    "run = '18'\n",
    "fhr = '07'\n",
    "left_lon = 360-90\n",
    "right_lon = 360-77\n",
    "top_lat = 36\n",
    "bottom_lat = 24\n",
    "\n",
    "nomads_url = ('https://nomads.ncep.noaa.gov/cgi-bin/filter_hrefconus.pl?'\n",
    "              f'file=href.t{run}z.conus.prob.f{fhr}.grib2'\n",
    "              '&all_lev=on&var_MAXREF=on&subregion='\n",
    "              f'&leftlon={left_lon}&rightlon={right_lon}&toplat={top_lat}&bottomlat={bottom_lat}&'\n",
    "              f'dir=/href.{date}/ensprod')\n",
    "\n",
    "def download_gribfilter(file_url):\n",
    "    with closing(request.urlopen(file_url)) as r:\n",
    "        with open(f'{grib_dir}/href/href.t{run}z.conus.prob.maxrefl.f{fhr}.grib2', 'wb') as f:\n",
    "            shutil.copyfileobj(r, f)\n",
    "        \n",
    "download_gribfilter(nomads_url)"
   ]
  },
  {
   "cell_type": "code",
   "execution_count": 16,
   "metadata": {},
   "outputs": [],
   "source": [
    "#%%capture\n",
    "# Read in files and acquire data needed for plotting\n",
    "ds = pygrib.open(f'{grib_dir}/href/href.t{run}z.conus.prob.maxrefl.f{fhr}.grib2',)\n",
    "\n",
    "# Reset the grib messages to 0 so you're at beginning of the file\n",
    "ds.seek(0)\n",
    "\n",
    "# Get grib message\n",
    "# For reference, here are the corresponding grib messages with reflectivity exceedance\n",
    "# 1 = 40dbZ; 2 = 50dbZ,\n",
    "ds = ds[1]\n",
    "\n",
    "# Extract lats, lons, and data values\n",
    "lats, lons = ds.latlons()\n",
    "href_values = ds.values"
   ]
  },
  {
   "cell_type": "code",
   "execution_count": 17,
   "metadata": {},
   "outputs": [
    {
     "name": "stdout",
     "output_type": "stream",
     "text": [
      "75.5\n"
     ]
    }
   ],
   "source": [
    "def get_gridpoint_value(lat_of_interest: float, lon_of_interest: float) -> int:\n",
    "    '''\n",
    "    Calculate the closest gridpoint value to a given latitude\n",
    "    and longitude.\n",
    "    '''\n",
    "    abs_lat = np.abs(lats - lat_of_interest)\n",
    "    abs_lon = np.abs(lons - lon_of_interest)\n",
    "    \n",
    "    overlap_latlon = np.maximum(abs_lon, abs_lat)\n",
    "    latlon_idx = np.argmin(overlap_latlon)\n",
    "    \n",
    "    href_1d = href_values.flatten()\n",
    "    \n",
    "    return href_1d[latlon_idx]\n",
    "\n",
    "\n",
    "prob = get_gridpoint_value(29.65, -82.32)\n",
    "print(prob)"
   ]
  },
  {
   "cell_type": "code",
   "execution_count": null,
   "metadata": {},
   "outputs": [],
   "source": []
  }
 ],
 "metadata": {
  "kernelspec": {
   "display_name": "Python 3",
   "language": "python",
   "name": "python3"
  },
  "language_info": {
   "codemirror_mode": {
    "name": "ipython",
    "version": 3
   },
   "file_extension": ".py",
   "mimetype": "text/x-python",
   "name": "python",
   "nbconvert_exporter": "python",
   "pygments_lexer": "ipython3",
   "version": "3.7.7"
  }
 },
 "nbformat": 4,
 "nbformat_minor": 4
}
