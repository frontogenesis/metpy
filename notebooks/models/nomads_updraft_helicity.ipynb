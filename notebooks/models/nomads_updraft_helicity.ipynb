{
 "cells": [
  {
   "cell_type": "code",
   "execution_count": 2,
   "metadata": {},
   "outputs": [],
   "source": [
    "from pathlib import Path\n",
    "from datetime import datetime\n",
    "from dateutil import tz\n",
    "\n",
    "import numpy as np\n",
    "from datetime import datetime\n",
    "import xarray as xr\n",
    "from xarray.backends import NetCDF4DataStore\n",
    "import cartopy.feature as cfeature\n",
    "import matplotlib.pyplot as plt\n",
    "import matplotlib.patches as mpatches\n",
    "from cartopy import crs as ccrs\n",
    "from metpy.plots import USCOUNTIES\n",
    "import metpy.calc as mpcalc\n",
    "from metpy.units import units\n",
    "from scipy.ndimage import gaussian_filter"
   ]
  },
  {
   "cell_type": "markdown",
   "metadata": {},
   "source": [
    "## Updraft Helicity"
   ]
  },
  {
   "cell_type": "code",
   "execution_count": 4,
   "metadata": {},
   "outputs": [],
   "source": [
    "%%capture\n",
    "\n",
    "VALID_TIME = '2020-07-22T2100'\n",
    "\n",
    "# Define area to plot\n",
    "BOTTOM_LAT = 23\n",
    "TOP_LAT = 40\n",
    "LEFT_LON = -97\n",
    "RIGHT_LON = -70\n",
    "\n",
    "# Model Endpoints \n",
    "hrrr = 'https://nomads.ncep.noaa.gov/dods/hrrr/hrrr20200722/hrrr_sfc.t12z'\n",
    "arw = 'https://nomads.ncep.noaa.gov/dods/hiresw/hiresw20200430/hiresw_conusarw_12z'\n",
    "\n",
    "base_url = hrrr\n",
    "\n",
    "ds = xr.open_dataset(base_url, decode_times=True)\n",
    "ds = ds.metpy.parse_cf()\n",
    "\n",
    "# Take lat and lon slices\n",
    "LAT_SLICE = slice(BOTTOM_LAT, TOP_LAT)\n",
    "LON_SLICE = slice(LEFT_LON, RIGHT_LON)\n",
    "\n",
    "lats = ds.lat.sel(lat=LAT_SLICE).values\n",
    "lons = ds.lon.sel(lon=LON_SLICE).values\n",
    "uhel = ds.mxuphl3000_0m.metpy.sel(lat=LAT_SLICE, lon=LON_SLICE, \n",
    "                                  time=VALID_TIME).squeeze().metpy.unit_array\n",
    "\n",
    "def convert_datetime_from_nomads_to_local(string):\n",
    "    from_zone = tz.gettz('UTC')\n",
    "    to_zone = tz.gettz('America/New_York')\n",
    "    utc_time = datetime.strptime(string, '%Y-%m-%dT%H%M').replace(tzinfo=from_zone)\n",
    "    eastern = utc_time.astimezone(to_zone)\n",
    "    date_time = datetime.strftime(eastern, '%a, %b %d, %Y %I:%M %p').lstrip('0').replace(' 0', ' ')\n",
    "    return date_time\n",
    "\n",
    "LOCAL_TIME = convert_datetime_from_nomads_to_local(VALID_TIME)"
   ]
  },
  {
   "cell_type": "markdown",
   "metadata": {},
   "source": [
    "## Setup Basemap and Plot Data"
   ]
  },
  {
   "cell_type": "code",
   "execution_count": null,
   "metadata": {},
   "outputs": [],
   "source": [
    "# Setup matplotlib figure\n",
    "fig = plt.figure(figsize=(1920/72, 1080/72))\n",
    "ax = fig.add_axes([0, 0, 1, 1], projection=ccrs.PlateCarree())\n",
    "\n",
    "# Add state lines, coastlines, map extent\n",
    "ax.add_feature(cfeature.OCEAN.with_scale('10m'), color='lightgray')\n",
    "ax.add_feature(cfeature.COASTLINE.with_scale('10m'), linewidth=0.75)\n",
    "ax.add_feature(USCOUNTIES.with_scale('20m'), edgecolor='lightgray', zorder=1, linewidth=0.75)\n",
    "ax.add_feature(cfeature.STATES.with_scale('10m'), linewidth=3.00)\n",
    "ax.set_extent([-89, -75, 23, 37])\n",
    "ax.set_adjustable('datalim')\n",
    "\n",
    "# Plot isotachs\n",
    "uhel_values = np.arange(20, 200, 20)\n",
    "contour = ax.contour(lons, lats, uhel, uhel_values, linewidths=1.0, linestyles='solid',\n",
    "                          colors='orange', zorder=10, transform=ccrs.PlateCarree())\n",
    "\n",
    "# Display Banner\n",
    "plt.text(0.01, 0.95, s=f'Model Simulated Rotating Updrafts\\n{LOCAL_TIME}',\n",
    "         fontname='Arial', fontsize=48, fontweight='bold', color='white',\n",
    "         bbox={'facecolor': 'navy', 'alpha': 1.0, 'edgecolor': 'none'},\n",
    "         transform=ax.transAxes, zorder=10, va='top')\n",
    "\n",
    "# Save figure\n",
    "graphics_dir = '../..' / Path('.') / 'graphics' / 'models'\n",
    "plt.savefig(f'{graphics_dir}/uphl_{VALID_TIME}.png', dpi=72)\n",
    "plt.show()"
   ]
  },
  {
   "cell_type": "code",
   "execution_count": null,
   "metadata": {},
   "outputs": [],
   "source": []
  }
 ],
 "metadata": {
  "kernelspec": {
   "display_name": "Python 3",
   "language": "python",
   "name": "python3"
  },
  "language_info": {
   "codemirror_mode": {
    "name": "ipython",
    "version": 3
   },
   "file_extension": ".py",
   "mimetype": "text/x-python",
   "name": "python",
   "nbconvert_exporter": "python",
   "pygments_lexer": "ipython3",
   "version": "3.7.8"
  }
 },
 "nbformat": 4,
 "nbformat_minor": 4
}
