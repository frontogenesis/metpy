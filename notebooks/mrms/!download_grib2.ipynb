{
 "cells": [
  {
   "cell_type": "code",
   "execution_count": 1,
   "metadata": {},
   "outputs": [],
   "source": [
    "import gzip\n",
    "from glob import glob\n",
    "import os\n",
    "import shutil\n",
    "import urllib.request as request\n",
    "from contextlib import closing"
   ]
  },
  {
   "cell_type": "code",
   "execution_count": 2,
   "metadata": {},
   "outputs": [],
   "source": [
    "# Download files\n",
    "\n",
    "mrms = {\n",
    "    'qpe_gauge_corr_72h': 'https://mrms.ncep.noaa.gov/data/2D/MultiSensor_QPE_72H_Pass2/MRMS_MultiSensor_QPE_72H_Pass2.latest.grib2.gz',\n",
    "    'lightning_30min_density': 'https://mrms.ncep.noaa.gov/data/2D/NLDN_CG_030min_AvgDensity/MRMS_NLDN_CG_030min_AvgDensity.latest.grib2.gz',\n",
    "    'hail_24h': 'https://mrms.ncep.noaa.gov/data/2D/MESH_Max_1440min/MRMS_MESH_Max_1440min.latest.grib2.gz',\n",
    "    'reflectivity_lowest_altitude': 'https://mrms.ncep.noaa.gov/data/2D/ReflectivityAtLowestAltitude/MRMS_ReflectivityAtLowestAltitude.latest.grib2.gz',\n",
    "    'reflectivity_20deg_celsius': 'https://mrms.ncep.noaa.gov/data/2D/Reflectivity_-20C/MRMS_Reflectivity_-20C.latest.grib2.gz',\n",
    "    'rotation_24h': 'https://mrms.ncep.noaa.gov/data/2D/RotationTrack1440min/MRMS_RotationTrack1440min.latest.grib2.gz',\n",
    "}\n",
    "\n",
    "def download_mrms(file_url):\n",
    "    file = file_url.split('/')[-1]\n",
    "    grib2 = '.'.join(file.split('.')[0:-1])\n",
    "    \n",
    "    with closing(request.urlopen(file_url)) as r:\n",
    "        with open(file, 'wb') as f:\n",
    "            shutil.copyfileobj(r, f)\n",
    "    \n",
    "    with gzip.open(file, 'rb') as f_in:\n",
    "        with open(grib2, 'wb') as f_out:\n",
    "            shutil.copyfileobj(f_in, f_out)\n",
    "            \n",
    "    shutil.move(grib2, f'data/')\n",
    "    os.remove(file)\n",
    "    \n",
    "\n",
    "def clear_folder_contents(folder):\n",
    "    '''\n",
    "    Clears all contents of folder specified in the argument\n",
    "    '''\n",
    "    for file in os.listdir(folder):\n",
    "        file_path = os.path.join(folder, file)\n",
    "        try:\n",
    "            if os.path.isfile(file_path):\n",
    "                os.unlink(file_path)\n",
    "            elif os.path.isdir(file_path): \n",
    "                shutil.rmtree(file_path)\n",
    "        except Exception as e:\n",
    "            print(e)\n",
    "\n",
    "    \n",
    "# Clear directories before getting data\n",
    "clear_folder_contents('data')\n",
    "\n",
    "# Download the data        \n",
    "for grib2 in mrms.values():\n",
    "    download_mrms(grib2)"
   ]
  },
  {
   "cell_type": "code",
   "execution_count": null,
   "metadata": {},
   "outputs": [],
   "source": []
  }
 ],
 "metadata": {
  "kernelspec": {
   "display_name": "Python 3",
   "language": "python",
   "name": "python3"
  },
  "language_info": {
   "codemirror_mode": {
    "name": "ipython",
    "version": 3
   },
   "file_extension": ".py",
   "mimetype": "text/x-python",
   "name": "python",
   "nbconvert_exporter": "python",
   "pygments_lexer": "ipython3",
   "version": "3.7.8"
  }
 },
 "nbformat": 4,
 "nbformat_minor": 4
}
