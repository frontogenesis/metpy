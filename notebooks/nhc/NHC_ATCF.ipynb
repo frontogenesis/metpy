{
 "cells": [
  {
   "cell_type": "code",
   "execution_count": null,
   "metadata": {},
   "outputs": [],
   "source": [
    "# url = 'https://www.nhc.noaa.gov/data/hurdat/hurdat2-1851-2019-052520.txt'"
   ]
  },
  {
   "cell_type": "code",
   "execution_count": 50,
   "metadata": {},
   "outputs": [],
   "source": [
    "storm_init_info = []\n",
    "\n",
    "with open('hurdat2-1851-2019-052520.txt') as f:\n",
    "    for line in f:\n",
    "        if line.startswith('AL'):\n",
    "            initial_data = (next(f, '').strip())\n",
    "            storm_init_info.append(initial_data)"
   ]
  },
  {
   "cell_type": "code",
   "execution_count": 51,
   "metadata": {},
   "outputs": [],
   "source": [
    "# Write out storm_init_info to another file\n",
    "with open('hurdat2-filtered.txt', mode='wt', encoding='utf-8') as f:\n",
    "    f.write('\\n'.join(storm_init_info))"
   ]
  },
  {
   "cell_type": "code",
   "execution_count": null,
   "metadata": {},
   "outputs": [],
   "source": []
  }
 ],
 "metadata": {
  "kernelspec": {
   "display_name": "Python 3",
   "language": "python",
   "name": "python3"
  },
  "language_info": {
   "codemirror_mode": {
    "name": "ipython",
    "version": 3
   },
   "file_extension": ".py",
   "mimetype": "text/x-python",
   "name": "python",
   "nbconvert_exporter": "python",
   "pygments_lexer": "ipython3",
   "version": "3.7.8"
  }
 },
 "nbformat": 4,
 "nbformat_minor": 4
}
