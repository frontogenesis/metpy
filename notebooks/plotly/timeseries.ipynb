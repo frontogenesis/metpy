{
 "cells": [
  {
   "cell_type": "code",
   "execution_count": 1,
   "id": "bf56cafb-53f6-4297-a437-13a6bfaa6fb3",
   "metadata": {},
   "outputs": [],
   "source": [
    "import plotly.express as px\n",
    "import xarray as xr\n",
    "from metpy.units import units\n",
    "from dateutil import tz\n",
    "\n",
    "from datetime import datetime"
   ]
  },
  {
   "cell_type": "code",
   "execution_count": 2,
   "id": "c532cf9e-dee1-45c4-9f95-1eace0bab9aa",
   "metadata": {},
   "outputs": [],
   "source": [
    "'''\n",
    "Define Model Parameters\n",
    "'''\n",
    "MODEL_DATE = '20230614'\n",
    "MODEL_CYCLE = '00z'\n",
    "\n",
    "# Define area of interest\n",
    "LAT = 19.0\n",
    "LON = -83.0"
   ]
  },
  {
   "cell_type": "code",
   "execution_count": 3,
   "id": "79d4ae53-b410-4318-91a7-ac244f11063f",
   "metadata": {},
   "outputs": [
    {
     "name": "stderr",
     "output_type": "stream",
     "text": [
      "/Users/rhawthorne/miniconda3/envs/metpy/lib/python3.11/site-packages/xarray/coding/times.py:154: SerializationWarning: Ambiguous reference date string: 1-1-1 00:00:0.0. The first value is assumed to be the year hence will be padded with zeros to remove the ambiguity (the padded reference date string is: 0001-1-1 00:00:0.0). To remove this message, remove the ambiguity by padding your reference date strings with zeros.\n",
      "  warnings.warn(warning_msg, SerializationWarning)\n"
     ]
    }
   ],
   "source": [
    "base_url = f'https://nomads.ncep.noaa.gov/dods/wave/gfswave/{MODEL_DATE}/gfswave.atlocn.0p16_{MODEL_CYCLE}'\n",
    "\n",
    "ds = xr.open_dataset(base_url, decode_times=True)\n",
    "\n",
    "wave_height = ds.htsgwsfc.metpy.sel(lat=LAT, lon=360+LON, method='nearest') * units('m')\n",
    "wave_height = wave_height.metpy.convert_units('feet')"
   ]
  },
  {
   "cell_type": "code",
   "execution_count": 4,
   "id": "799ef909-d758-415c-9b46-87da56862916",
   "metadata": {},
   "outputs": [
    {
     "data": {
      "text/html": [
       "<div><svg style=\"position: absolute; width: 0; height: 0; overflow: hidden\">\n",
       "<defs>\n",
       "<symbol id=\"icon-database\" viewBox=\"0 0 32 32\">\n",
       "<path d=\"M16 0c-8.837 0-16 2.239-16 5v4c0 2.761 7.163 5 16 5s16-2.239 16-5v-4c0-2.761-7.163-5-16-5z\"></path>\n",
       "<path d=\"M16 17c-8.837 0-16-2.239-16-5v6c0 2.761 7.163 5 16 5s16-2.239 16-5v-6c0 2.761-7.163 5-16 5z\"></path>\n",
       "<path d=\"M16 26c-8.837 0-16-2.239-16-5v6c0 2.761 7.163 5 16 5s16-2.239 16-5v-6c0 2.761-7.163 5-16 5z\"></path>\n",
       "</symbol>\n",
       "<symbol id=\"icon-file-text2\" viewBox=\"0 0 32 32\">\n",
       "<path d=\"M28.681 7.159c-0.694-0.947-1.662-2.053-2.724-3.116s-2.169-2.030-3.116-2.724c-1.612-1.182-2.393-1.319-2.841-1.319h-15.5c-1.378 0-2.5 1.121-2.5 2.5v27c0 1.378 1.122 2.5 2.5 2.5h23c1.378 0 2.5-1.122 2.5-2.5v-19.5c0-0.448-0.137-1.23-1.319-2.841zM24.543 5.457c0.959 0.959 1.712 1.825 2.268 2.543h-4.811v-4.811c0.718 0.556 1.584 1.309 2.543 2.268zM28 29.5c0 0.271-0.229 0.5-0.5 0.5h-23c-0.271 0-0.5-0.229-0.5-0.5v-27c0-0.271 0.229-0.5 0.5-0.5 0 0 15.499-0 15.5 0v7c0 0.552 0.448 1 1 1h7v19.5z\"></path>\n",
       "<path d=\"M23 26h-14c-0.552 0-1-0.448-1-1s0.448-1 1-1h14c0.552 0 1 0.448 1 1s-0.448 1-1 1z\"></path>\n",
       "<path d=\"M23 22h-14c-0.552 0-1-0.448-1-1s0.448-1 1-1h14c0.552 0 1 0.448 1 1s-0.448 1-1 1z\"></path>\n",
       "<path d=\"M23 18h-14c-0.552 0-1-0.448-1-1s0.448-1 1-1h14c0.552 0 1 0.448 1 1s-0.448 1-1 1z\"></path>\n",
       "</symbol>\n",
       "</defs>\n",
       "</svg>\n",
       "<style>/* CSS stylesheet for displaying xarray objects in jupyterlab.\n",
       " *\n",
       " */\n",
       "\n",
       ":root {\n",
       "  --xr-font-color0: var(--jp-content-font-color0, rgba(0, 0, 0, 1));\n",
       "  --xr-font-color2: var(--jp-content-font-color2, rgba(0, 0, 0, 0.54));\n",
       "  --xr-font-color3: var(--jp-content-font-color3, rgba(0, 0, 0, 0.38));\n",
       "  --xr-border-color: var(--jp-border-color2, #e0e0e0);\n",
       "  --xr-disabled-color: var(--jp-layout-color3, #bdbdbd);\n",
       "  --xr-background-color: var(--jp-layout-color0, white);\n",
       "  --xr-background-color-row-even: var(--jp-layout-color1, white);\n",
       "  --xr-background-color-row-odd: var(--jp-layout-color2, #eeeeee);\n",
       "}\n",
       "\n",
       "html[theme=dark],\n",
       "body[data-theme=dark],\n",
       "body.vscode-dark {\n",
       "  --xr-font-color0: rgba(255, 255, 255, 1);\n",
       "  --xr-font-color2: rgba(255, 255, 255, 0.54);\n",
       "  --xr-font-color3: rgba(255, 255, 255, 0.38);\n",
       "  --xr-border-color: #1F1F1F;\n",
       "  --xr-disabled-color: #515151;\n",
       "  --xr-background-color: #111111;\n",
       "  --xr-background-color-row-even: #111111;\n",
       "  --xr-background-color-row-odd: #313131;\n",
       "}\n",
       "\n",
       ".xr-wrap {\n",
       "  display: block !important;\n",
       "  min-width: 300px;\n",
       "  max-width: 700px;\n",
       "}\n",
       "\n",
       ".xr-text-repr-fallback {\n",
       "  /* fallback to plain text repr when CSS is not injected (untrusted notebook) */\n",
       "  display: none;\n",
       "}\n",
       "\n",
       ".xr-header {\n",
       "  padding-top: 6px;\n",
       "  padding-bottom: 6px;\n",
       "  margin-bottom: 4px;\n",
       "  border-bottom: solid 1px var(--xr-border-color);\n",
       "}\n",
       "\n",
       ".xr-header > div,\n",
       ".xr-header > ul {\n",
       "  display: inline;\n",
       "  margin-top: 0;\n",
       "  margin-bottom: 0;\n",
       "}\n",
       "\n",
       ".xr-obj-type,\n",
       ".xr-array-name {\n",
       "  margin-left: 2px;\n",
       "  margin-right: 10px;\n",
       "}\n",
       "\n",
       ".xr-obj-type {\n",
       "  color: var(--xr-font-color2);\n",
       "}\n",
       "\n",
       ".xr-sections {\n",
       "  padding-left: 0 !important;\n",
       "  display: grid;\n",
       "  grid-template-columns: 150px auto auto 1fr 20px 20px;\n",
       "}\n",
       "\n",
       ".xr-section-item {\n",
       "  display: contents;\n",
       "}\n",
       "\n",
       ".xr-section-item input {\n",
       "  display: none;\n",
       "}\n",
       "\n",
       ".xr-section-item input + label {\n",
       "  color: var(--xr-disabled-color);\n",
       "}\n",
       "\n",
       ".xr-section-item input:enabled + label {\n",
       "  cursor: pointer;\n",
       "  color: var(--xr-font-color2);\n",
       "}\n",
       "\n",
       ".xr-section-item input:enabled + label:hover {\n",
       "  color: var(--xr-font-color0);\n",
       "}\n",
       "\n",
       ".xr-section-summary {\n",
       "  grid-column: 1;\n",
       "  color: var(--xr-font-color2);\n",
       "  font-weight: 500;\n",
       "}\n",
       "\n",
       ".xr-section-summary > span {\n",
       "  display: inline-block;\n",
       "  padding-left: 0.5em;\n",
       "}\n",
       "\n",
       ".xr-section-summary-in:disabled + label {\n",
       "  color: var(--xr-font-color2);\n",
       "}\n",
       "\n",
       ".xr-section-summary-in + label:before {\n",
       "  display: inline-block;\n",
       "  content: '►';\n",
       "  font-size: 11px;\n",
       "  width: 15px;\n",
       "  text-align: center;\n",
       "}\n",
       "\n",
       ".xr-section-summary-in:disabled + label:before {\n",
       "  color: var(--xr-disabled-color);\n",
       "}\n",
       "\n",
       ".xr-section-summary-in:checked + label:before {\n",
       "  content: '▼';\n",
       "}\n",
       "\n",
       ".xr-section-summary-in:checked + label > span {\n",
       "  display: none;\n",
       "}\n",
       "\n",
       ".xr-section-summary,\n",
       ".xr-section-inline-details {\n",
       "  padding-top: 4px;\n",
       "  padding-bottom: 4px;\n",
       "}\n",
       "\n",
       ".xr-section-inline-details {\n",
       "  grid-column: 2 / -1;\n",
       "}\n",
       "\n",
       ".xr-section-details {\n",
       "  display: none;\n",
       "  grid-column: 1 / -1;\n",
       "  margin-bottom: 5px;\n",
       "}\n",
       "\n",
       ".xr-section-summary-in:checked ~ .xr-section-details {\n",
       "  display: contents;\n",
       "}\n",
       "\n",
       ".xr-array-wrap {\n",
       "  grid-column: 1 / -1;\n",
       "  display: grid;\n",
       "  grid-template-columns: 20px auto;\n",
       "}\n",
       "\n",
       ".xr-array-wrap > label {\n",
       "  grid-column: 1;\n",
       "  vertical-align: top;\n",
       "}\n",
       "\n",
       ".xr-preview {\n",
       "  color: var(--xr-font-color3);\n",
       "}\n",
       "\n",
       ".xr-array-preview,\n",
       ".xr-array-data {\n",
       "  padding: 0 5px !important;\n",
       "  grid-column: 2;\n",
       "}\n",
       "\n",
       ".xr-array-data,\n",
       ".xr-array-in:checked ~ .xr-array-preview {\n",
       "  display: none;\n",
       "}\n",
       "\n",
       ".xr-array-in:checked ~ .xr-array-data,\n",
       ".xr-array-preview {\n",
       "  display: inline-block;\n",
       "}\n",
       "\n",
       ".xr-dim-list {\n",
       "  display: inline-block !important;\n",
       "  list-style: none;\n",
       "  padding: 0 !important;\n",
       "  margin: 0;\n",
       "}\n",
       "\n",
       ".xr-dim-list li {\n",
       "  display: inline-block;\n",
       "  padding: 0;\n",
       "  margin: 0;\n",
       "}\n",
       "\n",
       ".xr-dim-list:before {\n",
       "  content: '(';\n",
       "}\n",
       "\n",
       ".xr-dim-list:after {\n",
       "  content: ')';\n",
       "}\n",
       "\n",
       ".xr-dim-list li:not(:last-child):after {\n",
       "  content: ',';\n",
       "  padding-right: 5px;\n",
       "}\n",
       "\n",
       ".xr-has-index {\n",
       "  font-weight: bold;\n",
       "}\n",
       "\n",
       ".xr-var-list,\n",
       ".xr-var-item {\n",
       "  display: contents;\n",
       "}\n",
       "\n",
       ".xr-var-item > div,\n",
       ".xr-var-item label,\n",
       ".xr-var-item > .xr-var-name span {\n",
       "  background-color: var(--xr-background-color-row-even);\n",
       "  margin-bottom: 0;\n",
       "}\n",
       "\n",
       ".xr-var-item > .xr-var-name:hover span {\n",
       "  padding-right: 5px;\n",
       "}\n",
       "\n",
       ".xr-var-list > li:nth-child(odd) > div,\n",
       ".xr-var-list > li:nth-child(odd) > label,\n",
       ".xr-var-list > li:nth-child(odd) > .xr-var-name span {\n",
       "  background-color: var(--xr-background-color-row-odd);\n",
       "}\n",
       "\n",
       ".xr-var-name {\n",
       "  grid-column: 1;\n",
       "}\n",
       "\n",
       ".xr-var-dims {\n",
       "  grid-column: 2;\n",
       "}\n",
       "\n",
       ".xr-var-dtype {\n",
       "  grid-column: 3;\n",
       "  text-align: right;\n",
       "  color: var(--xr-font-color2);\n",
       "}\n",
       "\n",
       ".xr-var-preview {\n",
       "  grid-column: 4;\n",
       "}\n",
       "\n",
       ".xr-index-preview {\n",
       "  grid-column: 2 / 5;\n",
       "  color: var(--xr-font-color2);\n",
       "}\n",
       "\n",
       ".xr-var-name,\n",
       ".xr-var-dims,\n",
       ".xr-var-dtype,\n",
       ".xr-preview,\n",
       ".xr-attrs dt {\n",
       "  white-space: nowrap;\n",
       "  overflow: hidden;\n",
       "  text-overflow: ellipsis;\n",
       "  padding-right: 10px;\n",
       "}\n",
       "\n",
       ".xr-var-name:hover,\n",
       ".xr-var-dims:hover,\n",
       ".xr-var-dtype:hover,\n",
       ".xr-attrs dt:hover {\n",
       "  overflow: visible;\n",
       "  width: auto;\n",
       "  z-index: 1;\n",
       "}\n",
       "\n",
       ".xr-var-attrs,\n",
       ".xr-var-data,\n",
       ".xr-index-data {\n",
       "  display: none;\n",
       "  background-color: var(--xr-background-color) !important;\n",
       "  padding-bottom: 5px !important;\n",
       "}\n",
       "\n",
       ".xr-var-attrs-in:checked ~ .xr-var-attrs,\n",
       ".xr-var-data-in:checked ~ .xr-var-data,\n",
       ".xr-index-data-in:checked ~ .xr-index-data {\n",
       "  display: block;\n",
       "}\n",
       "\n",
       ".xr-var-data > table {\n",
       "  float: right;\n",
       "}\n",
       "\n",
       ".xr-var-name span,\n",
       ".xr-var-data,\n",
       ".xr-index-name div,\n",
       ".xr-index-data,\n",
       ".xr-attrs {\n",
       "  padding-left: 25px !important;\n",
       "}\n",
       "\n",
       ".xr-attrs,\n",
       ".xr-var-attrs,\n",
       ".xr-var-data,\n",
       ".xr-index-data {\n",
       "  grid-column: 1 / -1;\n",
       "}\n",
       "\n",
       "dl.xr-attrs {\n",
       "  padding: 0;\n",
       "  margin: 0;\n",
       "  display: grid;\n",
       "  grid-template-columns: 125px auto;\n",
       "}\n",
       "\n",
       ".xr-attrs dt,\n",
       ".xr-attrs dd {\n",
       "  padding: 0;\n",
       "  margin: 0;\n",
       "  float: left;\n",
       "  padding-right: 10px;\n",
       "  width: auto;\n",
       "}\n",
       "\n",
       ".xr-attrs dt {\n",
       "  font-weight: normal;\n",
       "  grid-column: 1;\n",
       "}\n",
       "\n",
       ".xr-attrs dt:hover span {\n",
       "  display: inline-block;\n",
       "  background: var(--xr-background-color);\n",
       "  padding-right: 10px;\n",
       "}\n",
       "\n",
       ".xr-attrs dd {\n",
       "  grid-column: 2;\n",
       "  white-space: pre-wrap;\n",
       "  word-break: break-all;\n",
       "}\n",
       "\n",
       ".xr-icon-database,\n",
       ".xr-icon-file-text2,\n",
       ".xr-no-icon {\n",
       "  display: inline-block;\n",
       "  vertical-align: middle;\n",
       "  width: 1em;\n",
       "  height: 1.5em !important;\n",
       "  stroke-width: 0;\n",
       "  stroke: currentColor;\n",
       "  fill: currentColor;\n",
       "}\n",
       "</style><pre class='xr-text-repr-fallback'>&lt;xarray.DataArray &#x27;htsgwsfc&#x27; (time: 129)&gt;\n",
       "&lt;Quantity([5.2493434 4.954068  4.593176  4.757218  4.8228345 4.790026  4.429134\n",
       " 4.2979    4.0354333 3.9041994 3.9370077 4.0354333 4.1666665 4.396325\n",
       " 4.396325  4.3307085 4.429134  4.5603676 4.790026  5.11811   5.085302\n",
       " 5.085302  5.216535  5.282152  5.1509185 5.2493434 5.4790025 5.7086616\n",
       " 5.8070865 5.6430445 5.511811  5.446194  5.413386  5.511811  5.544619\n",
       " 5.4790025 5.3477693 5.544619  5.7086616 5.8070865 6.3320208 6.856955\n",
       " 7.9068236 8.431758  8.858268  9.153543  9.21916   9.186352  9.055119\n",
       " 8.727034  8.5958    8.431758  7.5131235 6.8897634 6.4960628 6.1351705\n",
       " 5.6758533 5.1509185 4.8556433 4.625984  4.363517  4.1666665 4.0682416\n",
       " 4.0682416 4.0354333 4.133858  4.10105   4.0682416 4.1666665 4.593176\n",
       " 4.8884516 4.8884516 4.724409  4.790026  5.183727  5.544619  5.74147\n",
       " 5.7086616 5.3805776 5.1509185 4.9868765 4.9868765 5.183727  5.577428\n",
       " 5.577428  5.3805776 5.216535  4.954068  4.790026  5.0524936 5.3149605\n",
       " 5.413386  5.1509185 4.92126   4.593176  4.363517  4.0682416 3.969816\n",
       " 3.7401574 3.5433068 3.4776902 3.5104985 3.772966  3.772966  3.6745408\n",
       " 3.9370077 4.2979    5.3149605 5.413386  5.446194  5.577428  5.6758533\n",
       " 5.74147   6.003937  6.430446  6.7913384 7.38189   7.939632  7.8083987\n",
       " 8.038058  7.8083987 7.9724402 8.39895   8.5958    8.628609  8.79265\n",
       " 8.891076  8.956693  8.661417 ], &#x27;foot&#x27;)&gt;\n",
       "Coordinates:\n",
       "  * time     (time) datetime64[ns] 2023-06-14 2023-06-14T03:00:00 ... 2023-06-30\n",
       "    lat      float64 19.0\n",
       "    lon      float64 277.0</pre><div class='xr-wrap' style='display:none'><div class='xr-header'><div class='xr-obj-type'>xarray.DataArray</div><div class='xr-array-name'>'htsgwsfc'</div><ul class='xr-dim-list'><li><span class='xr-has-index'>time</span>: 129</li></ul></div><ul class='xr-sections'><li class='xr-section-item'><div class='xr-array-wrap'><input id='section-18b7ccd6-db23-4819-aec6-55ed37ee3fa0' class='xr-array-in' type='checkbox' checked><label for='section-18b7ccd6-db23-4819-aec6-55ed37ee3fa0' title='Show/hide data repr'><svg class='icon xr-icon-database'><use xlink:href='#icon-database'></use></svg></label><div class='xr-array-preview xr-preview'><span>&lt;Quantity([5.2493434 4.954068  4.593176  4.757218  4.8228345 4.7900...</span></div><div class='xr-array-data'><table><tbody><tr><th>Magnitude</th><td style='text-align:left;'><pre>[5.249343395233154 4.954068183898926 4.593175888061523 4.757217884063721<br> 4.822834491729736 4.7900261878967285 4.429133892059326 4.297900199890137<br> 4.035433292388916 3.9041993618011475 3.9370076656341553 4.035433292388916<br> 4.166666507720947 4.39632511138916 4.39632511138916 4.3307085037231445<br> 4.429133892059326 4.560367584228516 4.7900261878967285 5.118110179901123<br> 5.085301876068115 5.085301876068115 5.2165350914001465 5.28215217590332<br> 5.150918483734131 5.249343395233154 5.479002475738525 5.7086615562438965<br> 5.80708646774292 5.643044471740723 5.511810779571533 5.446194171905518<br> 5.41338586807251 5.511810779571533 5.544619083404541 5.479002475738525<br> 5.347769260406494 5.544619083404541 5.7086615562438965 5.80708646774292<br> 6.3320207595825195 6.856955051422119 7.906823635101318 8.431757926940918<br> 8.858267784118652 9.153543472290039 9.219160079956055 9.186351776123047<br> 9.055118560791016 8.727033615112305 8.595800399780273 8.431757926940918<br> 7.513123512268066 6.889763355255127 6.496062755584717 6.1351704597473145<br> 5.675853252410889 5.150918483734131 4.855643272399902 4.625984191894531<br> 4.363516807556152 4.166666507720947 4.068241596221924 4.068241596221924<br> 4.035433292388916 4.1338582038879395 4.101049900054932 4.068241596221924<br> 4.166666507720947 4.593175888061523 4.88845157623291 4.88845157623291<br> 4.724409103393555 4.7900261878967285 5.183726787567139 5.544619083404541<br> 5.741469860076904 5.7086615562438965 5.380577564239502 5.150918483734131<br> 4.986876487731934 4.986876487731934 5.183726787567139 5.577427864074707<br> 5.577427864074707 5.380577564239502 5.2165350914001465 4.954068183898926<br> 4.7900261878967285 5.052493572235107 5.314960479736328 5.41338586807251<br> 5.150918483734131 4.921259880065918 4.593175888061523 4.363516807556152<br> 4.068241596221924 3.969815969467163 3.74015736579895 3.543306827545166<br> 3.4776902198791504 3.510498523712158 3.772965908050537 3.772965908050537<br> 3.6745407581329346 3.9370076656341553 4.297900199890137 5.314960479736328<br> 5.41338586807251 5.446194171905518 5.577427864074707 5.675853252410889<br> 5.741469860076904 6.003936767578125 6.430446147918701 6.7913384437561035<br> 7.381889820098877 7.939631938934326 7.808398723602295 8.038058280944824<br> 7.808398723602295 7.972440242767334 8.39894962310791 8.595800399780273<br> 8.628608703613281 8.79265022277832 8.89107608795166 8.956692695617676<br> 8.661417007446289]</pre></td></tr><tr><th>Units</th><td style='text-align:left;'>foot</td></tr></tbody></table></div></div></li><li class='xr-section-item'><input id='section-3b798aea-5598-49ea-8054-87b6fb530565' class='xr-section-summary-in' type='checkbox'  checked><label for='section-3b798aea-5598-49ea-8054-87b6fb530565' class='xr-section-summary' >Coordinates: <span>(3)</span></label><div class='xr-section-inline-details'></div><div class='xr-section-details'><ul class='xr-var-list'><li class='xr-var-item'><div class='xr-var-name'><span class='xr-has-index'>time</span></div><div class='xr-var-dims'>(time)</div><div class='xr-var-dtype'>datetime64[ns]</div><div class='xr-var-preview xr-preview'>2023-06-14 ... 2023-06-30</div><input id='attrs-04cd7d75-7e27-431d-9a27-6b252c63ae38' class='xr-var-attrs-in' type='checkbox' ><label for='attrs-04cd7d75-7e27-431d-9a27-6b252c63ae38' title='Show/Hide attributes'><svg class='icon xr-icon-file-text2'><use xlink:href='#icon-file-text2'></use></svg></label><input id='data-836c83bf-f882-450e-8773-86666f1cc9da' class='xr-var-data-in' type='checkbox'><label for='data-836c83bf-f882-450e-8773-86666f1cc9da' title='Show/Hide data repr'><svg class='icon xr-icon-database'><use xlink:href='#icon-database'></use></svg></label><div class='xr-var-attrs'><dl class='xr-attrs'><dt><span>grads_dim :</span></dt><dd>t</dd><dt><span>grads_mapping :</span></dt><dd>linear</dd><dt><span>grads_size :</span></dt><dd>129</dd><dt><span>grads_min :</span></dt><dd>00z14jun2023</dd><dt><span>grads_step :</span></dt><dd>3hr</dd><dt><span>long_name :</span></dt><dd>time</dd><dt><span>minimum :</span></dt><dd>00z14jun2023</dd><dt><span>maximum :</span></dt><dd>00z30jun2023</dd><dt><span>resolution :</span></dt><dd>0.125</dd></dl></div><div class='xr-var-data'><pre>array([&#x27;2023-06-14T00:00:00.000000000&#x27;, &#x27;2023-06-14T03:00:00.000000000&#x27;,\n",
       "       &#x27;2023-06-14T06:00:00.000000000&#x27;, &#x27;2023-06-14T09:00:00.000000000&#x27;,\n",
       "       &#x27;2023-06-14T12:00:00.000000000&#x27;, &#x27;2023-06-14T15:00:00.000000000&#x27;,\n",
       "       &#x27;2023-06-14T18:00:00.000000000&#x27;, &#x27;2023-06-14T21:00:00.000000000&#x27;,\n",
       "       &#x27;2023-06-15T00:00:00.000000000&#x27;, &#x27;2023-06-15T03:00:00.000000000&#x27;,\n",
       "       &#x27;2023-06-15T06:00:00.000000000&#x27;, &#x27;2023-06-15T09:00:00.000000000&#x27;,\n",
       "       &#x27;2023-06-15T12:00:00.000000000&#x27;, &#x27;2023-06-15T15:00:00.000000000&#x27;,\n",
       "       &#x27;2023-06-15T18:00:00.000000000&#x27;, &#x27;2023-06-15T21:00:00.000000000&#x27;,\n",
       "       &#x27;2023-06-16T00:00:00.000000000&#x27;, &#x27;2023-06-16T03:00:00.000000000&#x27;,\n",
       "       &#x27;2023-06-16T06:00:00.000000000&#x27;, &#x27;2023-06-16T09:00:00.000000000&#x27;,\n",
       "       &#x27;2023-06-16T12:00:00.000000000&#x27;, &#x27;2023-06-16T15:00:00.000000000&#x27;,\n",
       "       &#x27;2023-06-16T18:00:00.000000000&#x27;, &#x27;2023-06-16T21:00:00.000000000&#x27;,\n",
       "       &#x27;2023-06-17T00:00:00.000000000&#x27;, &#x27;2023-06-17T03:00:00.000000000&#x27;,\n",
       "       &#x27;2023-06-17T06:00:00.000000000&#x27;, &#x27;2023-06-17T09:00:00.000000000&#x27;,\n",
       "       &#x27;2023-06-17T12:00:00.000000000&#x27;, &#x27;2023-06-17T15:00:00.000000000&#x27;,\n",
       "       &#x27;2023-06-17T18:00:00.000000000&#x27;, &#x27;2023-06-17T21:00:00.000000000&#x27;,\n",
       "       &#x27;2023-06-18T00:00:00.000000000&#x27;, &#x27;2023-06-18T03:00:00.000000000&#x27;,\n",
       "       &#x27;2023-06-18T06:00:00.000000000&#x27;, &#x27;2023-06-18T09:00:00.000000000&#x27;,\n",
       "       &#x27;2023-06-18T12:00:00.000000000&#x27;, &#x27;2023-06-18T15:00:00.000000000&#x27;,\n",
       "       &#x27;2023-06-18T18:00:00.000000000&#x27;, &#x27;2023-06-18T21:00:00.000000000&#x27;,\n",
       "       &#x27;2023-06-19T00:00:00.000000000&#x27;, &#x27;2023-06-19T03:00:00.000000000&#x27;,\n",
       "       &#x27;2023-06-19T06:00:00.000000000&#x27;, &#x27;2023-06-19T09:00:00.000000000&#x27;,\n",
       "       &#x27;2023-06-19T12:00:00.000000000&#x27;, &#x27;2023-06-19T15:00:00.000000000&#x27;,\n",
       "       &#x27;2023-06-19T18:00:00.000000000&#x27;, &#x27;2023-06-19T21:00:00.000000000&#x27;,\n",
       "       &#x27;2023-06-20T00:00:00.000000000&#x27;, &#x27;2023-06-20T03:00:00.000000000&#x27;,\n",
       "       &#x27;2023-06-20T06:00:00.000000000&#x27;, &#x27;2023-06-20T09:00:00.000000000&#x27;,\n",
       "       &#x27;2023-06-20T12:00:00.000000000&#x27;, &#x27;2023-06-20T15:00:00.000000000&#x27;,\n",
       "       &#x27;2023-06-20T18:00:00.000000000&#x27;, &#x27;2023-06-20T21:00:00.000000000&#x27;,\n",
       "       &#x27;2023-06-21T00:00:00.000000000&#x27;, &#x27;2023-06-21T03:00:00.000000000&#x27;,\n",
       "       &#x27;2023-06-21T06:00:00.000000000&#x27;, &#x27;2023-06-21T09:00:00.000000000&#x27;,\n",
       "       &#x27;2023-06-21T12:00:00.000000000&#x27;, &#x27;2023-06-21T15:00:00.000000000&#x27;,\n",
       "       &#x27;2023-06-21T18:00:00.000000000&#x27;, &#x27;2023-06-21T21:00:00.000000000&#x27;,\n",
       "       &#x27;2023-06-22T00:00:00.000000000&#x27;, &#x27;2023-06-22T03:00:00.000000000&#x27;,\n",
       "       &#x27;2023-06-22T06:00:00.000000000&#x27;, &#x27;2023-06-22T09:00:00.000000000&#x27;,\n",
       "       &#x27;2023-06-22T12:00:00.000000000&#x27;, &#x27;2023-06-22T15:00:00.000000000&#x27;,\n",
       "       &#x27;2023-06-22T18:00:00.000000000&#x27;, &#x27;2023-06-22T21:00:00.000000000&#x27;,\n",
       "       &#x27;2023-06-23T00:00:00.000000000&#x27;, &#x27;2023-06-23T03:00:00.000000000&#x27;,\n",
       "       &#x27;2023-06-23T06:00:00.000000000&#x27;, &#x27;2023-06-23T09:00:00.000000000&#x27;,\n",
       "       &#x27;2023-06-23T12:00:00.000000000&#x27;, &#x27;2023-06-23T15:00:00.000000000&#x27;,\n",
       "       &#x27;2023-06-23T18:00:00.000000000&#x27;, &#x27;2023-06-23T21:00:00.000000000&#x27;,\n",
       "       &#x27;2023-06-24T00:00:00.000000000&#x27;, &#x27;2023-06-24T03:00:00.000000000&#x27;,\n",
       "       &#x27;2023-06-24T06:00:00.000000000&#x27;, &#x27;2023-06-24T09:00:00.000000000&#x27;,\n",
       "       &#x27;2023-06-24T12:00:00.000000000&#x27;, &#x27;2023-06-24T15:00:00.000000000&#x27;,\n",
       "       &#x27;2023-06-24T18:00:00.000000000&#x27;, &#x27;2023-06-24T21:00:00.000000000&#x27;,\n",
       "       &#x27;2023-06-25T00:00:00.000000000&#x27;, &#x27;2023-06-25T03:00:00.000000000&#x27;,\n",
       "       &#x27;2023-06-25T06:00:00.000000000&#x27;, &#x27;2023-06-25T09:00:00.000000000&#x27;,\n",
       "       &#x27;2023-06-25T12:00:00.000000000&#x27;, &#x27;2023-06-25T15:00:00.000000000&#x27;,\n",
       "       &#x27;2023-06-25T18:00:00.000000000&#x27;, &#x27;2023-06-25T21:00:00.000000000&#x27;,\n",
       "       &#x27;2023-06-26T00:00:00.000000000&#x27;, &#x27;2023-06-26T03:00:00.000000000&#x27;,\n",
       "       &#x27;2023-06-26T06:00:00.000000000&#x27;, &#x27;2023-06-26T09:00:00.000000000&#x27;,\n",
       "       &#x27;2023-06-26T12:00:00.000000000&#x27;, &#x27;2023-06-26T15:00:00.000000000&#x27;,\n",
       "       &#x27;2023-06-26T18:00:00.000000000&#x27;, &#x27;2023-06-26T21:00:00.000000000&#x27;,\n",
       "       &#x27;2023-06-27T00:00:00.000000000&#x27;, &#x27;2023-06-27T03:00:00.000000000&#x27;,\n",
       "       &#x27;2023-06-27T06:00:00.000000000&#x27;, &#x27;2023-06-27T09:00:00.000000000&#x27;,\n",
       "       &#x27;2023-06-27T12:00:00.000000000&#x27;, &#x27;2023-06-27T15:00:00.000000000&#x27;,\n",
       "       &#x27;2023-06-27T18:00:00.000000000&#x27;, &#x27;2023-06-27T21:00:00.000000000&#x27;,\n",
       "       &#x27;2023-06-28T00:00:00.000000000&#x27;, &#x27;2023-06-28T03:00:00.000000000&#x27;,\n",
       "       &#x27;2023-06-28T06:00:00.000000000&#x27;, &#x27;2023-06-28T09:00:00.000000000&#x27;,\n",
       "       &#x27;2023-06-28T12:00:00.000000000&#x27;, &#x27;2023-06-28T15:00:00.000000000&#x27;,\n",
       "       &#x27;2023-06-28T18:00:00.000000000&#x27;, &#x27;2023-06-28T21:00:00.000000000&#x27;,\n",
       "       &#x27;2023-06-29T00:00:00.000000000&#x27;, &#x27;2023-06-29T03:00:00.000000000&#x27;,\n",
       "       &#x27;2023-06-29T06:00:00.000000000&#x27;, &#x27;2023-06-29T09:00:00.000000000&#x27;,\n",
       "       &#x27;2023-06-29T12:00:00.000000000&#x27;, &#x27;2023-06-29T15:00:00.000000000&#x27;,\n",
       "       &#x27;2023-06-29T18:00:00.000000000&#x27;, &#x27;2023-06-29T21:00:00.000000000&#x27;,\n",
       "       &#x27;2023-06-30T00:00:00.000000000&#x27;], dtype=&#x27;datetime64[ns]&#x27;)</pre></div></li><li class='xr-var-item'><div class='xr-var-name'><span>lat</span></div><div class='xr-var-dims'>()</div><div class='xr-var-dtype'>float64</div><div class='xr-var-preview xr-preview'>19.0</div><input id='attrs-00438836-3319-40f9-a5de-db5fa3981fd9' class='xr-var-attrs-in' type='checkbox' ><label for='attrs-00438836-3319-40f9-a5de-db5fa3981fd9' title='Show/Hide attributes'><svg class='icon xr-icon-file-text2'><use xlink:href='#icon-file-text2'></use></svg></label><input id='data-0a05c006-4624-4c1d-89db-37cff4aee33c' class='xr-var-data-in' type='checkbox'><label for='data-0a05c006-4624-4c1d-89db-37cff4aee33c' title='Show/Hide data repr'><svg class='icon xr-icon-database'><use xlink:href='#icon-database'></use></svg></label><div class='xr-var-attrs'><dl class='xr-attrs'><dt><span>grads_dim :</span></dt><dd>y</dd><dt><span>grads_mapping :</span></dt><dd>linear</dd><dt><span>grads_size :</span></dt><dd>331</dd><dt><span>units :</span></dt><dd>degrees_north</dd><dt><span>long_name :</span></dt><dd>latitude</dd><dt><span>minimum :</span></dt><dd>0.0</dd><dt><span>maximum :</span></dt><dd>55.00011</dd><dt><span>resolution :</span></dt><dd>0.166667</dd></dl></div><div class='xr-var-data'><pre>array(19.000038)</pre></div></li><li class='xr-var-item'><div class='xr-var-name'><span>lon</span></div><div class='xr-var-dims'>()</div><div class='xr-var-dtype'>float64</div><div class='xr-var-preview xr-preview'>277.0</div><input id='attrs-603d0fc7-aa1d-4419-b7d5-b9dac0ee5dd9' class='xr-var-attrs-in' type='checkbox' ><label for='attrs-603d0fc7-aa1d-4419-b7d5-b9dac0ee5dd9' title='Show/Hide attributes'><svg class='icon xr-icon-file-text2'><use xlink:href='#icon-file-text2'></use></svg></label><input id='data-c52f5f59-47cb-4c9f-b0b0-2014502e8b2b' class='xr-var-data-in' type='checkbox'><label for='data-c52f5f59-47cb-4c9f-b0b0-2014502e8b2b' title='Show/Hide data repr'><svg class='icon xr-icon-database'><use xlink:href='#icon-database'></use></svg></label><div class='xr-var-attrs'><dl class='xr-attrs'><dt><span>grads_dim :</span></dt><dd>x</dd><dt><span>grads_mapping :</span></dt><dd>linear</dd><dt><span>grads_size :</span></dt><dd>301</dd><dt><span>units :</span></dt><dd>degrees_east</dd><dt><span>long_name :</span></dt><dd>longitude</dd><dt><span>minimum :</span></dt><dd>260.0</dd><dt><span>maximum :</span></dt><dd>310.0001</dd><dt><span>resolution :</span></dt><dd>0.166667</dd></dl></div><div class='xr-var-data'><pre>array(277.000034)</pre></div></li></ul></div></li><li class='xr-section-item'><input id='section-c19285f6-cb2e-4f14-8c56-4c2c199bb9ca' class='xr-section-summary-in' type='checkbox'  ><label for='section-c19285f6-cb2e-4f14-8c56-4c2c199bb9ca' class='xr-section-summary' >Indexes: <span>(1)</span></label><div class='xr-section-inline-details'></div><div class='xr-section-details'><ul class='xr-var-list'><li class='xr-var-item'><div class='xr-index-name'><div>time</div></div><div class='xr-index-preview'>PandasIndex</div><div></div><input id='index-9edbfaea-7cdb-4dbe-88b8-40e8ec2a418f' class='xr-index-data-in' type='checkbox'/><label for='index-9edbfaea-7cdb-4dbe-88b8-40e8ec2a418f' title='Show/Hide index repr'><svg class='icon xr-icon-database'><use xlink:href='#icon-database'></use></svg></label><div class='xr-index-data'><pre>PandasIndex(DatetimeIndex([&#x27;2023-06-14 00:00:00&#x27;, &#x27;2023-06-14 03:00:00&#x27;,\n",
       "               &#x27;2023-06-14 06:00:00&#x27;, &#x27;2023-06-14 09:00:00&#x27;,\n",
       "               &#x27;2023-06-14 12:00:00&#x27;, &#x27;2023-06-14 15:00:00&#x27;,\n",
       "               &#x27;2023-06-14 18:00:00&#x27;, &#x27;2023-06-14 21:00:00&#x27;,\n",
       "               &#x27;2023-06-15 00:00:00&#x27;, &#x27;2023-06-15 03:00:00&#x27;,\n",
       "               ...\n",
       "               &#x27;2023-06-28 21:00:00&#x27;, &#x27;2023-06-29 00:00:00&#x27;,\n",
       "               &#x27;2023-06-29 03:00:00&#x27;, &#x27;2023-06-29 06:00:00&#x27;,\n",
       "               &#x27;2023-06-29 09:00:00&#x27;, &#x27;2023-06-29 12:00:00&#x27;,\n",
       "               &#x27;2023-06-29 15:00:00&#x27;, &#x27;2023-06-29 18:00:00&#x27;,\n",
       "               &#x27;2023-06-29 21:00:00&#x27;, &#x27;2023-06-30 00:00:00&#x27;],\n",
       "              dtype=&#x27;datetime64[ns]&#x27;, name=&#x27;time&#x27;, length=129, freq=None))</pre></div></li></ul></div></li><li class='xr-section-item'><input id='section-252d0fcb-9ba6-4ae1-b8b8-a55c5a09e7f0' class='xr-section-summary-in' type='checkbox' disabled ><label for='section-252d0fcb-9ba6-4ae1-b8b8-a55c5a09e7f0' class='xr-section-summary'  title='Expand/collapse section'>Attributes: <span>(0)</span></label><div class='xr-section-inline-details'></div><div class='xr-section-details'><dl class='xr-attrs'></dl></div></li></ul></div></div>"
      ],
      "text/plain": [
       "<xarray.DataArray 'htsgwsfc' (time: 129)>\n",
       "<Quantity([5.2493434 4.954068  4.593176  4.757218  4.8228345 4.790026  4.429134\n",
       " 4.2979    4.0354333 3.9041994 3.9370077 4.0354333 4.1666665 4.396325\n",
       " 4.396325  4.3307085 4.429134  4.5603676 4.790026  5.11811   5.085302\n",
       " 5.085302  5.216535  5.282152  5.1509185 5.2493434 5.4790025 5.7086616\n",
       " 5.8070865 5.6430445 5.511811  5.446194  5.413386  5.511811  5.544619\n",
       " 5.4790025 5.3477693 5.544619  5.7086616 5.8070865 6.3320208 6.856955\n",
       " 7.9068236 8.431758  8.858268  9.153543  9.21916   9.186352  9.055119\n",
       " 8.727034  8.5958    8.431758  7.5131235 6.8897634 6.4960628 6.1351705\n",
       " 5.6758533 5.1509185 4.8556433 4.625984  4.363517  4.1666665 4.0682416\n",
       " 4.0682416 4.0354333 4.133858  4.10105   4.0682416 4.1666665 4.593176\n",
       " 4.8884516 4.8884516 4.724409  4.790026  5.183727  5.544619  5.74147\n",
       " 5.7086616 5.3805776 5.1509185 4.9868765 4.9868765 5.183727  5.577428\n",
       " 5.577428  5.3805776 5.216535  4.954068  4.790026  5.0524936 5.3149605\n",
       " 5.413386  5.1509185 4.92126   4.593176  4.363517  4.0682416 3.969816\n",
       " 3.7401574 3.5433068 3.4776902 3.5104985 3.772966  3.772966  3.6745408\n",
       " 3.9370077 4.2979    5.3149605 5.413386  5.446194  5.577428  5.6758533\n",
       " 5.74147   6.003937  6.430446  6.7913384 7.38189   7.939632  7.8083987\n",
       " 8.038058  7.8083987 7.9724402 8.39895   8.5958    8.628609  8.79265\n",
       " 8.891076  8.956693  8.661417 ], 'foot')>\n",
       "Coordinates:\n",
       "  * time     (time) datetime64[ns] 2023-06-14 2023-06-14T03:00:00 ... 2023-06-30\n",
       "    lat      float64 19.0\n",
       "    lon      float64 277.0"
      ]
     },
     "execution_count": 4,
     "metadata": {},
     "output_type": "execute_result"
    }
   ],
   "source": [
    "wave_height"
   ]
  },
  {
   "cell_type": "code",
   "execution_count": 5,
   "id": "ab813dae-341e-4a1c-bdb1-0b3e69a7b791",
   "metadata": {},
   "outputs": [
    {
     "data": {
      "text/html": [
       "<div>\n",
       "<style scoped>\n",
       "    .dataframe tbody tr th:only-of-type {\n",
       "        vertical-align: middle;\n",
       "    }\n",
       "\n",
       "    .dataframe tbody tr th {\n",
       "        vertical-align: top;\n",
       "    }\n",
       "\n",
       "    .dataframe thead th {\n",
       "        text-align: right;\n",
       "    }\n",
       "</style>\n",
       "<table border=\"1\" class=\"dataframe\">\n",
       "  <thead>\n",
       "    <tr style=\"text-align: right;\">\n",
       "      <th></th>\n",
       "      <th>time</th>\n",
       "      <th>lat</th>\n",
       "      <th>lon</th>\n",
       "      <th>htsgwsfc</th>\n",
       "    </tr>\n",
       "  </thead>\n",
       "  <tbody>\n",
       "    <tr>\n",
       "      <th>0</th>\n",
       "      <td>2023-06-14 00:00:00</td>\n",
       "      <td>19.000038</td>\n",
       "      <td>277.000034</td>\n",
       "      <td>5.249343</td>\n",
       "    </tr>\n",
       "    <tr>\n",
       "      <th>1</th>\n",
       "      <td>2023-06-14 03:00:00</td>\n",
       "      <td>19.000038</td>\n",
       "      <td>277.000034</td>\n",
       "      <td>4.954068</td>\n",
       "    </tr>\n",
       "    <tr>\n",
       "      <th>2</th>\n",
       "      <td>2023-06-14 06:00:00</td>\n",
       "      <td>19.000038</td>\n",
       "      <td>277.000034</td>\n",
       "      <td>4.593176</td>\n",
       "    </tr>\n",
       "    <tr>\n",
       "      <th>3</th>\n",
       "      <td>2023-06-14 09:00:00</td>\n",
       "      <td>19.000038</td>\n",
       "      <td>277.000034</td>\n",
       "      <td>4.757218</td>\n",
       "    </tr>\n",
       "    <tr>\n",
       "      <th>4</th>\n",
       "      <td>2023-06-14 12:00:00</td>\n",
       "      <td>19.000038</td>\n",
       "      <td>277.000034</td>\n",
       "      <td>4.822834</td>\n",
       "    </tr>\n",
       "    <tr>\n",
       "      <th>...</th>\n",
       "      <td>...</td>\n",
       "      <td>...</td>\n",
       "      <td>...</td>\n",
       "      <td>...</td>\n",
       "    </tr>\n",
       "    <tr>\n",
       "      <th>124</th>\n",
       "      <td>2023-06-29 12:00:00</td>\n",
       "      <td>19.000038</td>\n",
       "      <td>277.000034</td>\n",
       "      <td>8.628609</td>\n",
       "    </tr>\n",
       "    <tr>\n",
       "      <th>125</th>\n",
       "      <td>2023-06-29 15:00:00</td>\n",
       "      <td>19.000038</td>\n",
       "      <td>277.000034</td>\n",
       "      <td>8.792650</td>\n",
       "    </tr>\n",
       "    <tr>\n",
       "      <th>126</th>\n",
       "      <td>2023-06-29 18:00:00</td>\n",
       "      <td>19.000038</td>\n",
       "      <td>277.000034</td>\n",
       "      <td>8.891076</td>\n",
       "    </tr>\n",
       "    <tr>\n",
       "      <th>127</th>\n",
       "      <td>2023-06-29 21:00:00</td>\n",
       "      <td>19.000038</td>\n",
       "      <td>277.000034</td>\n",
       "      <td>8.956693</td>\n",
       "    </tr>\n",
       "    <tr>\n",
       "      <th>128</th>\n",
       "      <td>2023-06-30 00:00:00</td>\n",
       "      <td>19.000038</td>\n",
       "      <td>277.000034</td>\n",
       "      <td>8.661417</td>\n",
       "    </tr>\n",
       "  </tbody>\n",
       "</table>\n",
       "<p>129 rows × 4 columns</p>\n",
       "</div>"
      ],
      "text/plain": [
       "                   time        lat         lon  htsgwsfc\n",
       "0   2023-06-14 00:00:00  19.000038  277.000034  5.249343\n",
       "1   2023-06-14 03:00:00  19.000038  277.000034  4.954068\n",
       "2   2023-06-14 06:00:00  19.000038  277.000034  4.593176\n",
       "3   2023-06-14 09:00:00  19.000038  277.000034  4.757218\n",
       "4   2023-06-14 12:00:00  19.000038  277.000034  4.822834\n",
       "..                  ...        ...         ...       ...\n",
       "124 2023-06-29 12:00:00  19.000038  277.000034  8.628609\n",
       "125 2023-06-29 15:00:00  19.000038  277.000034  8.792650\n",
       "126 2023-06-29 18:00:00  19.000038  277.000034  8.891076\n",
       "127 2023-06-29 21:00:00  19.000038  277.000034  8.956693\n",
       "128 2023-06-30 00:00:00  19.000038  277.000034  8.661417\n",
       "\n",
       "[129 rows x 4 columns]"
      ]
     },
     "execution_count": 5,
     "metadata": {},
     "output_type": "execute_result"
    }
   ],
   "source": [
    "df = wave_height.to_dataframe()\n",
    "df.dropna(inplace=True)\n",
    "df.reset_index(inplace=True)\n",
    "df"
   ]
  },
  {
   "cell_type": "code",
   "execution_count": 13,
   "id": "f592697e-ab7f-4351-9bbc-eae7083f2881",
   "metadata": {},
   "outputs": [
    {
     "data": {
      "application/vnd.plotly.v1+json": {
       "config": {
        "plotlyServerURL": "https://plot.ly"
       },
       "data": [
        {
         "hovertemplate": "time=%{x}<br>htsgwsfc=%{y}<extra></extra>",
         "legendgroup": "",
         "line": {
          "color": "#636efa",
          "dash": "solid"
         },
         "marker": {
          "symbol": "circle"
         },
         "mode": "lines",
         "name": "",
         "orientation": "v",
         "showlegend": false,
         "type": "scatter",
         "x": [
          "2023-06-14T00:00:00",
          "2023-06-14T03:00:00",
          "2023-06-14T06:00:00",
          "2023-06-14T09:00:00",
          "2023-06-14T12:00:00",
          "2023-06-14T15:00:00",
          "2023-06-14T18:00:00",
          "2023-06-14T21:00:00",
          "2023-06-15T00:00:00",
          "2023-06-15T03:00:00",
          "2023-06-15T06:00:00",
          "2023-06-15T09:00:00",
          "2023-06-15T12:00:00",
          "2023-06-15T15:00:00",
          "2023-06-15T18:00:00",
          "2023-06-15T21:00:00",
          "2023-06-16T00:00:00",
          "2023-06-16T03:00:00",
          "2023-06-16T06:00:00",
          "2023-06-16T09:00:00",
          "2023-06-16T12:00:00",
          "2023-06-16T15:00:00",
          "2023-06-16T18:00:00",
          "2023-06-16T21:00:00",
          "2023-06-17T00:00:00",
          "2023-06-17T03:00:00",
          "2023-06-17T06:00:00",
          "2023-06-17T09:00:00",
          "2023-06-17T12:00:00",
          "2023-06-17T15:00:00",
          "2023-06-17T18:00:00",
          "2023-06-17T21:00:00",
          "2023-06-18T00:00:00",
          "2023-06-18T03:00:00",
          "2023-06-18T06:00:00",
          "2023-06-18T09:00:00",
          "2023-06-18T12:00:00",
          "2023-06-18T15:00:00",
          "2023-06-18T18:00:00",
          "2023-06-18T21:00:00",
          "2023-06-19T00:00:00",
          "2023-06-19T03:00:00",
          "2023-06-19T06:00:00",
          "2023-06-19T09:00:00",
          "2023-06-19T12:00:00",
          "2023-06-19T15:00:00",
          "2023-06-19T18:00:00",
          "2023-06-19T21:00:00",
          "2023-06-20T00:00:00",
          "2023-06-20T03:00:00",
          "2023-06-20T06:00:00",
          "2023-06-20T09:00:00",
          "2023-06-20T12:00:00",
          "2023-06-20T15:00:00",
          "2023-06-20T18:00:00",
          "2023-06-20T21:00:00",
          "2023-06-21T00:00:00",
          "2023-06-21T03:00:00",
          "2023-06-21T06:00:00",
          "2023-06-21T09:00:00",
          "2023-06-21T12:00:00",
          "2023-06-21T15:00:00",
          "2023-06-21T18:00:00",
          "2023-06-21T21:00:00",
          "2023-06-22T00:00:00",
          "2023-06-22T03:00:00",
          "2023-06-22T06:00:00",
          "2023-06-22T09:00:00",
          "2023-06-22T12:00:00",
          "2023-06-22T15:00:00",
          "2023-06-22T18:00:00",
          "2023-06-22T21:00:00",
          "2023-06-23T00:00:00",
          "2023-06-23T03:00:00",
          "2023-06-23T06:00:00",
          "2023-06-23T09:00:00",
          "2023-06-23T12:00:00",
          "2023-06-23T15:00:00",
          "2023-06-23T18:00:00",
          "2023-06-23T21:00:00",
          "2023-06-24T00:00:00",
          "2023-06-24T03:00:00",
          "2023-06-24T06:00:00",
          "2023-06-24T09:00:00",
          "2023-06-24T12:00:00",
          "2023-06-24T15:00:00",
          "2023-06-24T18:00:00",
          "2023-06-24T21:00:00",
          "2023-06-25T00:00:00",
          "2023-06-25T03:00:00",
          "2023-06-25T06:00:00",
          "2023-06-25T09:00:00",
          "2023-06-25T12:00:00",
          "2023-06-25T15:00:00",
          "2023-06-25T18:00:00",
          "2023-06-25T21:00:00",
          "2023-06-26T00:00:00",
          "2023-06-26T03:00:00",
          "2023-06-26T06:00:00",
          "2023-06-26T09:00:00",
          "2023-06-26T12:00:00",
          "2023-06-26T15:00:00",
          "2023-06-26T18:00:00",
          "2023-06-26T21:00:00",
          "2023-06-27T00:00:00",
          "2023-06-27T03:00:00",
          "2023-06-27T06:00:00",
          "2023-06-27T09:00:00",
          "2023-06-27T12:00:00",
          "2023-06-27T15:00:00",
          "2023-06-27T18:00:00",
          "2023-06-27T21:00:00",
          "2023-06-28T00:00:00",
          "2023-06-28T03:00:00",
          "2023-06-28T06:00:00",
          "2023-06-28T09:00:00",
          "2023-06-28T12:00:00",
          "2023-06-28T15:00:00",
          "2023-06-28T18:00:00",
          "2023-06-28T21:00:00",
          "2023-06-29T00:00:00",
          "2023-06-29T03:00:00",
          "2023-06-29T06:00:00",
          "2023-06-29T09:00:00",
          "2023-06-29T12:00:00",
          "2023-06-29T15:00:00",
          "2023-06-29T18:00:00",
          "2023-06-29T21:00:00",
          "2023-06-30T00:00:00"
         ],
         "xaxis": "x",
         "y": [
          5.249343395233154,
          4.954068183898926,
          4.593175888061523,
          4.757217884063721,
          4.822834491729736,
          4.7900261878967285,
          4.429133892059326,
          4.297900199890137,
          4.035433292388916,
          3.9041993618011475,
          3.9370076656341553,
          4.035433292388916,
          4.166666507720947,
          4.39632511138916,
          4.39632511138916,
          4.3307085037231445,
          4.429133892059326,
          4.560367584228516,
          4.7900261878967285,
          5.118110179901123,
          5.085301876068115,
          5.085301876068115,
          5.2165350914001465,
          5.28215217590332,
          5.150918483734131,
          5.249343395233154,
          5.479002475738525,
          5.7086615562438965,
          5.80708646774292,
          5.643044471740723,
          5.511810779571533,
          5.446194171905518,
          5.41338586807251,
          5.511810779571533,
          5.544619083404541,
          5.479002475738525,
          5.347769260406494,
          5.544619083404541,
          5.7086615562438965,
          5.80708646774292,
          6.3320207595825195,
          6.856955051422119,
          7.906823635101318,
          8.431757926940918,
          8.858267784118652,
          9.153543472290039,
          9.219160079956055,
          9.186351776123047,
          9.055118560791016,
          8.727033615112305,
          8.595800399780273,
          8.431757926940918,
          7.513123512268066,
          6.889763355255127,
          6.496062755584717,
          6.1351704597473145,
          5.675853252410889,
          5.150918483734131,
          4.855643272399902,
          4.625984191894531,
          4.363516807556152,
          4.166666507720947,
          4.068241596221924,
          4.068241596221924,
          4.035433292388916,
          4.1338582038879395,
          4.101049900054932,
          4.068241596221924,
          4.166666507720947,
          4.593175888061523,
          4.88845157623291,
          4.88845157623291,
          4.724409103393555,
          4.7900261878967285,
          5.183726787567139,
          5.544619083404541,
          5.741469860076904,
          5.7086615562438965,
          5.380577564239502,
          5.150918483734131,
          4.986876487731934,
          4.986876487731934,
          5.183726787567139,
          5.577427864074707,
          5.577427864074707,
          5.380577564239502,
          5.2165350914001465,
          4.954068183898926,
          4.7900261878967285,
          5.052493572235107,
          5.314960479736328,
          5.41338586807251,
          5.150918483734131,
          4.921259880065918,
          4.593175888061523,
          4.363516807556152,
          4.068241596221924,
          3.969815969467163,
          3.74015736579895,
          3.543306827545166,
          3.4776902198791504,
          3.510498523712158,
          3.772965908050537,
          3.772965908050537,
          3.6745407581329346,
          3.9370076656341553,
          4.297900199890137,
          5.314960479736328,
          5.41338586807251,
          5.446194171905518,
          5.577427864074707,
          5.675853252410889,
          5.741469860076904,
          6.003936767578125,
          6.430446147918701,
          6.7913384437561035,
          7.381889820098877,
          7.939631938934326,
          7.808398723602295,
          8.038058280944824,
          7.808398723602295,
          7.972440242767334,
          8.39894962310791,
          8.595800399780273,
          8.628608703613281,
          8.79265022277832,
          8.89107608795166,
          8.956692695617676,
          8.661417007446289
         ],
         "yaxis": "y"
        }
       ],
       "layout": {
        "autosize": true,
        "legend": {
         "tracegroupgap": 0
        },
        "template": {
         "data": {
          "bar": [
           {
            "error_x": {
             "color": "#2a3f5f"
            },
            "error_y": {
             "color": "#2a3f5f"
            },
            "marker": {
             "line": {
              "color": "#E5ECF6",
              "width": 0.5
             },
             "pattern": {
              "fillmode": "overlay",
              "size": 10,
              "solidity": 0.2
             }
            },
            "type": "bar"
           }
          ],
          "barpolar": [
           {
            "marker": {
             "line": {
              "color": "#E5ECF6",
              "width": 0.5
             },
             "pattern": {
              "fillmode": "overlay",
              "size": 10,
              "solidity": 0.2
             }
            },
            "type": "barpolar"
           }
          ],
          "carpet": [
           {
            "aaxis": {
             "endlinecolor": "#2a3f5f",
             "gridcolor": "white",
             "linecolor": "white",
             "minorgridcolor": "white",
             "startlinecolor": "#2a3f5f"
            },
            "baxis": {
             "endlinecolor": "#2a3f5f",
             "gridcolor": "white",
             "linecolor": "white",
             "minorgridcolor": "white",
             "startlinecolor": "#2a3f5f"
            },
            "type": "carpet"
           }
          ],
          "choropleth": [
           {
            "colorbar": {
             "outlinewidth": 0,
             "ticks": ""
            },
            "type": "choropleth"
           }
          ],
          "contour": [
           {
            "colorbar": {
             "outlinewidth": 0,
             "ticks": ""
            },
            "colorscale": [
             [
              0,
              "#0d0887"
             ],
             [
              0.1111111111111111,
              "#46039f"
             ],
             [
              0.2222222222222222,
              "#7201a8"
             ],
             [
              0.3333333333333333,
              "#9c179e"
             ],
             [
              0.4444444444444444,
              "#bd3786"
             ],
             [
              0.5555555555555556,
              "#d8576b"
             ],
             [
              0.6666666666666666,
              "#ed7953"
             ],
             [
              0.7777777777777778,
              "#fb9f3a"
             ],
             [
              0.8888888888888888,
              "#fdca26"
             ],
             [
              1,
              "#f0f921"
             ]
            ],
            "type": "contour"
           }
          ],
          "contourcarpet": [
           {
            "colorbar": {
             "outlinewidth": 0,
             "ticks": ""
            },
            "type": "contourcarpet"
           }
          ],
          "heatmap": [
           {
            "colorbar": {
             "outlinewidth": 0,
             "ticks": ""
            },
            "colorscale": [
             [
              0,
              "#0d0887"
             ],
             [
              0.1111111111111111,
              "#46039f"
             ],
             [
              0.2222222222222222,
              "#7201a8"
             ],
             [
              0.3333333333333333,
              "#9c179e"
             ],
             [
              0.4444444444444444,
              "#bd3786"
             ],
             [
              0.5555555555555556,
              "#d8576b"
             ],
             [
              0.6666666666666666,
              "#ed7953"
             ],
             [
              0.7777777777777778,
              "#fb9f3a"
             ],
             [
              0.8888888888888888,
              "#fdca26"
             ],
             [
              1,
              "#f0f921"
             ]
            ],
            "type": "heatmap"
           }
          ],
          "heatmapgl": [
           {
            "colorbar": {
             "outlinewidth": 0,
             "ticks": ""
            },
            "colorscale": [
             [
              0,
              "#0d0887"
             ],
             [
              0.1111111111111111,
              "#46039f"
             ],
             [
              0.2222222222222222,
              "#7201a8"
             ],
             [
              0.3333333333333333,
              "#9c179e"
             ],
             [
              0.4444444444444444,
              "#bd3786"
             ],
             [
              0.5555555555555556,
              "#d8576b"
             ],
             [
              0.6666666666666666,
              "#ed7953"
             ],
             [
              0.7777777777777778,
              "#fb9f3a"
             ],
             [
              0.8888888888888888,
              "#fdca26"
             ],
             [
              1,
              "#f0f921"
             ]
            ],
            "type": "heatmapgl"
           }
          ],
          "histogram": [
           {
            "marker": {
             "pattern": {
              "fillmode": "overlay",
              "size": 10,
              "solidity": 0.2
             }
            },
            "type": "histogram"
           }
          ],
          "histogram2d": [
           {
            "colorbar": {
             "outlinewidth": 0,
             "ticks": ""
            },
            "colorscale": [
             [
              0,
              "#0d0887"
             ],
             [
              0.1111111111111111,
              "#46039f"
             ],
             [
              0.2222222222222222,
              "#7201a8"
             ],
             [
              0.3333333333333333,
              "#9c179e"
             ],
             [
              0.4444444444444444,
              "#bd3786"
             ],
             [
              0.5555555555555556,
              "#d8576b"
             ],
             [
              0.6666666666666666,
              "#ed7953"
             ],
             [
              0.7777777777777778,
              "#fb9f3a"
             ],
             [
              0.8888888888888888,
              "#fdca26"
             ],
             [
              1,
              "#f0f921"
             ]
            ],
            "type": "histogram2d"
           }
          ],
          "histogram2dcontour": [
           {
            "colorbar": {
             "outlinewidth": 0,
             "ticks": ""
            },
            "colorscale": [
             [
              0,
              "#0d0887"
             ],
             [
              0.1111111111111111,
              "#46039f"
             ],
             [
              0.2222222222222222,
              "#7201a8"
             ],
             [
              0.3333333333333333,
              "#9c179e"
             ],
             [
              0.4444444444444444,
              "#bd3786"
             ],
             [
              0.5555555555555556,
              "#d8576b"
             ],
             [
              0.6666666666666666,
              "#ed7953"
             ],
             [
              0.7777777777777778,
              "#fb9f3a"
             ],
             [
              0.8888888888888888,
              "#fdca26"
             ],
             [
              1,
              "#f0f921"
             ]
            ],
            "type": "histogram2dcontour"
           }
          ],
          "mesh3d": [
           {
            "colorbar": {
             "outlinewidth": 0,
             "ticks": ""
            },
            "type": "mesh3d"
           }
          ],
          "parcoords": [
           {
            "line": {
             "colorbar": {
              "outlinewidth": 0,
              "ticks": ""
             }
            },
            "type": "parcoords"
           }
          ],
          "pie": [
           {
            "automargin": true,
            "type": "pie"
           }
          ],
          "scatter": [
           {
            "fillpattern": {
             "fillmode": "overlay",
             "size": 10,
             "solidity": 0.2
            },
            "type": "scatter"
           }
          ],
          "scatter3d": [
           {
            "line": {
             "colorbar": {
              "outlinewidth": 0,
              "ticks": ""
             }
            },
            "marker": {
             "colorbar": {
              "outlinewidth": 0,
              "ticks": ""
             }
            },
            "type": "scatter3d"
           }
          ],
          "scattercarpet": [
           {
            "marker": {
             "colorbar": {
              "outlinewidth": 0,
              "ticks": ""
             }
            },
            "type": "scattercarpet"
           }
          ],
          "scattergeo": [
           {
            "marker": {
             "colorbar": {
              "outlinewidth": 0,
              "ticks": ""
             }
            },
            "type": "scattergeo"
           }
          ],
          "scattergl": [
           {
            "marker": {
             "colorbar": {
              "outlinewidth": 0,
              "ticks": ""
             }
            },
            "type": "scattergl"
           }
          ],
          "scattermapbox": [
           {
            "marker": {
             "colorbar": {
              "outlinewidth": 0,
              "ticks": ""
             }
            },
            "type": "scattermapbox"
           }
          ],
          "scatterpolar": [
           {
            "marker": {
             "colorbar": {
              "outlinewidth": 0,
              "ticks": ""
             }
            },
            "type": "scatterpolar"
           }
          ],
          "scatterpolargl": [
           {
            "marker": {
             "colorbar": {
              "outlinewidth": 0,
              "ticks": ""
             }
            },
            "type": "scatterpolargl"
           }
          ],
          "scatterternary": [
           {
            "marker": {
             "colorbar": {
              "outlinewidth": 0,
              "ticks": ""
             }
            },
            "type": "scatterternary"
           }
          ],
          "surface": [
           {
            "colorbar": {
             "outlinewidth": 0,
             "ticks": ""
            },
            "colorscale": [
             [
              0,
              "#0d0887"
             ],
             [
              0.1111111111111111,
              "#46039f"
             ],
             [
              0.2222222222222222,
              "#7201a8"
             ],
             [
              0.3333333333333333,
              "#9c179e"
             ],
             [
              0.4444444444444444,
              "#bd3786"
             ],
             [
              0.5555555555555556,
              "#d8576b"
             ],
             [
              0.6666666666666666,
              "#ed7953"
             ],
             [
              0.7777777777777778,
              "#fb9f3a"
             ],
             [
              0.8888888888888888,
              "#fdca26"
             ],
             [
              1,
              "#f0f921"
             ]
            ],
            "type": "surface"
           }
          ],
          "table": [
           {
            "cells": {
             "fill": {
              "color": "#EBF0F8"
             },
             "line": {
              "color": "white"
             }
            },
            "header": {
             "fill": {
              "color": "#C8D4E3"
             },
             "line": {
              "color": "white"
             }
            },
            "type": "table"
           }
          ]
         },
         "layout": {
          "annotationdefaults": {
           "arrowcolor": "#2a3f5f",
           "arrowhead": 0,
           "arrowwidth": 1
          },
          "autotypenumbers": "strict",
          "coloraxis": {
           "colorbar": {
            "outlinewidth": 0,
            "ticks": ""
           }
          },
          "colorscale": {
           "diverging": [
            [
             0,
             "#8e0152"
            ],
            [
             0.1,
             "#c51b7d"
            ],
            [
             0.2,
             "#de77ae"
            ],
            [
             0.3,
             "#f1b6da"
            ],
            [
             0.4,
             "#fde0ef"
            ],
            [
             0.5,
             "#f7f7f7"
            ],
            [
             0.6,
             "#e6f5d0"
            ],
            [
             0.7,
             "#b8e186"
            ],
            [
             0.8,
             "#7fbc41"
            ],
            [
             0.9,
             "#4d9221"
            ],
            [
             1,
             "#276419"
            ]
           ],
           "sequential": [
            [
             0,
             "#0d0887"
            ],
            [
             0.1111111111111111,
             "#46039f"
            ],
            [
             0.2222222222222222,
             "#7201a8"
            ],
            [
             0.3333333333333333,
             "#9c179e"
            ],
            [
             0.4444444444444444,
             "#bd3786"
            ],
            [
             0.5555555555555556,
             "#d8576b"
            ],
            [
             0.6666666666666666,
             "#ed7953"
            ],
            [
             0.7777777777777778,
             "#fb9f3a"
            ],
            [
             0.8888888888888888,
             "#fdca26"
            ],
            [
             1,
             "#f0f921"
            ]
           ],
           "sequentialminus": [
            [
             0,
             "#0d0887"
            ],
            [
             0.1111111111111111,
             "#46039f"
            ],
            [
             0.2222222222222222,
             "#7201a8"
            ],
            [
             0.3333333333333333,
             "#9c179e"
            ],
            [
             0.4444444444444444,
             "#bd3786"
            ],
            [
             0.5555555555555556,
             "#d8576b"
            ],
            [
             0.6666666666666666,
             "#ed7953"
            ],
            [
             0.7777777777777778,
             "#fb9f3a"
            ],
            [
             0.8888888888888888,
             "#fdca26"
            ],
            [
             1,
             "#f0f921"
            ]
           ]
          },
          "colorway": [
           "#636efa",
           "#EF553B",
           "#00cc96",
           "#ab63fa",
           "#FFA15A",
           "#19d3f3",
           "#FF6692",
           "#B6E880",
           "#FF97FF",
           "#FECB52"
          ],
          "font": {
           "color": "#2a3f5f"
          },
          "geo": {
           "bgcolor": "white",
           "lakecolor": "white",
           "landcolor": "#E5ECF6",
           "showlakes": true,
           "showland": true,
           "subunitcolor": "white"
          },
          "hoverlabel": {
           "align": "left"
          },
          "hovermode": "closest",
          "mapbox": {
           "style": "light"
          },
          "paper_bgcolor": "white",
          "plot_bgcolor": "#E5ECF6",
          "polar": {
           "angularaxis": {
            "gridcolor": "white",
            "linecolor": "white",
            "ticks": ""
           },
           "bgcolor": "#E5ECF6",
           "radialaxis": {
            "gridcolor": "white",
            "linecolor": "white",
            "ticks": ""
           }
          },
          "scene": {
           "xaxis": {
            "backgroundcolor": "#E5ECF6",
            "gridcolor": "white",
            "gridwidth": 2,
            "linecolor": "white",
            "showbackground": true,
            "ticks": "",
            "zerolinecolor": "white"
           },
           "yaxis": {
            "backgroundcolor": "#E5ECF6",
            "gridcolor": "white",
            "gridwidth": 2,
            "linecolor": "white",
            "showbackground": true,
            "ticks": "",
            "zerolinecolor": "white"
           },
           "zaxis": {
            "backgroundcolor": "#E5ECF6",
            "gridcolor": "white",
            "gridwidth": 2,
            "linecolor": "white",
            "showbackground": true,
            "ticks": "",
            "zerolinecolor": "white"
           }
          },
          "shapedefaults": {
           "line": {
            "color": "#2a3f5f"
           }
          },
          "ternary": {
           "aaxis": {
            "gridcolor": "white",
            "linecolor": "white",
            "ticks": ""
           },
           "baxis": {
            "gridcolor": "white",
            "linecolor": "white",
            "ticks": ""
           },
           "bgcolor": "#E5ECF6",
           "caxis": {
            "gridcolor": "white",
            "linecolor": "white",
            "ticks": ""
           }
          },
          "title": {
           "x": 0.05
          },
          "xaxis": {
           "automargin": true,
           "gridcolor": "white",
           "linecolor": "white",
           "ticks": "",
           "title": {
            "standoff": 15
           },
           "zerolinecolor": "white",
           "zerolinewidth": 2
          },
          "yaxis": {
           "automargin": true,
           "gridcolor": "white",
           "linecolor": "white",
           "ticks": "",
           "title": {
            "standoff": 15
           },
           "zerolinecolor": "white",
           "zerolinewidth": 2
          }
         }
        },
        "title": {
         "text": "Wave Heights (feet) at 19.0, -83.0<br>NOAA GFS Wave Model"
        },
        "xaxis": {
         "anchor": "y",
         "autorange": true,
         "domain": [
          0,
          1
         ],
         "range": [
          "2023-06-14",
          "2023-06-30"
         ],
         "title": {
          "text": "time"
         },
         "type": "date"
        },
        "yaxis": {
         "anchor": "x",
         "autorange": true,
         "domain": [
          0,
          1
         ],
         "range": [
          3.1587196720971003,
          9.538130627738106
         ],
         "title": {
          "text": "htsgwsfc"
         },
         "type": "linear"
        }
       }
      },
      "text/html": [
       "<div>                            <div id=\"4a23fcc4-e18a-4c8d-a9d8-1e034159b075\" class=\"plotly-graph-div\" style=\"height:525px; width:100%;\"></div>            <script type=\"text/javascript\">                require([\"plotly\"], function(Plotly) {                    window.PLOTLYENV=window.PLOTLYENV || {};                                    if (document.getElementById(\"4a23fcc4-e18a-4c8d-a9d8-1e034159b075\")) {                    Plotly.newPlot(                        \"4a23fcc4-e18a-4c8d-a9d8-1e034159b075\",                        [{\"hovertemplate\":\"time=%{x}\\u003cbr\\u003ehtsgwsfc=%{y}\\u003cextra\\u003e\\u003c\\u002fextra\\u003e\",\"legendgroup\":\"\",\"line\":{\"color\":\"#636efa\",\"dash\":\"solid\"},\"marker\":{\"symbol\":\"circle\"},\"mode\":\"lines\",\"name\":\"\",\"orientation\":\"v\",\"showlegend\":false,\"x\":[\"2023-06-14T00:00:00\",\"2023-06-14T03:00:00\",\"2023-06-14T06:00:00\",\"2023-06-14T09:00:00\",\"2023-06-14T12:00:00\",\"2023-06-14T15:00:00\",\"2023-06-14T18:00:00\",\"2023-06-14T21:00:00\",\"2023-06-15T00:00:00\",\"2023-06-15T03:00:00\",\"2023-06-15T06:00:00\",\"2023-06-15T09:00:00\",\"2023-06-15T12:00:00\",\"2023-06-15T15:00:00\",\"2023-06-15T18:00:00\",\"2023-06-15T21:00:00\",\"2023-06-16T00:00:00\",\"2023-06-16T03:00:00\",\"2023-06-16T06:00:00\",\"2023-06-16T09:00:00\",\"2023-06-16T12:00:00\",\"2023-06-16T15:00:00\",\"2023-06-16T18:00:00\",\"2023-06-16T21:00:00\",\"2023-06-17T00:00:00\",\"2023-06-17T03:00:00\",\"2023-06-17T06:00:00\",\"2023-06-17T09:00:00\",\"2023-06-17T12:00:00\",\"2023-06-17T15:00:00\",\"2023-06-17T18:00:00\",\"2023-06-17T21:00:00\",\"2023-06-18T00:00:00\",\"2023-06-18T03:00:00\",\"2023-06-18T06:00:00\",\"2023-06-18T09:00:00\",\"2023-06-18T12:00:00\",\"2023-06-18T15:00:00\",\"2023-06-18T18:00:00\",\"2023-06-18T21:00:00\",\"2023-06-19T00:00:00\",\"2023-06-19T03:00:00\",\"2023-06-19T06:00:00\",\"2023-06-19T09:00:00\",\"2023-06-19T12:00:00\",\"2023-06-19T15:00:00\",\"2023-06-19T18:00:00\",\"2023-06-19T21:00:00\",\"2023-06-20T00:00:00\",\"2023-06-20T03:00:00\",\"2023-06-20T06:00:00\",\"2023-06-20T09:00:00\",\"2023-06-20T12:00:00\",\"2023-06-20T15:00:00\",\"2023-06-20T18:00:00\",\"2023-06-20T21:00:00\",\"2023-06-21T00:00:00\",\"2023-06-21T03:00:00\",\"2023-06-21T06:00:00\",\"2023-06-21T09:00:00\",\"2023-06-21T12:00:00\",\"2023-06-21T15:00:00\",\"2023-06-21T18:00:00\",\"2023-06-21T21:00:00\",\"2023-06-22T00:00:00\",\"2023-06-22T03:00:00\",\"2023-06-22T06:00:00\",\"2023-06-22T09:00:00\",\"2023-06-22T12:00:00\",\"2023-06-22T15:00:00\",\"2023-06-22T18:00:00\",\"2023-06-22T21:00:00\",\"2023-06-23T00:00:00\",\"2023-06-23T03:00:00\",\"2023-06-23T06:00:00\",\"2023-06-23T09:00:00\",\"2023-06-23T12:00:00\",\"2023-06-23T15:00:00\",\"2023-06-23T18:00:00\",\"2023-06-23T21:00:00\",\"2023-06-24T00:00:00\",\"2023-06-24T03:00:00\",\"2023-06-24T06:00:00\",\"2023-06-24T09:00:00\",\"2023-06-24T12:00:00\",\"2023-06-24T15:00:00\",\"2023-06-24T18:00:00\",\"2023-06-24T21:00:00\",\"2023-06-25T00:00:00\",\"2023-06-25T03:00:00\",\"2023-06-25T06:00:00\",\"2023-06-25T09:00:00\",\"2023-06-25T12:00:00\",\"2023-06-25T15:00:00\",\"2023-06-25T18:00:00\",\"2023-06-25T21:00:00\",\"2023-06-26T00:00:00\",\"2023-06-26T03:00:00\",\"2023-06-26T06:00:00\",\"2023-06-26T09:00:00\",\"2023-06-26T12:00:00\",\"2023-06-26T15:00:00\",\"2023-06-26T18:00:00\",\"2023-06-26T21:00:00\",\"2023-06-27T00:00:00\",\"2023-06-27T03:00:00\",\"2023-06-27T06:00:00\",\"2023-06-27T09:00:00\",\"2023-06-27T12:00:00\",\"2023-06-27T15:00:00\",\"2023-06-27T18:00:00\",\"2023-06-27T21:00:00\",\"2023-06-28T00:00:00\",\"2023-06-28T03:00:00\",\"2023-06-28T06:00:00\",\"2023-06-28T09:00:00\",\"2023-06-28T12:00:00\",\"2023-06-28T15:00:00\",\"2023-06-28T18:00:00\",\"2023-06-28T21:00:00\",\"2023-06-29T00:00:00\",\"2023-06-29T03:00:00\",\"2023-06-29T06:00:00\",\"2023-06-29T09:00:00\",\"2023-06-29T12:00:00\",\"2023-06-29T15:00:00\",\"2023-06-29T18:00:00\",\"2023-06-29T21:00:00\",\"2023-06-30T00:00:00\"],\"xaxis\":\"x\",\"y\":[5.249343395233154,4.954068183898926,4.593175888061523,4.757217884063721,4.822834491729736,4.7900261878967285,4.429133892059326,4.297900199890137,4.035433292388916,3.9041993618011475,3.9370076656341553,4.035433292388916,4.166666507720947,4.39632511138916,4.39632511138916,4.3307085037231445,4.429133892059326,4.560367584228516,4.7900261878967285,5.118110179901123,5.085301876068115,5.085301876068115,5.2165350914001465,5.28215217590332,5.150918483734131,5.249343395233154,5.479002475738525,5.7086615562438965,5.80708646774292,5.643044471740723,5.511810779571533,5.446194171905518,5.41338586807251,5.511810779571533,5.544619083404541,5.479002475738525,5.347769260406494,5.544619083404541,5.7086615562438965,5.80708646774292,6.3320207595825195,6.856955051422119,7.906823635101318,8.431757926940918,8.858267784118652,9.153543472290039,9.219160079956055,9.186351776123047,9.055118560791016,8.727033615112305,8.595800399780273,8.431757926940918,7.513123512268066,6.889763355255127,6.496062755584717,6.1351704597473145,5.675853252410889,5.150918483734131,4.855643272399902,4.625984191894531,4.363516807556152,4.166666507720947,4.068241596221924,4.068241596221924,4.035433292388916,4.1338582038879395,4.101049900054932,4.068241596221924,4.166666507720947,4.593175888061523,4.88845157623291,4.88845157623291,4.724409103393555,4.7900261878967285,5.183726787567139,5.544619083404541,5.741469860076904,5.7086615562438965,5.380577564239502,5.150918483734131,4.986876487731934,4.986876487731934,5.183726787567139,5.577427864074707,5.577427864074707,5.380577564239502,5.2165350914001465,4.954068183898926,4.7900261878967285,5.052493572235107,5.314960479736328,5.41338586807251,5.150918483734131,4.921259880065918,4.593175888061523,4.363516807556152,4.068241596221924,3.969815969467163,3.74015736579895,3.543306827545166,3.4776902198791504,3.510498523712158,3.772965908050537,3.772965908050537,3.6745407581329346,3.9370076656341553,4.297900199890137,5.314960479736328,5.41338586807251,5.446194171905518,5.577427864074707,5.675853252410889,5.741469860076904,6.003936767578125,6.430446147918701,6.7913384437561035,7.381889820098877,7.939631938934326,7.808398723602295,8.038058280944824,7.808398723602295,7.972440242767334,8.39894962310791,8.595800399780273,8.628608703613281,8.79265022277832,8.89107608795166,8.956692695617676,8.661417007446289],\"yaxis\":\"y\",\"type\":\"scatter\"}],                        {\"template\":{\"data\":{\"histogram2dcontour\":[{\"type\":\"histogram2dcontour\",\"colorbar\":{\"outlinewidth\":0,\"ticks\":\"\"},\"colorscale\":[[0.0,\"#0d0887\"],[0.1111111111111111,\"#46039f\"],[0.2222222222222222,\"#7201a8\"],[0.3333333333333333,\"#9c179e\"],[0.4444444444444444,\"#bd3786\"],[0.5555555555555556,\"#d8576b\"],[0.6666666666666666,\"#ed7953\"],[0.7777777777777778,\"#fb9f3a\"],[0.8888888888888888,\"#fdca26\"],[1.0,\"#f0f921\"]]}],\"choropleth\":[{\"type\":\"choropleth\",\"colorbar\":{\"outlinewidth\":0,\"ticks\":\"\"}}],\"histogram2d\":[{\"type\":\"histogram2d\",\"colorbar\":{\"outlinewidth\":0,\"ticks\":\"\"},\"colorscale\":[[0.0,\"#0d0887\"],[0.1111111111111111,\"#46039f\"],[0.2222222222222222,\"#7201a8\"],[0.3333333333333333,\"#9c179e\"],[0.4444444444444444,\"#bd3786\"],[0.5555555555555556,\"#d8576b\"],[0.6666666666666666,\"#ed7953\"],[0.7777777777777778,\"#fb9f3a\"],[0.8888888888888888,\"#fdca26\"],[1.0,\"#f0f921\"]]}],\"heatmap\":[{\"type\":\"heatmap\",\"colorbar\":{\"outlinewidth\":0,\"ticks\":\"\"},\"colorscale\":[[0.0,\"#0d0887\"],[0.1111111111111111,\"#46039f\"],[0.2222222222222222,\"#7201a8\"],[0.3333333333333333,\"#9c179e\"],[0.4444444444444444,\"#bd3786\"],[0.5555555555555556,\"#d8576b\"],[0.6666666666666666,\"#ed7953\"],[0.7777777777777778,\"#fb9f3a\"],[0.8888888888888888,\"#fdca26\"],[1.0,\"#f0f921\"]]}],\"heatmapgl\":[{\"type\":\"heatmapgl\",\"colorbar\":{\"outlinewidth\":0,\"ticks\":\"\"},\"colorscale\":[[0.0,\"#0d0887\"],[0.1111111111111111,\"#46039f\"],[0.2222222222222222,\"#7201a8\"],[0.3333333333333333,\"#9c179e\"],[0.4444444444444444,\"#bd3786\"],[0.5555555555555556,\"#d8576b\"],[0.6666666666666666,\"#ed7953\"],[0.7777777777777778,\"#fb9f3a\"],[0.8888888888888888,\"#fdca26\"],[1.0,\"#f0f921\"]]}],\"contourcarpet\":[{\"type\":\"contourcarpet\",\"colorbar\":{\"outlinewidth\":0,\"ticks\":\"\"}}],\"contour\":[{\"type\":\"contour\",\"colorbar\":{\"outlinewidth\":0,\"ticks\":\"\"},\"colorscale\":[[0.0,\"#0d0887\"],[0.1111111111111111,\"#46039f\"],[0.2222222222222222,\"#7201a8\"],[0.3333333333333333,\"#9c179e\"],[0.4444444444444444,\"#bd3786\"],[0.5555555555555556,\"#d8576b\"],[0.6666666666666666,\"#ed7953\"],[0.7777777777777778,\"#fb9f3a\"],[0.8888888888888888,\"#fdca26\"],[1.0,\"#f0f921\"]]}],\"surface\":[{\"type\":\"surface\",\"colorbar\":{\"outlinewidth\":0,\"ticks\":\"\"},\"colorscale\":[[0.0,\"#0d0887\"],[0.1111111111111111,\"#46039f\"],[0.2222222222222222,\"#7201a8\"],[0.3333333333333333,\"#9c179e\"],[0.4444444444444444,\"#bd3786\"],[0.5555555555555556,\"#d8576b\"],[0.6666666666666666,\"#ed7953\"],[0.7777777777777778,\"#fb9f3a\"],[0.8888888888888888,\"#fdca26\"],[1.0,\"#f0f921\"]]}],\"mesh3d\":[{\"type\":\"mesh3d\",\"colorbar\":{\"outlinewidth\":0,\"ticks\":\"\"}}],\"scatter\":[{\"fillpattern\":{\"fillmode\":\"overlay\",\"size\":10,\"solidity\":0.2},\"type\":\"scatter\"}],\"parcoords\":[{\"type\":\"parcoords\",\"line\":{\"colorbar\":{\"outlinewidth\":0,\"ticks\":\"\"}}}],\"scatterpolargl\":[{\"type\":\"scatterpolargl\",\"marker\":{\"colorbar\":{\"outlinewidth\":0,\"ticks\":\"\"}}}],\"bar\":[{\"error_x\":{\"color\":\"#2a3f5f\"},\"error_y\":{\"color\":\"#2a3f5f\"},\"marker\":{\"line\":{\"color\":\"#E5ECF6\",\"width\":0.5},\"pattern\":{\"fillmode\":\"overlay\",\"size\":10,\"solidity\":0.2}},\"type\":\"bar\"}],\"scattergeo\":[{\"type\":\"scattergeo\",\"marker\":{\"colorbar\":{\"outlinewidth\":0,\"ticks\":\"\"}}}],\"scatterpolar\":[{\"type\":\"scatterpolar\",\"marker\":{\"colorbar\":{\"outlinewidth\":0,\"ticks\":\"\"}}}],\"histogram\":[{\"marker\":{\"pattern\":{\"fillmode\":\"overlay\",\"size\":10,\"solidity\":0.2}},\"type\":\"histogram\"}],\"scattergl\":[{\"type\":\"scattergl\",\"marker\":{\"colorbar\":{\"outlinewidth\":0,\"ticks\":\"\"}}}],\"scatter3d\":[{\"type\":\"scatter3d\",\"line\":{\"colorbar\":{\"outlinewidth\":0,\"ticks\":\"\"}},\"marker\":{\"colorbar\":{\"outlinewidth\":0,\"ticks\":\"\"}}}],\"scattermapbox\":[{\"type\":\"scattermapbox\",\"marker\":{\"colorbar\":{\"outlinewidth\":0,\"ticks\":\"\"}}}],\"scatterternary\":[{\"type\":\"scatterternary\",\"marker\":{\"colorbar\":{\"outlinewidth\":0,\"ticks\":\"\"}}}],\"scattercarpet\":[{\"type\":\"scattercarpet\",\"marker\":{\"colorbar\":{\"outlinewidth\":0,\"ticks\":\"\"}}}],\"carpet\":[{\"aaxis\":{\"endlinecolor\":\"#2a3f5f\",\"gridcolor\":\"white\",\"linecolor\":\"white\",\"minorgridcolor\":\"white\",\"startlinecolor\":\"#2a3f5f\"},\"baxis\":{\"endlinecolor\":\"#2a3f5f\",\"gridcolor\":\"white\",\"linecolor\":\"white\",\"minorgridcolor\":\"white\",\"startlinecolor\":\"#2a3f5f\"},\"type\":\"carpet\"}],\"table\":[{\"cells\":{\"fill\":{\"color\":\"#EBF0F8\"},\"line\":{\"color\":\"white\"}},\"header\":{\"fill\":{\"color\":\"#C8D4E3\"},\"line\":{\"color\":\"white\"}},\"type\":\"table\"}],\"barpolar\":[{\"marker\":{\"line\":{\"color\":\"#E5ECF6\",\"width\":0.5},\"pattern\":{\"fillmode\":\"overlay\",\"size\":10,\"solidity\":0.2}},\"type\":\"barpolar\"}],\"pie\":[{\"automargin\":true,\"type\":\"pie\"}]},\"layout\":{\"autotypenumbers\":\"strict\",\"colorway\":[\"#636efa\",\"#EF553B\",\"#00cc96\",\"#ab63fa\",\"#FFA15A\",\"#19d3f3\",\"#FF6692\",\"#B6E880\",\"#FF97FF\",\"#FECB52\"],\"font\":{\"color\":\"#2a3f5f\"},\"hovermode\":\"closest\",\"hoverlabel\":{\"align\":\"left\"},\"paper_bgcolor\":\"white\",\"plot_bgcolor\":\"#E5ECF6\",\"polar\":{\"bgcolor\":\"#E5ECF6\",\"angularaxis\":{\"gridcolor\":\"white\",\"linecolor\":\"white\",\"ticks\":\"\"},\"radialaxis\":{\"gridcolor\":\"white\",\"linecolor\":\"white\",\"ticks\":\"\"}},\"ternary\":{\"bgcolor\":\"#E5ECF6\",\"aaxis\":{\"gridcolor\":\"white\",\"linecolor\":\"white\",\"ticks\":\"\"},\"baxis\":{\"gridcolor\":\"white\",\"linecolor\":\"white\",\"ticks\":\"\"},\"caxis\":{\"gridcolor\":\"white\",\"linecolor\":\"white\",\"ticks\":\"\"}},\"coloraxis\":{\"colorbar\":{\"outlinewidth\":0,\"ticks\":\"\"}},\"colorscale\":{\"sequential\":[[0.0,\"#0d0887\"],[0.1111111111111111,\"#46039f\"],[0.2222222222222222,\"#7201a8\"],[0.3333333333333333,\"#9c179e\"],[0.4444444444444444,\"#bd3786\"],[0.5555555555555556,\"#d8576b\"],[0.6666666666666666,\"#ed7953\"],[0.7777777777777778,\"#fb9f3a\"],[0.8888888888888888,\"#fdca26\"],[1.0,\"#f0f921\"]],\"sequentialminus\":[[0.0,\"#0d0887\"],[0.1111111111111111,\"#46039f\"],[0.2222222222222222,\"#7201a8\"],[0.3333333333333333,\"#9c179e\"],[0.4444444444444444,\"#bd3786\"],[0.5555555555555556,\"#d8576b\"],[0.6666666666666666,\"#ed7953\"],[0.7777777777777778,\"#fb9f3a\"],[0.8888888888888888,\"#fdca26\"],[1.0,\"#f0f921\"]],\"diverging\":[[0,\"#8e0152\"],[0.1,\"#c51b7d\"],[0.2,\"#de77ae\"],[0.3,\"#f1b6da\"],[0.4,\"#fde0ef\"],[0.5,\"#f7f7f7\"],[0.6,\"#e6f5d0\"],[0.7,\"#b8e186\"],[0.8,\"#7fbc41\"],[0.9,\"#4d9221\"],[1,\"#276419\"]]},\"xaxis\":{\"gridcolor\":\"white\",\"linecolor\":\"white\",\"ticks\":\"\",\"title\":{\"standoff\":15},\"zerolinecolor\":\"white\",\"automargin\":true,\"zerolinewidth\":2},\"yaxis\":{\"gridcolor\":\"white\",\"linecolor\":\"white\",\"ticks\":\"\",\"title\":{\"standoff\":15},\"zerolinecolor\":\"white\",\"automargin\":true,\"zerolinewidth\":2},\"scene\":{\"xaxis\":{\"backgroundcolor\":\"#E5ECF6\",\"gridcolor\":\"white\",\"linecolor\":\"white\",\"showbackground\":true,\"ticks\":\"\",\"zerolinecolor\":\"white\",\"gridwidth\":2},\"yaxis\":{\"backgroundcolor\":\"#E5ECF6\",\"gridcolor\":\"white\",\"linecolor\":\"white\",\"showbackground\":true,\"ticks\":\"\",\"zerolinecolor\":\"white\",\"gridwidth\":2},\"zaxis\":{\"backgroundcolor\":\"#E5ECF6\",\"gridcolor\":\"white\",\"linecolor\":\"white\",\"showbackground\":true,\"ticks\":\"\",\"zerolinecolor\":\"white\",\"gridwidth\":2}},\"shapedefaults\":{\"line\":{\"color\":\"#2a3f5f\"}},\"annotationdefaults\":{\"arrowcolor\":\"#2a3f5f\",\"arrowhead\":0,\"arrowwidth\":1},\"geo\":{\"bgcolor\":\"white\",\"landcolor\":\"#E5ECF6\",\"subunitcolor\":\"white\",\"showland\":true,\"showlakes\":true,\"lakecolor\":\"white\"},\"title\":{\"x\":0.05},\"mapbox\":{\"style\":\"light\"}}},\"xaxis\":{\"anchor\":\"y\",\"domain\":[0.0,1.0],\"title\":{\"text\":\"time\"}},\"yaxis\":{\"anchor\":\"x\",\"domain\":[0.0,1.0],\"title\":{\"text\":\"htsgwsfc\"}},\"legend\":{\"tracegroupgap\":0},\"title\":{\"text\":\"Wave Heights (feet) at 19.0, -83.0\\u003cbr\\u003eNOAA GFS Wave Model\"}},                        {\"responsive\": true}                    ).then(function(){\n",
       "                            \n",
       "var gd = document.getElementById('4a23fcc4-e18a-4c8d-a9d8-1e034159b075');\n",
       "var x = new MutationObserver(function (mutations, observer) {{\n",
       "        var display = window.getComputedStyle(gd).display;\n",
       "        if (!display || display === 'none') {{\n",
       "            console.log([gd, 'removed!']);\n",
       "            Plotly.purge(gd);\n",
       "            observer.disconnect();\n",
       "        }}\n",
       "}});\n",
       "\n",
       "// Listen for the removal of the full notebook cells\n",
       "var notebookContainer = gd.closest('#notebook-container');\n",
       "if (notebookContainer) {{\n",
       "    x.observe(notebookContainer, {childList: true});\n",
       "}}\n",
       "\n",
       "// Listen for the clearing of the current output cell\n",
       "var outputEl = gd.closest('.output');\n",
       "if (outputEl) {{\n",
       "    x.observe(outputEl, {childList: true});\n",
       "}}\n",
       "\n",
       "                        })                };                });            </script>        </div>"
      ]
     },
     "metadata": {},
     "output_type": "display_data"
    }
   ],
   "source": [
    "fig = px.line(df, x=\"time\", y=\"htsgwsfc\", \n",
    "              title=f'Wave Heights (feet) at {LAT}, {LON}<br>NOAA GFS Wave Model')\n",
    "fig.show()"
   ]
  },
  {
   "cell_type": "code",
   "execution_count": 12,
   "id": "32f29736-52ce-429d-8892-a83f20c1aab3",
   "metadata": {},
   "outputs": [],
   "source": [
    "fig.write_image(\"timeseries-gfs_waves.png\", width=1280, height=720, scale=1)"
   ]
  },
  {
   "cell_type": "code",
   "execution_count": null,
   "id": "d7c22b5e-9728-4493-ae41-a04d47e43c24",
   "metadata": {},
   "outputs": [],
   "source": []
  }
 ],
 "metadata": {
  "kernelspec": {
   "display_name": "Python 3 (ipykernel)",
   "language": "python",
   "name": "python3"
  },
  "language_info": {
   "codemirror_mode": {
    "name": "ipython",
    "version": 3
   },
   "file_extension": ".py",
   "mimetype": "text/x-python",
   "name": "python",
   "nbconvert_exporter": "python",
   "pygments_lexer": "ipython3",
   "version": "3.11.3"
  }
 },
 "nbformat": 4,
 "nbformat_minor": 5
}
