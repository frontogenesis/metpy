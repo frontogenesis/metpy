{
 "cells": [
  {
   "cell_type": "code",
   "execution_count": 2,
   "metadata": {},
   "outputs": [],
   "source": [
    "from datetime import datetime, timedelta\n",
    "import matplotlib.pyplot as plt\n",
    "from matplotlib.animation import ArtistAnimation\n",
    "from siphon.catalog import TDSCatalog\n",
    "from siphon.radarserver import RadarServer\n",
    "from siphon.cdmr import Dataset\n",
    "from metpy.plots import ctables, add_timestamp, add_metpy_logo\n",
    "import cartopy.crs as ccrs\n",
    "import cartopy.feature as cfeat\n",
    "import numpy as np\n",
    "import rasterio as rio\n",
    "\n",
    "%matplotlib inline"
   ]
  },
  {
   "cell_type": "code",
   "execution_count": 3,
   "metadata": {},
   "outputs": [],
   "source": [
    "cat = TDSCatalog('https://thredds.ucar.edu/thredds/radarServer/catalog.xml')"
   ]
  },
  {
   "cell_type": "code",
   "execution_count": 4,
   "metadata": {},
   "outputs": [],
   "source": [
    "rs = RadarServer(cat.catalog_refs['NEXRAD Level III Radar from IDD'].href)"
   ]
  },
  {
   "cell_type": "code",
   "execution_count": 5,
   "metadata": {},
   "outputs": [
    {
     "data": {
      "text/plain": [
       "var=N0Q&time=2019-03-31T16%3A07%3A10.075772&stn=SGF"
      ]
     },
     "execution_count": 5,
     "metadata": {},
     "output_type": "execute_result"
    }
   ],
   "source": [
    "query = rs.query()\n",
    "now = datetime.utcnow()\n",
    "query.stations('SGF').time(now).variables('N0Q')"
   ]
  },
  {
   "cell_type": "code",
   "execution_count": 6,
   "metadata": {},
   "outputs": [
    {
     "name": "stdout",
     "output_type": "stream",
     "text": [
      "Radar NEXRAD Level III Radar from IDD datasets in near real time\n"
     ]
    }
   ],
   "source": [
    "query_cat = rs.get_catalog(query)\n",
    "print(query_cat)\n",
    "data = query_cat.datasets[0].remote_access()"
   ]
  },
  {
   "cell_type": "code",
   "execution_count": 7,
   "metadata": {},
   "outputs": [],
   "source": [
    "def plot_radar(data, field_name):\n",
    "    rng = data.variables['gate'][:]\n",
    "    az = data.variables['azimuth'][:]\n",
    "    ref = data.variables[field_name][:]\n",
    "    \n",
    "    distance_in_degrees = 3\n",
    "    ax.set_extent([data.RadarLongitude - distance_in_degrees,\n",
    "                   data.RadarLongitude + distance_in_degrees,\n",
    "                   data.RadarLatitude - distance_in_degrees,\n",
    "                   data.RadarLatitude + distance_in_degrees])\n",
    "    \n",
    "    x = rng * np.sin(np.deg2rad(az))[:, None]\n",
    "    y = rng * np.cos(np.deg2rad(az))[:, None]\n",
    "    \n",
    "    norm, cmap = ctables.registry.get_with_range('NWSReflectivity', -30, 100)\n",
    "    \n",
    "    mesh = ax.pcolormesh(x, y, ref, cmap=cmap, norm=norm, zorder=0)\n",
    "    \n",
    "    return mesh\n",
    "    "
   ]
  },
  {
   "cell_type": "code",
   "execution_count": 8,
   "metadata": {},
   "outputs": [
    {
     "data": {
      "image/png": "[encoded data removed]",
      "text/plain": [
       "<Figure size 720x720 with 1 Axes>"
      ]
     },
     "metadata": {
      "needs_background": "light"
     },
     "output_type": "display_data"
    }
   ],
   "source": [
    "field_name = 'BaseReflectivityDR'\n",
    "\n",
    "proj = ccrs.LambertConformal(central_longitude=data.RadarLongitude,\n",
    "                                    central_latitude=data.RadarLatitude)\n",
    "\n",
    "fig = plt.figure(figsize=(10, 10))\n",
    "ax = plt.subplot(1, 1, 1, projection=proj)\n",
    "\n",
    "# Get pixels into a numpy array\n",
    "fig.canvas.draw()\n",
    "raster = np.array(fig.canvas.renderer._renderer)\n",
    "\n",
    "plot_radar(data, field_name)\n",
    "\n",
    "plt.savefig('radar.png')\n"
   ]
  },
  {
   "cell_type": "code",
   "execution_count": 20,
   "metadata": {},
   "outputs": [],
   "source": []
  },
  {
   "cell_type": "code",
   "execution_count": null,
   "metadata": {},
   "outputs": [],
   "source": []
  }
 ],
 "metadata": {
  "kernelspec": {
   "display_name": "Python 3",
   "language": "python",
   "name": "python3"
  },
  "language_info": {
   "codemirror_mode": {
    "name": "ipython",
    "version": 3
   },
   "file_extension": ".py",
   "mimetype": "text/x-python",
   "name": "python",
   "nbconvert_exporter": "python",
   "pygments_lexer": "ipython3",
   "version": "3.7.3"
  }
 },
 "nbformat": 4,
 "nbformat_minor": 2
}
