{
 "cells": [
  {
   "cell_type": "code",
   "execution_count": 1,
   "metadata": {},
   "outputs": [],
   "source": [
    "from datetime import datetime, timedelta\n",
    "from siphon.catalog import TDSCatalog\n",
    "from siphon.radarserver import RadarServer"
   ]
  },
  {
   "cell_type": "code",
   "execution_count": 2,
   "metadata": {},
   "outputs": [],
   "source": [
    "cat = TDSCatalog('https://thredds.ucar.edu/thredds/radarServer/catalog.xml')"
   ]
  },
  {
   "cell_type": "code",
   "execution_count": 3,
   "metadata": {},
   "outputs": [
    {
     "data": {
      "text/plain": [
       "['NEXRAD Level II Radar for Case Study CCS039',\n",
       " 'NEXRAD Level II Radar from IDD',\n",
       " 'NEXRAD Level III Radar for Case Study CCS039',\n",
       " 'NEXRAD Level III Radar from IDD',\n",
       " 'TDWR Level III Radar from IDD']"
      ]
     },
     "execution_count": 3,
     "metadata": {},
     "output_type": "execute_result"
    }
   ],
   "source": [
    "list(cat.catalog_refs)"
   ]
  },
  {
   "cell_type": "code",
   "execution_count": 4,
   "metadata": {},
   "outputs": [
    {
     "data": {
      "text/plain": [
       "'https://thredds.ucar.edu/thredds/radarServer/nexrad/level3/IDD/dataset.xml'"
      ]
     },
     "execution_count": 4,
     "metadata": {},
     "output_type": "execute_result"
    }
   ],
   "source": [
    "cat.catalog_refs['NEXRAD Level III Radar from IDD'].href"
   ]
  },
  {
   "cell_type": "code",
   "execution_count": 5,
   "metadata": {},
   "outputs": [],
   "source": [
    "rs = RadarServer(cat.catalog_refs['NEXRAD Level III Radar from IDD'].href)"
   ]
  },
  {
   "cell_type": "code",
   "execution_count": null,
   "metadata": {},
   "outputs": [],
   "source": []
  },
  {
   "cell_type": "code",
   "execution_count": 6,
   "metadata": {},
   "outputs": [
    {
     "data": {
      "text/plain": [
       "var=N0Q&time_start=2019-03-09T21%3A26%3A29.703984&time_end=2019-03-09T22%3A26%3A29.703984&stn=GWX"
      ]
     },
     "execution_count": 6,
     "metadata": {},
     "output_type": "execute_result"
    }
   ],
   "source": [
    "query = rs.query()\n",
    "now = datetime.utcnow()\n",
    "query.stations('GWX').time_range(now - timedelta(hours=1), now).variables('N0Q')"
   ]
  },
  {
   "cell_type": "code",
   "execution_count": 7,
   "metadata": {},
   "outputs": [],
   "source": [
    "query_cat = rs.get_catalog(query)"
   ]
  },
  {
   "cell_type": "code",
   "execution_count": 8,
   "metadata": {},
   "outputs": [],
   "source": [
    "product_codes = ['N0Q', 'N0C', 'N0H']\n",
    "query_catalogs = dict()\n",
    "for product_code in product_codes:\n",
    "    query.stations('GWX').time_range(now - timedelta(hours=1), now).variables(product_code)\n",
    "    query_cat = rs.get_catalog(query)\n",
    "    query_catalogs[product_code] = query_cat"
   ]
  },
  {
   "cell_type": "code",
   "execution_count": 9,
   "metadata": {},
   "outputs": [
    {
     "data": {
      "text/plain": [
       "{'N0Q': Radar NEXRAD Level III Radar from IDD datasets in near real time,\n",
       " 'N0C': Radar NEXRAD Level III Radar from IDD datasets in near real time,\n",
       " 'N0H': Radar NEXRAD Level III Radar from IDD datasets in near real time}"
      ]
     },
     "execution_count": 9,
     "metadata": {},
     "output_type": "execute_result"
    }
   ],
   "source": [
    "query_catalogs"
   ]
  },
  {
   "cell_type": "code",
   "execution_count": 10,
   "metadata": {},
   "outputs": [
    {
     "data": {
      "text/plain": [
       "['Level3_GWX_N0Q_20190309_2128.nids',\n",
       " 'Level3_GWX_N0Q_20190309_2129.nids',\n",
       " 'Level3_GWX_N0Q_20190309_2130.nids',\n",
       " 'Level3_GWX_N0Q_20190309_2132.nids',\n",
       " 'Level3_GWX_N0Q_20190309_2133.nids',\n",
       " 'Level3_GWX_N0Q_20190309_2135.nids',\n",
       " 'Level3_GWX_N0Q_20190309_2136.nids',\n",
       " 'Level3_GWX_N0Q_20190309_2137.nids',\n",
       " 'Level3_GWX_N0Q_20190309_2139.nids',\n",
       " 'Level3_GWX_N0Q_20190309_2140.nids',\n",
       " 'Level3_GWX_N0Q_20190309_2142.nids',\n",
       " 'Level3_GWX_N0Q_20190309_2143.nids',\n",
       " 'Level3_GWX_N0Q_20190309_2145.nids',\n",
       " 'Level3_GWX_N0Q_20190309_2147.nids',\n",
       " 'Level3_GWX_N0Q_20190309_2148.nids',\n",
       " 'Level3_GWX_N0Q_20190309_2150.nids',\n",
       " 'Level3_GWX_N0Q_20190309_2151.nids',\n",
       " 'Level3_GWX_N0Q_20190309_2153.nids',\n",
       " 'Level3_GWX_N0Q_20190309_2155.nids',\n",
       " 'Level3_GWX_N0Q_20190309_2157.nids',\n",
       " 'Level3_GWX_N0Q_20190309_2158.nids',\n",
       " 'Level3_GWX_N0Q_20190309_2200.nids',\n",
       " 'Level3_GWX_N0Q_20190309_2202.nids',\n",
       " 'Level3_GWX_N0Q_20190309_2204.nids',\n",
       " 'Level3_GWX_N0Q_20190309_2206.nids',\n",
       " 'Level3_GWX_N0Q_20190309_2207.nids',\n",
       " 'Level3_GWX_N0Q_20190309_2209.nids',\n",
       " 'Level3_GWX_N0Q_20190309_2211.nids',\n",
       " 'Level3_GWX_N0Q_20190309_2213.nids',\n",
       " 'Level3_GWX_N0Q_20190309_2214.nids',\n",
       " 'Level3_GWX_N0Q_20190309_2216.nids',\n",
       " 'Level3_GWX_N0Q_20190309_2218.nids',\n",
       " 'Level3_GWX_N0Q_20190309_2220.nids',\n",
       " 'Level3_GWX_N0Q_20190309_2221.nids',\n",
       " 'Level3_GWX_N0Q_20190309_2223.nids',\n",
       " 'Level3_GWX_N0Q_20190309_2225.nids']"
      ]
     },
     "execution_count": 10,
     "metadata": {},
     "output_type": "execute_result"
    }
   ],
   "source": [
    "sorted(query_catalogs['N0Q'].datasets)"
   ]
  },
  {
   "cell_type": "code",
   "execution_count": null,
   "metadata": {},
   "outputs": [],
   "source": []
  }
 ],
 "metadata": {
  "kernelspec": {
   "display_name": "Python 3",
   "language": "python",
   "name": "python3"
  },
  "language_info": {
   "codemirror_mode": {
    "name": "ipython",
    "version": 3
   },
   "file_extension": ".py",
   "mimetype": "text/x-python",
   "name": "python",
   "nbconvert_exporter": "python",
   "pygments_lexer": "ipython3",
   "version": "3.7.7"
  }
 },
 "nbformat": 4,
 "nbformat_minor": 4
}
