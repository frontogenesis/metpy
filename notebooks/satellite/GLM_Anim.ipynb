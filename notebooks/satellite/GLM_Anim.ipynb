{
 "cells": [
  {
   "cell_type": "code",
   "execution_count": 17,
   "metadata": {},
   "outputs": [],
   "source": [
    "import sys\n",
    "sys.path.append('..')\n",
    "from pathlib import Path\n",
    "from datetime import datetime\n",
    "from dateutil import tz\n",
    "\n",
    "import cartopy.crs as ccrs\n",
    "import cartopy.feature as cfeature\n",
    "import matplotlib.pyplot as plt\n",
    "from matplotlib.animation import ArtistAnimation\n",
    "from matplotlib import colors\n",
    "from metpy.plots.ctables import registry\n",
    "from metpy.plots import colortables\n",
    "from metpy.plots import USCOUNTIES\n",
    "from metpy.units import units\n",
    "from siphon.catalog import TDSCatalog\n",
    "import xarray as xr"
   ]
  },
  {
   "cell_type": "code",
   "execution_count": 18,
   "metadata": {},
   "outputs": [],
   "source": [
    "# Scan the catalog and download the data\n",
    "\n",
    "def get_satellite(frame):\n",
    "    satcat = TDSCatalog('https://thredds.ucar.edu/thredds/catalog/satellite/goes/east/products/'\n",
    "                        'CloudAndMoistureImagery/CONUS/Channel11/current/catalog.xml')\n",
    "    dataset = satcat.datasets[frame]\n",
    "    dataset = dataset.remote_access(use_xarray=True)\n",
    "    return dataset\n",
    "\n",
    "def get_goes_lightning_mapper(frame):\n",
    "    cat = TDSCatalog('https://thredds.ucar.edu/thredds/catalog/satellite/goes/east/products/'\n",
    "                     'GeostationaryLightningMapper/CONUS/current/catalog.xml')\n",
    "    dataset = cat.datasets[frame]\n",
    "    dataset = dataset.remote_access(use_xarray=True)\n",
    "    return dataset\n",
    "\n",
    "# Convert UTC time to Eastern Time\n",
    "def convert_datetime(dt):\n",
    "    from_zone = tz.gettz('UTC')\n",
    "    to_zone = tz.gettz('America/New York')\n",
    "    utc_time = datetime.strptime(dt, '%Y-%m-%dT%H:%M:%S').replace(tzinfo=from_zone)\n",
    "    eastern = utc_time.astimezone(to_zone)\n",
    "    date_time = datetime.strftime(eastern, '%a, %b %d, %Y %I:%M %p').lstrip('0').replace(' 0', ' ')\n",
    "    return date_time"
   ]
  },
  {
   "cell_type": "code",
   "execution_count": 19,
   "metadata": {},
   "outputs": [],
   "source": [
    "%%capture\n",
    "# Store satellite and lightning time-series data in a tuple\n",
    "datasets_glm = ()\n",
    "    \n",
    "for frame in range(240, -1, -15):\n",
    "    ds = get_goes_lightning_mapper(frame)\n",
    "    datasets_glm = (*datasets_glm, ds)\n",
    "    "
   ]
  },
  {
   "cell_type": "code",
   "execution_count": 20,
   "metadata": {},
   "outputs": [],
   "source": [
    "%%capture\n",
    "# Grab first dataset and make figure using its projection data\n",
    "data = datasets_glm[0].metpy.parse_cf('flash_extent_density')\n",
    "proj = data.metpy.cartopy_crs\n",
    "\n",
    "fig = plt.figure(figsize=(1920/72, 1080/72))\n",
    "ax = fig.add_axes([0, 0, 1, 1], projection=proj)\n",
    "ax.set_extent([-96.1, -70, 23.2, 37.5])\n",
    "ax.add_feature(cfeature.OCEAN.with_scale('50m'), color='lightgray')\n",
    "ax.add_feature(USCOUNTIES.with_scale('20m'), edgecolor='lightgray', linewidth=0.75)\n",
    "ax.add_feature(cfeature.STATES.with_scale('10m'), linewidth=3.0)\n",
    "ax.set_adjustable('datalim')\n",
    "ax.outline_patch.set_visible(False)"
   ]
  },
  {
   "cell_type": "code",
   "execution_count": 21,
   "metadata": {},
   "outputs": [],
   "source": [
    "# Container for the artists of all frames. Each item is a tuple of (image, text)\n",
    "artists_glm = []\n",
    "\n",
    "for ds_glm in datasets_glm:\n",
    "    fed = ds_glm.metpy.parse_cf('flash_extent_density')\n",
    "    fed_x = fed['x']\n",
    "    fed_y = fed['y']\n",
    "    \n",
    "    # Create Banner\n",
    "    banner = ax.text(s=f'GOES-16 Lightning Mapper Flash Density \\nPast Few Hours', y=0.95, x=0.01, \n",
    "                     transform=ax.transAxes, zorder=100, fontname='Arial', color='white',\n",
    "                     fontweight='bold', fontsize=48, va='top',\n",
    "                     bbox=dict(facecolor='navy', alpha=1.0, edgecolor='none'))\n",
    "    \n",
    "    # Plot image\n",
    "    im_fed = ax.imshow(fed, extent=(fed_x.min(), fed_x.max(), fed_y.min(), fed_y.max()),\n",
    "                       origin='upper', vmin=1, vmax=6, cmap=plt.cm.YlOrBr)\n",
    "    \n",
    "    artists_glm.append((im_fed, banner))"
   ]
  },
  {
   "cell_type": "code",
   "execution_count": 22,
   "metadata": {},
   "outputs": [
    {
     "data": {
      "text/plain": [
       "<matplotlib.animation.ArtistAnimation at 0x167c48b50>"
      ]
     },
     "execution_count": 22,
     "metadata": {},
     "output_type": "execute_result"
    }
   ],
   "source": [
    "# Build and save animation\n",
    "graphics_dir = Path('.') / '..' / '..' / 'graphics' / 'satellite'\n",
    "anim = ArtistAnimation(fig, artists_glm, interval=200., blit=False)\n",
    "anim.save(f'{graphics_dir}/glm.gif', writer='pillow')\n",
    "anim"
   ]
  }
 ],
 "metadata": {
  "kernelspec": {
   "display_name": "Python 3 (ipykernel)",
   "language": "python",
   "name": "python3"
  },
  "language_info": {
   "codemirror_mode": {
    "name": "ipython",
    "version": 3
   },
   "file_extension": ".py",
   "mimetype": "text/x-python",
   "name": "python",
   "nbconvert_exporter": "python",
   "pygments_lexer": "ipython3",
   "version": "3.9.7"
  }
 },
 "nbformat": 4,
 "nbformat_minor": 4
}
