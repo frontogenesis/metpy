{
 "cells": [
  {
   "cell_type": "code",
   "execution_count": 1,
   "metadata": {},
   "outputs": [],
   "source": [
    "from pathlib import Path\n",
    "from datetime import datetime\n",
    "from dateutil import tz\n",
    "\n",
    "import cartopy.crs as ccrs\n",
    "import cartopy.feature as cfeature\n",
    "import matplotlib.pyplot as plt\n",
    "import metpy\n",
    "from metpy.plots import USCOUNTIES\n",
    "import numpy as np\n",
    "import xarray as xr\n",
    "from siphon.catalog import TDSCatalog"
   ]
  },
  {
   "cell_type": "code",
   "execution_count": 2,
   "metadata": {},
   "outputs": [],
   "source": [
    "# Choices are 'Mesoscale-1', 'Mesoscale-2', 'CONUS', or 'FullDisk'\n",
    "SECTOR = 'CONUS'"
   ]
  },
  {
   "cell_type": "code",
   "execution_count": 3,
   "metadata": {},
   "outputs": [],
   "source": [
    "def get_satellite(sector ,channel: str):\n",
    "    satcat = TDSCatalog('https://thredds.ucar.edu/thredds/catalog/satellite/goes/east/products/CloudAndMoistureImagery/'\n",
    "                        f'{SECTOR}/Channel{channel}/current/catalog.xml')\n",
    "    dataset = satcat.datasets[0]\n",
    "    dataset = dataset.remote_access(use_xarray=True)\n",
    "    return dataset"
   ]
  },
  {
   "cell_type": "code",
   "execution_count": 4,
   "metadata": {},
   "outputs": [],
   "source": [
    "vis_channels = []\n",
    "\n",
    "for channel in ['01', '02', '03']:\n",
    "    if SECTOR == 'CONUS' and channel == '02':\n",
    "        ds = get_satellite(SECTOR, channel)\n",
    "        ds = ds[{'x': slice(None, None, 2), 'y': slice(None, None, 2)}]\n",
    "        vis_channels.append(ds)\n",
    "    else:\n",
    "        ds = get_satellite(SECTOR, channel)\n",
    "        vis_channels.append(ds)"
   ]
  },
  {
   "cell_type": "code",
   "execution_count": 5,
   "metadata": {},
   "outputs": [],
   "source": [
    "# Channel 1 is 'Blue', Channel 2 is 'Red', Channel 3 is 'Green'\n",
    "R = vis_channels[1].metpy.parse_cf('Sectorized_CMI').values\n",
    "G = vis_channels[2].metpy.parse_cf('Sectorized_CMI').values\n",
    "B = vis_channels[0].metpy.parse_cf('Sectorized_CMI').values"
   ]
  },
  {
   "cell_type": "code",
   "execution_count": 6,
   "metadata": {},
   "outputs": [],
   "source": [
    "# Apply range limits for each channel. RGB values must be between 0 and 1\n",
    "R = np.clip(R, 0, 1)\n",
    "G = np.clip(G, 0, 1)\n",
    "B = np.clip(B, 0, 1)"
   ]
  },
  {
   "cell_type": "code",
   "execution_count": 7,
   "metadata": {},
   "outputs": [],
   "source": [
    "# Apply a gamma correction to the image to correct ABI detector brightness\n",
    "gamma = 2.2\n",
    "R = np.power(R, 1/gamma)\n",
    "G = np.power(G, 1/gamma)\n",
    "B = np.power(B, 1/gamma)"
   ]
  },
  {
   "cell_type": "code",
   "execution_count": 8,
   "metadata": {},
   "outputs": [],
   "source": [
    "# Calculate the \"True\" Green\n",
    "G_true = 0.45 * R + 0.1 * G + 0.45 * B\n",
    "G_true = np.clip(G_true, 0, 1)  # apply limits again, just in case."
   ]
  },
  {
   "cell_type": "code",
   "execution_count": 9,
   "metadata": {},
   "outputs": [],
   "source": [
    "# The RGB array with the raw veggie band\n",
    "RGB_veggie = np.dstack([R, G, B])\n",
    "\n",
    "# The RGB array for the true color image\n",
    "RGB = np.dstack([R, G_true, B])"
   ]
  },
  {
   "cell_type": "code",
   "execution_count": 10,
   "metadata": {},
   "outputs": [],
   "source": [
    "data = vis_channels[0].metpy.parse_cf('Sectorized_CMI')\n",
    "proj = data.metpy.cartopy_crs\n",
    "x = data['x']\n",
    "y = data['y']\n",
    "\n",
    "def convert_datetime(mrms_time):\n",
    "    from_zone = tz.gettz('UTC')\n",
    "    to_zone = tz.gettz('America/New York')\n",
    "    utc_time = datetime.strptime(mrms_time, '%Y-%m-%dT%H:%M:%S').replace(tzinfo=from_zone)\n",
    "    eastern = utc_time.astimezone(to_zone)\n",
    "    date_time = datetime.strftime(eastern, '%a, %b %d, %Y %I:%M %p').lstrip('0').replace(' 0', ' ')\n",
    "    return date_time\n",
    "\n",
    "VALID_TIME = convert_datetime(str(data['time'].values).split('.')[0])"
   ]
  },
  {
   "cell_type": "code",
   "execution_count": 11,
   "metadata": {},
   "outputs": [],
   "source": [
    "def contrast_correction(color, contrast):\n",
    "    \"\"\"Modify the contrast of an RGB.\n",
    "    See:\n",
    "    https://www.dfstudios.co.uk/articles/programming/image-programming-algorithms/image-processing-algorithms-part-5-contrast-adjustment/\n",
    "\n",
    "    Input:\n",
    "        color    - an array representing the R, G, and/or B channel\n",
    "        contrast - contrast correction level\n",
    "    \"\"\"\n",
    "    F = (259*(contrast + 255))/(255.*259-contrast)\n",
    "    COLOR = F*(color-.5)+.5\n",
    "    COLOR = np.clip(COLOR, 0, 1)  # Force value limits 0 through 1.\n",
    "    return COLOR\n",
    "\n",
    "\n",
    "# Amount of contrast\n",
    "contrast_amount = 105\n",
    "\n",
    "# Apply contrast correction\n",
    "RGB_contrast = contrast_correction(RGB, contrast_amount)"
   ]
  },
  {
   "cell_type": "code",
   "execution_count": null,
   "metadata": {},
   "outputs": [],
   "source": [
    "# Build the plot\n",
    "fig = plt.figure(figsize=(1920/72, 1080/72))\n",
    "ax = fig.add_axes([0, 0, 1, 1], projection=ccrs.PlateCarree())\n",
    "\n",
    "#ax.set_extent([-110.5, -69.5, 20, 41])\n",
    "#ax.set_extent([-78, -23, 5, 33.5])\n",
    "ax.set_extent([-90.1, -75, 25.2, 30.5]) # Florida\n",
    "#ax.set_extent([-89, -75, 23, 37])\n",
    "\n",
    "\n",
    "ax.imshow(RGB_contrast, origin='upper',\n",
    "          extent=(x.min(), x.max(), y.min(), y.max()),\n",
    "          transform=proj, interpolation='none')\n",
    "\n",
    "ax.add_feature(USCOUNTIES.with_scale('20m'), edgecolor='lightgray', linewidth=0.75)\n",
    "ax.add_feature(cfeature.STATES.with_scale('10m'), linewidth=2.0)\n",
    "ax.set_adjustable('datalim')\n",
    "\n",
    "# Make the axis title\n",
    "ax.set_title(f'GOES-16 True Color Multispectral\\n{VALID_TIME}', loc='left', \n",
    "             ha='left', va='top', fontsize=48, fontname='Arial',\n",
    "             color='white', fontweight='bold', y=0.95, x=0.01,\n",
    "             bbox=dict(facecolor='navy', alpha=1.0, edgecolor='none'))\n",
    "\n",
    "# Save and show figure\n",
    "graphics_dir = Path('.') / '..' / '..' / 'graphics' / 'satellite'\n",
    "plt.savefig(f'{graphics_dir}/vis_truecolor.png', dpi=72)\n",
    "plt.show()"
   ]
  },
  {
   "cell_type": "code",
   "execution_count": null,
   "metadata": {},
   "outputs": [],
   "source": []
  }
 ],
 "metadata": {
  "kernelspec": {
   "display_name": "Python 3",
   "language": "python",
   "name": "python3"
  },
  "language_info": {
   "codemirror_mode": {
    "name": "ipython",
    "version": 3
   },
   "file_extension": ".py",
   "mimetype": "text/x-python",
   "name": "python",
   "nbconvert_exporter": "python",
   "pygments_lexer": "ipython3",
   "version": "3.9.2"
  }
 },
 "nbformat": 4,
 "nbformat_minor": 4
}
