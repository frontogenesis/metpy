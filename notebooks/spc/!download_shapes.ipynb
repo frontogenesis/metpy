{
 "cells": [
  {
   "cell_type": "code",
   "execution_count": 2,
   "metadata": {},
   "outputs": [],
   "source": [
    "import shutil\n",
    "import urllib.request as request\n",
    "from contextlib import closing\n",
    "import zipfile\n",
    "import os\n",
    "import glob\n",
    "\n",
    "shapefiles = {\n",
    "    \"categorical_day1\": \"https://www.spc.noaa.gov/products/outlook/day1otlk-shp.zip\",\n",
    "    \"categorical_day2\": \"https://www.spc.noaa.gov/products/outlook/day2otlk-shp.zip\",\n",
    "    \"categorical_day3\": \"https://www.spc.noaa.gov/products/outlook/day3otlk-shp.zip\",\n",
    "    \"categorical_day4\": \"https://www.spc.noaa.gov/products/exper/day4-8/day4prob-shp.zip\",\n",
    "    \"categorical_day5\": \"https://www.spc.noaa.gov/products/exper/day4-8/day5prob-shp.zip\",\n",
    "    \"categorical_day6\": \"https://www.spc.noaa.gov/products/exper/day4-8/day6prob-shp.zip\",\n",
    "    \"categorical_day7\": \"https://www.spc.noaa.gov/products/exper/day4-8/day7prob-shp.zip\",\n",
    "    \"categorical_day8\": \"https://www.spc.noaa.gov/products/exper/day4-8/day8prob-shp.zip\",\n",
    "    \"fire_day1\": \"https://www.spc.noaa.gov/products/fire_wx/day1firewx-shp.zip\",\n",
    "    \"fire_day2\": \"https://www.spc.noaa.gov/products/fire_wx/day2firewx-shp.zip\"\n",
    "}\n",
    "\n",
    "\n",
    "def clear_folder_contents(folder):\n",
    "  '''\n",
    "  Clears all contents of folder specified in the argument\n",
    "  '''\n",
    "  for file in os.listdir(folder):\n",
    "    file_path = os.path.join(folder, file)\n",
    "    try:\n",
    "      if os.path.isfile(file_path):\n",
    "        os.unlink(file_path)\n",
    "      elif os.path.isdir(file_path): shutil.rmtree(file_path)\n",
    "    except Exception as e:\n",
    "      print(e)\n",
    "\n",
    "\n",
    "def download_zip_file(file_url: str):\n",
    "  '''\n",
    "  Downloads a zip file and extracts it in a target directory of choice\n",
    "  '''\n",
    "  file = file_url.split('/')[-1]\n",
    "  folder = file.split('.')[0]\n",
    "\n",
    "  with closing(request.urlopen(file_url)) as r:\n",
    "    with open(file, 'wb') as f:\n",
    "      shutil.copyfileobj(r, f)\n",
    "  \n",
    "  with zipfile.ZipFile(file, \"r\") as zip_ref:\n",
    "    zip_ref.extractall(f\"data/\")\n",
    "    zip_ref.close()\n",
    "\n",
    "\n",
    "# Clear directories before getting data\n",
    "clear_folder_contents('data')\n",
    "\n",
    "# Get the shapefiles\n",
    "for url in shapefiles:\n",
    "    download_zip_file(shapefiles[url])\n",
    "\n",
    "# Move zips\n",
    "if not os.path.exists('data/zips'):\n",
    "    os.makedirs('data/zips')\n",
    "    \n",
    "for zip_file in glob.glob(f\"{os.getcwd()}/*.zip\"):\n",
    "  head, tail = os.path.split(zip_file)\n",
    "  shutil.move(zip_file, f\"data/zips/{tail}\")"
   ]
  },
  {
   "cell_type": "code",
   "execution_count": 6,
   "metadata": {},
   "outputs": [
    {
     "name": "stderr",
     "output_type": "stream",
     "text": [
      "[NbConvertApp] Converting notebook download_shapes.ipynb to script\n",
      "[NbConvertApp] Writing 2858 bytes to download_shapes.py\n"
     ]
    }
   ],
   "source": [
    "!jupyter nbconvert --to script download_shapes.ipynb"
   ]
  },
  {
   "cell_type": "code",
   "execution_count": null,
   "metadata": {},
   "outputs": [],
   "source": []
  }
 ],
 "metadata": {
  "kernelspec": {
   "display_name": "Python 3",
   "language": "python",
   "name": "python3"
  },
  "language_info": {
   "codemirror_mode": {
    "name": "ipython",
    "version": 3
   },
   "file_extension": ".py",
   "mimetype": "text/x-python",
   "name": "python",
   "nbconvert_exporter": "python",
   "pygments_lexer": "ipython3",
   "version": "3.7.8"
  }
 },
 "nbformat": 4,
 "nbformat_minor": 4
}
